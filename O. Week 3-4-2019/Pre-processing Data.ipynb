{
 "cells": [
  {
   "cell_type": "markdown",
   "metadata": {},
   "source": [
    "# Pre-processing Data"
   ]
  },
  {
   "cell_type": "markdown",
   "metadata": {},
   "source": [
    "Address overfitting concerns"
   ]
  },
  {
   "cell_type": "code",
   "execution_count": 1,
   "metadata": {},
   "outputs": [],
   "source": [
    "import pandas as pd\n",
    "import seaborn as sns\n",
    "import matplotlib.pyplot as plt\n",
    "import json\n",
    "from datetime import datetime\n",
    "import numpy as np"
   ]
  },
  {
   "cell_type": "code",
   "execution_count": 140,
   "metadata": {},
   "outputs": [],
   "source": [
    "DM = pd.read_csv('DMChartEvents.csv',usecols=[\"hadm_id\", \"subject_id\", \"itemid\", \"charttime\",\"valuenum\"])\n",
    "DM = DM.sort_values(by=['charttime'])\n",
    "Admissions = pd.read_csv('Admissions.csv',index_col=2)\n",
    "Patients = pd.read_csv('Patients.csv',index_col=1)"
   ]
  },
  {
   "cell_type": "code",
   "execution_count": 3,
   "metadata": {},
   "outputs": [],
   "source": [
    "hadm_id = []\n",
    "subject_id = []\n",
    "for index,row in DM.iterrows():\n",
    "    if(row['hadm_id'] not in hadm_id):\n",
    "        hadm_id.append(row['hadm_id'])\n",
    "        subject_id.append(row['subject_id'])"
   ]
  },
  {
   "cell_type": "code",
   "execution_count": 141,
   "metadata": {},
   "outputs": [],
   "source": [
    "d = {'hadm_id': hadm_id, 'subject_id': subject_id}\n",
    "finalDF = pd.DataFrame(data=d)\n",
    "finalDF['expire_flag'] = 0"
   ]
  },
  {
   "cell_type": "code",
   "execution_count": 142,
   "metadata": {},
   "outputs": [],
   "source": [
    "for index,row in finalDF.iterrows():\n",
    "    expire_flag = Admissions.loc[row['hadm_id'],'HOSPITAL_EXPIRE_FLAG']\n",
    "    finalDF.at[index,'expire_flag'] = expire_flag"
   ]
  },
  {
   "cell_type": "code",
   "execution_count": 143,
   "metadata": {},
   "outputs": [
    {
     "data": {
      "image/png": "[encoded data removed]",
      "text/plain": [
       "<Figure size 432x288 with 1 Axes>"
      ]
     },
     "metadata": {},
     "output_type": "display_data"
    },
    {
     "name": "stdout",
     "output_type": "stream",
     "text": [
      "Alive:  12217\n",
      "Not Alive:  1443\n"
     ]
    }
   ],
   "source": [
    "alive = 0\n",
    "dead = 0\n",
    "for index,row in finalDF.iterrows():\n",
    "    if(row['expire_flag'] == 1):\n",
    "        dead = dead+1\n",
    "    else:\n",
    "        alive = alive+1\n",
    "        \n",
    "labels = 'Alive', 'Not Alive'\n",
    "sizes = [alive,dead]\n",
    "\n",
    "fig1, ax1 = plt.subplots()\n",
    "ax1.pie(sizes, labels=labels, autopct='%1.1f%%',\n",
    "        shadow=True, startangle=90)\n",
    "ax1.axis('equal')  \n",
    "\n",
    "plt.show()\n",
    "print(\"Alive: \", alive)\n",
    "print(\"Not Alive: \", dead)"
   ]
  },
  {
   "cell_type": "code",
   "execution_count": 144,
   "metadata": {},
   "outputs": [],
   "source": [
    "finalDF['diagnosis'] = ''\n",
    "for index,row in finalDF.iterrows():\n",
    "    diagnosis = Admissions.loc[row['hadm_id'],'DIAGNOSIS']\n",
    "    finalDF.at[index,'diagnosis'] = diagnosis"
   ]
  },
  {
   "cell_type": "code",
   "execution_count": 145,
   "metadata": {},
   "outputs": [],
   "source": [
    "finalDF['admission_type'] = ''\n",
    "for index,row in finalDF.iterrows():\n",
    "    admission_type = Admissions.loc[row['hadm_id'],'ADMISSION_TYPE']\n",
    "    finalDF.at[index,'admission_type'] = admission_type"
   ]
  },
  {
   "cell_type": "code",
   "execution_count": 146,
   "metadata": {},
   "outputs": [],
   "source": [
    "finalDF['age'] = 0\n",
    "for index,row in finalDF.iterrows():\n",
    "    birth = Patients.loc[row['subject_id'],'DOB']\n",
    "    birth = datetime.strptime(birth, '%Y-%m-%d %H:%M:%S')\n",
    "    birth_year = birth.year\n",
    "    current = Admissions.loc[row['hadm_id'],'ADMITTIME']\n",
    "    current = datetime.strptime(current, '%Y-%m-%d %H:%M:%S')\n",
    "    current_year = current.year\n",
    "    age = current_year-birth_year\n",
    "    finalDF.at[index,'age'] = age"
   ]
  },
  {
   "cell_type": "code",
   "execution_count": 147,
   "metadata": {},
   "outputs": [],
   "source": [
    "glucoseNumbers = {}\n",
    "for index,row in DM.iterrows():\n",
    "    glucoseNumbers.setdefault(row['hadm_id'], []).append(row['valuenum'])"
   ]
  },
  {
   "cell_type": "code",
   "execution_count": 148,
   "metadata": {},
   "outputs": [],
   "source": [
    "finalDF['glucose'] = np.array\n",
    "for index,row in finalDF.iterrows():\n",
    "    glucose = glucoseNumbers[row['hadm_id']]\n",
    "    finalDF.at[index,'glucose'] = glucose"
   ]
  },
  {
   "cell_type": "code",
   "execution_count": 149,
   "metadata": {},
   "outputs": [],
   "source": [
    "from sklearn.preprocessing import LabelEncoder"
   ]
  },
  {
   "cell_type": "code",
   "execution_count": 150,
   "metadata": {},
   "outputs": [],
   "source": [
    "le_admission_type = LabelEncoder()\n",
    "finalDF['admission_type_encoded'] = le_admission_type.fit_transform(finalDF.admission_type)"
   ]
  },
  {
   "cell_type": "code",
   "execution_count": 151,
   "metadata": {},
   "outputs": [],
   "source": [
    "from keras.preprocessing.text import Tokenizer"
   ]
  },
  {
   "cell_type": "code",
   "execution_count": 152,
   "metadata": {},
   "outputs": [
    {
     "name": "stdout",
     "output_type": "stream",
     "text": [
      "   hadm_id  subject_id  expire_flag                diagnosis admission_type  \\\n",
      "0   137275        9319            0        LEFT RENAL CA/SDA       ELECTIVE   \n",
      "1   125380       31585            0                PNEUMONIA      EMERGENCY   \n",
      "2   132722        1426            0  LEFT FRONTAL HEMORRHAGE      EMERGENCY   \n",
      "3   101422       71582            0          AORTIC STENOSIS      EMERGENCY   \n",
      "4   139687       68501            0     CAROTID STENOSIS/SDA       ELECTIVE   \n",
      "\n",
      "   age                                            glucose  \\\n",
      "0   82  [167.0, 157.0, 157.0, 143.0, 143.0, 113.0, 113...   \n",
      "1  300  [127.0, 127.0, 127.0, 113.0, 113.0, 113.0, 133...   \n",
      "2   80  [172.0, 165.0, 165.0, 154.0, 154.0, 205.0, 205...   \n",
      "3   76  [140.0, 164.0, 178.0, 109.0, 158.0, 157.0, 139...   \n",
      "4   86                [251.0, 163.0, 121.0, 180.0, 162.0]   \n",
      "\n",
      "   admission_type_encoded  \n",
      "0                       0  \n",
      "1                       1  \n",
      "2                       1  \n",
      "3                       1  \n",
      "4                       0  \n"
     ]
    }
   ],
   "source": [
    "print(finalDF.head())"
   ]
  },
  {
   "cell_type": "code",
   "execution_count": 153,
   "metadata": {},
   "outputs": [],
   "source": [
    "finalDF.diagnosis = finalDF.diagnosis.astype(str)\n",
    "tokenizer = Tokenizer(num_words=300, split=';')\n",
    "tokenizer.fit_on_texts(finalDF['diagnosis'])\n",
    "finalDF['diagnosis_tokenized'] = tokenizer.texts_to_sequences(finalDF['diagnosis'])"
   ]
  },
  {
   "cell_type": "code",
   "execution_count": 154,
   "metadata": {},
   "outputs": [
    {
     "name": "stdout",
     "output_type": "stream",
     "text": [
      "{'sda': 1, 'coronary artery disease': 2, 'congestive heart failure': 3, 'pneumonia': 4, 'chest pain': 5, 'diabetic ketoacidosis': 6, 'telemetry': 7, 'sepsis': 8, 'cath': 9, 's': 10, 'coronary artery bypass graft ': 11, 'coronary artery bypass graft': 12, 'altered mental status': 13, 'hypotension': 14, 'fever': 15, 'aortic stenosis': 16, 'gastrointestinal bleed': 17, 'stroke': 18, 'upper gi bleed': 19, 'abdominal pain': 20, 'acute renal failure': 21, 'myocardial infarction': 22, 'asthma': 23, 'lower gi bleed': 24, 'intracranial hemorrhage': 25, 'unstable angina': 26, 'urinary tract infection': 27, 'cardiac cath': 28, 'acute coronary syndrome': 29, 'shortness of breath': 30, 'transient ischemic attack': 31, 'cellulitis': 32, 'hyperglycemia': 33, 'respiratory failure': 34, 'p fall': 35, 'copd exacerbation': 36, 'renal failure': 37, 'pancreatitis': 38, 'dyspnea': 39, 'r': 40, 'hypoglycemia': 41, 'pyelonephritis': 42, 'anemia': 43, 'hypoxia': 44, ' ': 45, 'non': 46, 'seizure': 47, 'syncope': 48, 'respiratory distress': 49, 'subarachnoid hemorrhage': 50, 'gi bleed': 51, 'acute myocardial infarction': 52, 'bradycardia': 53, 'rule': 54, 'subdural hematoma': 55, 'upper gastrointestinal bleed': 56, 'hyperkalemia': 57, 'liver failure': 58, 'aortic valve replacement ': 59, 'out myocardial infarction': 60, 'pulmonary edema': 61, 'chronic obst pulm disease': 62, 'hyponatremia': 63, 'ett': 64, 'atrial fibrillation': 65, 'st segment elevation myocardial infarction': 66, 'angina': 67, 'aortic valve replacement': 68, 'lower gastrointestinal bleed': 69, 'cholangitis': 70, 'vomiting': 71, 'cardiac arrest': 72, 'carotid stenosis': 73, 'left heart catheterization': 74, 'urosepsis': 75, 'st elevated myocardial infarction': 76, 'hypertension': 77, 'dehydration': 78, 'coronary artery bypass graft with avr ': 79, 'tia': 80, 'weakness': 81, 'pulmonary embolis': 82, 'stemi': 83, 'acute subdural hematoma': 84, 'chf': 85, 'cholecystitis': 86, 'mental status changes': 87, 'chronic renal failure': 88, 'head bleed': 89, 'cerebrovascular accident': 90, 'abdominal aortic aneurysm': 91, 'pleural effusion': 92, 'cardiomyopathy': 93, 'cardiac catheterization': 94, 'nausea': 95, 'cad': 96, 'mitral valve replacement': 97, 'brain mass': 98, 'tracheal stenosis': 99, 'cirrhosis': 100, 'o mi': 101, 'small bowel obstruction': 102, 'hemoptysis': 103, 'p motor vehicle accident': 104, 'ventricular tachycardia': 105, 'bowel obstruction': 106, 'dka': 107, 'blunt trauma': 108, 'heart failure': 109, 'p cardiac arrest': 110, 'diarrhea': 111, 'peripheral vascular disease': 112, 'subdural hemorrhage': 113, 'unresponsive': 114, 'intraparenchymal hemorrhage': 115, 'carotid angiogram': 116, 'diabetes mellitus': 117, 'ascites': 118, 'hip fracture': 119, 'hypertensive emergency': 120, 'pancreatic mass': 121, 'pericardial effusion': 122, 'morbid obesity': 123, 'esophageal ca': 124, 'complete heart block': 125, 'hypertensive urgency': 126, 'endocarditis': 127, 'failure to thrive': 128, 'angioedema': 129, 'mr': 130, 'airway obstruction': 131, 'uti': 132, 'claudication': 133, 'wound infection': 134, 'mitral regurgitation': 135, 'sternal wound infection': 136, 'encephalopathy': 137, 'gastroparesis': 138, 'end stage renal disease': 139, 'seizures': 140, 'hepatic encephalopathy': 141, 'angioplasty': 142, 'bacteremia': 143, 'mi': 144, 'non q mi': 145, 'pulmonary embolism': 146, 'lung cancer': 147, 'tachycardia': 148, 'right and left heart cath': 149, 'o myocardial infarction': 150, 'mitral stenosis': 151, 'lung ca': 152, 'v': 153, 'brain tumor': 154, ' coronary artery bypass graft ': 155, 'transcatheter aortic valve implant ': 156, 'tavi': 157, 'pna': 158, 'left heart cath': 159, 'back pain': 160, 'sah': 161, 'diabetes': 162, 'coronary artery bypass graft with mvr ': 163, 'septic shock': 164, 'remote west': 165, 'aortic dissection': 166, ' renal failure': 167, 'end stage liver disease': 168, 'p mi': 169, 'motor vehicle accident': 170, 'cardiogenic shock': 171, 'fall': 172, 'jaundice': 173, 'gangrene': 174, 'variceal bleed': 175, 'pre': 176, 'stent placement': 177, 'diverticulitis': 178, 'hypernatremia': 179, 'headache': 180, 'non st elevation myocardial infarction': 181, 'p arrest': 182, 'tracheobronchomalacia': 183, ' r': 184, 'hematuria': 185, 'sob': 186, 'ich': 187, 'change in mental status': 188, 'pulmonary embolus': 189, 'abscess': 190, 'liver transplant': 191, 'copd': 192, ' s': 193, 'acute mi': 194, 'osteomyelitis': 195, 'intracranial bleed': 196, ' re': 197, 'esophageal cancer': 198, 'overdose': 199, 'ischemic bowel': 200, 'shock': 201, 'hypothermia': 202, 'pvd': 203, 'p liver transplant': 204, 'aspiration pneumonia': 205, 'chronic obstructive pulmonary disease': 206, 'necrotizing pancreatitis': 207, 'ekg changes': 208, 'p kidney transplant': 209, 'abdominal abscess': 210, 'epidural abscess': 211, 'coronary artery bypass graft with avr': 212, 'mitral valve replacement ': 213, ' avr': 214, 'crf': 215, 'bladder ca': 216, 'hematemesis': 217, 'lumbar stenosis': 218, 'aneurysm': 219, ' coronary artery bypass graft': 220, 'nstemi': 221, 'status post motor vehicle accident with injuries': 222, 'renal insufficiency': 223, 'trauma': 224, ' hypotension': 225, 'by ': 226, 'corevalve': 227, 'bright red blood per rectum': 228, 'heart block': 229, 'aortic valve disease': 230, 'acute pancreatitis': 231, ' maze': 232, 'carotid artery stenosis': 233, 'femur fracture': 234, 'diabetic keto acidosis': 235, 'rectal bleeding': 236, 'q': 237, 'fib': 238, 'chf exacerbation': 239, 'stridor': 240, 'thoracic aortic aneurysm': 241, 'ventral hernia': 242, 'cabg': 243, 'imi': 244, 'gallstone pancreatitis': 245, 'st elevation mi': 246, 'methicillin resistant staph aureus': 247, ' with pump stand': 248, 'st elevation myocardial infarction': 249, 'acidosis': 250, 'subarachnoid hematoma': 251, 'thrombocytopenia': 252, 'c': 253, 'ischemia': 254, 'do': 255, 'wave myocardial infarction': 256, 'pancreas transplant': 257, 'cva': 258, 'a': 259, 'incisional hernia': 260, 'rectal cancer': 261, ' mitral valve replacement': 262, 'arf': 263, 'myocardial infarct': 264, ' mvr': 265, 'mental status change': 266, ' chf': 267, 'atrial flutter': 268, 'gallstones': 269, 'right hip fracture': 270, 'deep vein thrombosis': 271, 'hypercarbic respiratory failure': 272, 'aortic valve ': 273, ' hypoglycemia': 274, ' mitral valve replacement ': 275, ' cath': 276, ' w': 277, 'liver mass': 278, 'spontaneous bacterial peritonitis': 279, 'ercp ': 280, 'injuries': 281, ' chest pain': 282, 'aortic insufficiency': 283, 'dm': 284, 'afib': 285, 'dyspnea on exertion': 286, 'non st elevation mi': 287, 'avr': 288, 'head injury': 289, 'pelvic mass': 290, ' sepsis': 291, 'aaa': 292, 'etoh withdrawal': 293, 'hepatorenal syndrome': 294, 'cerebral vascular accident': 295, 'colon ca': 296, 'colon cancer': 297, 'carotid angiogram and stent': 298, 'etiology unknown': 299, 'severe aortic stenosis': 300, 'non q wave myocardial infarction': 301, 'polytrauma': 302, 'cardiac ischemia': 303, 'cardiac catherization': 304, 'critical aortic stenosis': 305, 'pulmonary hypertension': 306, 'tracheobronchiomalacia': 307, 'non healing ulcer': 308, 'appendicitis': 309, 'colitis': 310, 'renal artery stenosis': 311, 'hypokalemia': 312, 'infection': 313, 'cp': 314, 'd': 315, 'epistaxis': 316, 'st': 317, 'lymphoma': 318, 'abdominal abcess': 319, 'renal ca': 320, 'pulmonary vein isolation  ': 321, 'post arrest': 322, ' cad': 323, 'left hip fracture': 324, 'abd pain': 325, 'aml': 326, ' acute myelogenous leukemia': 327, 'pericardial tamponade': 328, 'bronchoscopy rigid': 329, 'do sternotomy': 330, 'pancreatic ca': 331, 'cerebral aneurysm': 332, 'ugib': 333, 'vtach': 334, 'infected left foot': 335, 'choledocholithiasis': 336, 'thoracic aneurysm': 337, ' gi bleed': 338, 'meningioma': 339, 'aortic valve insuffiency': 340, 'meningitis': 341, 'infected graft': 342, 'c spine fracture': 343, 'off pump coronary artery bypass ': 344, 'status epilepticus': 345, 'elevated creatinine': 346, 'tracheobronchial malacia': 347, 'pedestrian struck': 348, 'n': 349, 'respiratory arrest': 350, 'o pneumonia': 351, 'alcohol withdrawal': 352, 'fib arrest': 353, 'gallstone': 354, 'pancreatic pseudocyst': 355, 'subglottic stenosis': 356, 'ischemic foot': 357, 'c6 fracture': 358, 'copd flare': 359, 'left knee osteoarthritis': 360, ' mvr ': 361, ' fever': 362, 'endoscopic retrograde cholangiopancreatography': 363, 'mvr': 364, 'line infection': 365, 'severe ischemia': 366, 'rule out coronary artery disease': 367, 'tach': 368, 'exacerbation': 369, 'tracheomalacia': 370, 'leg pain': 371, 'hypercalcemia': 372, 'bladder cancer': 373, 'v tach': 374, 'unresponsiveness': 375, 'status post cardiac arrest': 376, 'coronary angiogram': 377, 'mesenteric ischemia': 378, 'rapid afib': 379, ' left': 380, 'aortic valve replacement redo ': 381, 'inferior myocardial infarction': 382, 'neutropenia': 383, ' ascending aorta replacement ': 384, 'nausea w': 385, 'transesophageal echocardiogram': 386, 'spinal stenosis': 387, 'intracerebral hemorrhage': 388, 'lithium toxicity': 389, 'asthma exacerbation': 390, 'bile leak': 391, 'perforated bowel': 392, 'head trauma': 393, 'sub arachnoid hemorrhage': 394, 'ercp': 395, 'biliary colic': 396, ' right': 397, 'rule out myocardial infarction': 398, 'gangrene left foot': 399, 'rash': 400, 'resp failure': 401, 'pylonephritis': 402, 'cervical spine fracture': 403, 'pericardial tap': 404, 'ischemic colitis': 405, 'non q wave mi': 406, 'dysphagia': 407, 'interstitial lung disease': 408, 'myasthenia gravis': 409, 'tamponade': 410, 'apnea': 411, 'retroperitoneal bleed': 412, ' pneumonia': 413, 'new onset diabetes': 414, 'hip pain': 415, 'obstructive jaundice': 416, 'acute respiratory failure': 417, 'gastroenteritis': 418, 'cholangiocarcinoma': 419, 'stent': 420, ' acute renal failure': 421, ' hyperglycemia': 422, 'anasarca': 423, 'hepatitis': 424, 'aspiration': 425, 'allergic reaction': 426, 'rapid atrial fibrillation': 427, 'multiple myeloma': 428, 'etoh cirrhosis': 429, 'ischemic left foot': 430, 'fever of unknown origin': 431, 'lethargy': 432, 'leukemia': 433, 'left foot ulcer': 434, ' stent placement': 435, 'bental procedure ': 436, 'rvr': 437, 'ped struck': 438, 'adult respiratory distress syndrome': 439, 'fevers': 440, 'ischemic right foot': 441, 'ischemic leg': 442, 'left leg cellulitis': 443, 'hip fx': 444, 'q wave mi': 445, 'p cabg': 446, 'ascending aortic aneurysm': 447, 'anterior mi': 448, 'post': 449, 'cholelithiasis': 450, 'left carotid stenosis': 451, 'arrest': 452, \"fournier's gangrene\": 453, 'lgib': 454, 'pea arrest': 455, 'ards': 456, 'pancreatic cancer': 457, 'cervical myelopathy': 458, 'segment elevation myocardial infarction': 459, 'pneumothorax': 460, 'subdural bleed': 461, 'coronary artery bypass graft w': 462, 'nqwmi': 463, 'right heart cath': 464, ' respiratory failure': 465, 'right and left heart catheterization': 466, 'breast cancer': 467, 'status post kidney transplant': 468, 'ulcerative colitis': 469, 'bone marrow transplant': 470, 'hematoma': 471, 'cardioversion': 472, ' aortic valve replacement ': 473, 'prostate ca': 474, 'intercranial hemorrhage': 475, \"crohn's disease\": 476, 'right knee oa': 477, 'acute liver failure': 478, 'intraventricular hemorrhage': 479, ' aortic valve replacement': 480, 'diabetic foot ulcer': 481, 'spine fracture': 482, 'pericardiocentesis': 483, 'obstruction': 484, 'status post myocardial infarction': 485, 'multiple trauma': 486, 'volvulus': 487, 're': 488, 'tracheal malasia': 489, 'melena': 490, 'p myocardial infarction': 491, ' coronary artery bypass graft  ': 492, 'right foot ulcer': 493, 'st elevation': 494, 'cardiac tamponade': 495, 'chronic renal insufficiency': 496, 'pericarditis': 497, 'p assault': 498, 'ascending cholangitis': 499, 'right hip osteoarthritis': 500, 'common bile duct stones': 501, 'pancreatic failure': 502, 'bowel perforation': 503, 'confusion': 504, 'biventricular icd implantation': 505, 'hepatocellular carcinoma': 506, 'septic': 507, 'new brain mass': 508, 'cervical stenosis': 509, 'aortic valve stenosis': 510, 'maze': 511, 'fever unknown origin': 512, 'origin unknown': 513, 'pancreas tx': 514, 'cornary artery disease': 515, ' dehydration': 516, 'found down': 517, 'gastric cancer': 518, 'p kidney': 519, 'congestive heart failure exacerbation': 520, 'right lung ca': 521, ' cellulitis': 522, 'left foot gangrene': 523, 'suicidal ideation': 524, 'goiter': 525, 'pulmonary hemorrhage': 526, '3rd degree heart block': 527, 'line sepsis': 528, 'recurrent chest pain': 529, 'avr ': 530, 'kidney tx': 531, 'vancomycin resistant enterococcus': 532, 'c2 fracture': 533, ' tvr': 534, 'cerebellar hemorrhage': 535, ' endocarditis': 536, 'as': 537, 'septal defect': 538, 'right upper quadrant pain': 539, 'intra': 540, 'p coronary artery bypass graft': 541, 'p renal transplant': 542, 'left renal mass': 543, 'positive stress test': 544, 'sacral fracture': 545, 'liver tx': 546, 'left carotid angiogram': 547, 'acute leukemia': 548, 'presyncope': 549, 'pharmacological ': 550, 'atrial tachycardia': 551, ' congestive heart failure': 552, 'elevated inr': 553, 'mitral valve regurgitation': 554, ' with avr': 555, ' aspiration pneumonia': 556, 'aflutter': 557, 'aortic and mitral valve replacement ': 558, 'dizziness': 559, 'aortic valve insufficiency': 560, 'kidney transplant': 561, 'foot infection': 562, 'neck pain': 563, 'left pleural effusion': 564, 'rectal prolapse': 565, 'ovarian cancer': 566, 'ulcer': 567, 'elevated troponin': 568, ' ascending aorta replacement': 569, 'necrotic toe': 570, 'right lower extremity angiogram': 571, 'chemo': 572, 'influenza': 573, 'right lung cancer': 574, 'p cath': 575, 'left lower extremity angiogram': 576, 'gangrene right foot': 577, 'tongue swelling': 578, 'incarcerated hernia': 579, 'facial fractures': 580, 'peripheral angiogram': 581, 'o sepsis': 582, 'acute respiratory distress syndrome': 583, 'p kidney tx': 584, 'right foot cellulitis': 585, 'mediastinal mass': 586, 'drug refractory atrial fibrillation': 587, 'biliary obstruction': 588, 'acute stroke': 589, 'skull fx': 590, 'ventricular fibrillation arrest': 591, 'bleeding': 592, 't': 593, 'leukocytosis': 594, ' urosepsis': 595, 'central airway obstruction': 596, 'p cva': 597, '3 vessel disease': 598, 'hemothorax': 599, 'p transplant': 600, 'stenosis': 601, ' diabetes': 602, 'htn urgency': 603, 'scoliosis': 604, ' syncope': 605, 'out myocardial infraction': 606, 'anaphylaxis': 607, 'rib fractures': 608, 'scrotal abscess': 609, 'left foot infection': 610, 'right carotid stenosis': 611, ' seizures': 612, 'tracheal obstruction': 613, 'p non q mi': 614, 'tylenol overdose': 615, ' proximal arch': 616, 'left main disease': 617, 'coronary artery bypass graft with ': 618, 'p ercp': 619, ' uti': 620, 'sdh': 621, ' tia': 622, 'ischemic right leg': 623, 'poly trauma': 624, 'diabetes ketoacidosis': 625, 'motor vehicle accident with unspecified injuries': 626, 'kidney failure': 627, 'cord compression': 628, ' esrd': 629, 'atherosclerosis w': 630, ' aortic stenosis': 631, 'bilateral thoracoscopic mini maze procedure with left atrial appendage resection ': 632, 'abdominal wound infection': 633, 'pancreatic tumor': 634, 'food impaction': 635, 'op pancreas transplant': 636, 'left renal stone': 637, 'p bronchoscopy': 638, 'coronary stent': 639, 'epigastric pain': 640, 'hiv': 641, 'foot ulcers': 642, 'constipation': 643, 'peritonitis': 644, 'cath with intervention': 645, 'right leg weakness': 646, 'inferior stemi': 647, ' pe': 648, 'hepatic failure': 649, 'claudication ': 650, 'septic knee': 651, 'left lower lobe nodule': 652, 'multifocal pna': 653, 'o cad': 654, 'myasthenia crisis': 655, 'angina pectoris': 656, 'fractures': 657, 'low hematocrit': 658, 'hypoxemia': 659, 'supraventricular tachycardia': 660, 'gastroesophageal reflux disease': 661, 'pe': 662, 'aspirin desensitization': 663, 'intracranial mass': 664, 'acute pulmonary edema': 665, 'esophageal stricture': 666, 'left frontal meningioma': 667, 'uit': 668, 'tube placement': 669, 'hypoxic': 670, 'rhabdomyolysis': 671, 'empyema': 672, 'non st elevated myocardial infarction': 673, 'cbd stone': 674, \"ludwig's angina\": 675, 'elevated creatnine': 676, 'left anterior descending angioplasty': 677, 'pituitary tumor': 678, 'ams': 679, ' abnormal stress test': 680, 'bronchitis': 681, 'discitis': 682, 'brbpr': 683, 'transient ischemic attack ': 684, ' percutaneous approach  ': 685, '3 vessel coronary artery disease': 686, 'b': 687, '  ': 688, 'ulcerative colitis chronic': 689, ' right lower extremity': 690, 'tachypnea': 691, 'renal mass': 692, 'l': 693, ' myocardial infarction': 694, 'rib fx': 695, 'open wound': 696, 'partial small bowel obstruction': 697, 'left sided weakness': 698, 'systolic heart failure': 699, 'biventricular pacemaker implant': 700, 'hiatal hernia': 701, 'arterial occlusion': 702, 'dig toxicity': 703, 'urinary retention': 704, 'foreign body ingestion': 705, 'prostate cancer': 706, ' lvad': 707, 'new cva': 708, 'lower extremity weakness': 709, 'transplant': 710, 'gastrointetinal bleed': 711, 'mediastinitis': 712, 'hypertrophic cardiomyopathy': 713, 'post op bleeding': 714, 'complete heart cath': 715, 'open wound scalp': 716, 'aortic stanosis': 717, 'facial fx': 718, 'oa left knee': 719, 'op liver transplant': 720, 'svt': 721, 'edema': 722, 'status post liver transplant': 723, 'hemorrhagic stroke': 724, 'ischemic left leg': 725, 'catherization': 726, 'decompensated cirrhosis': 727, 'neutropenic fever': 728, 'wet gangrene': 729, 'critical carotid stenosis': 730, 'flash pulmonary edema': 731, ' minimally invasive': 732, 'bilateral subarachnoid hemorrhage': 733, 'high inr': 734, ' mi': 735, 'asd': 736, 'repair atrial': 737, 'bile duct injury': 738, ' cardiac cath': 739, ' off pump coronary artery bypass': 740, 'coronary artery bypass graft with avr redo ': 741, ' hyperkalemia': 742, 'hypoglycemic': 743, 'aspirin overdose': 744, 'osteomylitis': 745, 'respitory failure': 746, 'pnemonia': 747, 'st myocardial infarction': 748, 'subarachnoid bleed': 749, 'palpitations': 750, 'pancytopenia': 751, 'ventricular tachycardia ablation': 752, 'delirium': 753, 'dens fracture': 754, ' cardiomyopathy': 755, 'mitral valve replacement minimally invasive approach': 756, 'right carotid angiogram': 757, 'mitral regurg': 758, 'right renal mass': 759, ' maze procedure': 760, 'tips  ': 761, ' remote west ': 762, ' non pharm mgmt afib ablation ': 763, 'tracheal bronchial malacia': 764, 'mitral valve disease': 765, 'l heart cath': 766, 'mitral valve disorder': 767, ' tricuspic valve replacement': 768, 'acute myelogenous leukemia': 769, 'humerus fracture': 770, ' right hip fracture': 771, 'hypotention': 772, 'altered mental status changes': 773, 'hypoglycemic seizure': 774, 'stress test': 775, 'endometrial cancer': 776, 'o tb': 777, 'metabolic acidosis': 778, 'carotid stenosis left': 779, 'co2 narcosis': 780, 'chole': 781, 'ms changes': 782, 'new onset angina': 783, 'skull fracture': 784, 'clotted graft': 785, ' left atrial appendage ligation': 786, 'pelvic fracture': 787, 'non s': 788, 'breast ca': 789, 'hepatoma': 790, 'arrythmia': 791, ' umbilical hernia': 792, 'm': 793, 'post ercp': 794, 'chr': 795, 'afib with rvr': 796, 'pseudocyst': 797, 'o flu': 798, 'atrial flutter ablation ': 799, 'carotid stenosis right': 800, ' arrest': 801, ' pyelonephritis': 802, 'brain bleed': 803, 'pelvic fx': 804, ' non st elevation myocardial infarction': 805, 'aortic valve disorder': 806, 'common bile duct stone': 807, 'aortic valve replacement  ': 808, ' vomiting': 809, 'respiratory acidosis': 810, 'vocal cord lesion': 811, 'hypercarbia': 812, 'metastatic colon ca': 813, ' c5': 814, ' mitral valve replacement redo': 815, \"barrett's esophagus\": 816, 'telemtry': 817, ' with mvr': 818, 'l3': 819, 'left lung cancer': 820, ' bradycardia': 821, 'diabetic foot': 822, 'abnormal stress test': 823, ' maze ': 824, 'left non': 825, 'p motorcycle accident': 826, 'femur fx': 827, 'delerium': 828, 'o cerebrovascular accident': 829, '  coronary artery bypass graft ': 830, 'non st segment elevation myocardial infarction': 831, 'gastric ca': 832, 'aortic aneurysm': 833, 'necrotizing fasciitis': 834, 'vt': 835, 'interior myocardial infarction': 836, 'end stage liver failure': 837, ' aortic ': 838, ' direct access ': 839, 'groin cellulitis': 840, 'left knee oa': 841, 'liver hemorrhage': 842, 'multiple sclerosis': 843, 'hepatitis c': 844, 'carotis angiogram': 845, 'rectal ca': 846, 'atrial flutter ablation': 847, 'hemorrhagic shock': 848, 'wound dehiscence': 849, 'coronary artery bypass graftwith avr ': 850, 'lead extraction': 851, 'copd excerbation': 852, 'dvt': 853, 'head mass': 854, 'bleeding av fistula': 855, ' redo': 856, 'v fib arrest': 857, 'uremia': 858, 'decubitus ulcer': 859, 'renal cell carcinoma': 860, 'malaise': 861, 'right hip oa': 862, ' thoraco': 863, 'abdominal aneurysm': 864, 'healing right foot ulcer': 865, 'left lung nodule': 866, 'chemotherapy ': 867, 'hd': 868, 'il2': 869, ' avr ': 870, 'fracture': 871, 'carotid artery angiogram': 872, 'c1 fracture': 873, 'acute cholecystitis': 874, 'atrial fibrillation ablation': 875, 'redo sternotomy': 876, 'redo stenotomy': 877, 'status asthmaticus': 878, 'bentall procedure': 879, ' mechanical valve': 880, 'intractable nausea': 881, 'v ': 882, 'tracheomalasia': 883, 'rf': 884, 'hernia': 885, 'left renal tumor': 886, 'sbp': 887, 'epidural hematoma': 888, 'htn emergency': 889, 'fluid overload': 890, 'rejection': 891, 'intraperitoneal bleed': 892, 'left hip oa': 893, 'hemoperitoneum': 894, 'volume overload': 895, 'thyroid cancer': 896, 'hypertensive': 897, 'malnutrition': 898, 'tach arrest': 899, 'pulmonary fibrosis': 900, 'acute cholangitis': 901, 'tvr': 902, 'left lower extremity gangrene': 903, 'uncontrolled diabetes mellitus': 904, 'flank pain': 905, 'hyperglycenia': 906, 'cri': 907, 'cervical fracture': 908, 'right foot': 909, ' seizure': 910, 'bladder rupture': 911, 'necrotizing fascititis': 912, 'insulin overdose': 913, 'coronary artery bypass graft redo ': 914, \"non hodgkin's lymphoma\": 915, 'left and right heart catheterization': 916, 'nephrolithiasis': 917, ' cirrhosis': 918, 'nan': 919, ' ventral hernia': 920, 'ischemic cardiomyopathy': 921, 'hypotensive': 922, 'reactive airway disease': 923, 'icd lead infection': 924, 'carotid artery disease': 925, 'p pedestrian struck': 926, 'left lower extremity ulcer': 927, 'resp': 928, ' failure': 929, 'cervical spondylosis': 930, 'painless jaundice': 931, 'vfib arrest': 932, 'umbilical hernia': 933, 'end': 934, 'tracheal leak': 935, 'severe hypertrophic cardiomyopathy': 936, 'septal ethanol ablation': 937, 'abdominal distension': 938, 'left leg ulcer': 939, ' spinal stenosis': 940, 'right colon mass': 941, 'elevated wbc': 942, 'shingles': 943, 'g': 944, 'febrile neutropenia': 945, 'delta ms': 946, 'lower back pain': 947, 'foot ulcer': 948, 'rapid a': 949, ' pfo closure': 950, 'end stage kidney disease': 951, 'left ankle fracture': 952, ' copd exacerbation': 953, 'morbid obestiy': 954, 'recurrent angina': 955, 'sigmoid diverticulitis': 956, 'tracheobrochomalacia': 957, 'renal insuffiency': 958, 'metastatic melanoma': 959, 'post menopausal bleeding': 960, 'malignant hypertension': 961, 'elevation myocardial infarction': 962, 'ep study': 963, 'aortic hematoma': 964, 'sleep apnea': 965, ' congestive heart failure ': 966, 't elevation myocardial infarction': 967, 'c5': 968, 'aortic valve regurgitation': 969, 'atrial ventricular nodal re': 970, 'ileus': 971, ' mitral regurgitation': 972, 'fournier gangrene': 973, 'carotid stent placement': 974, 'toe infection': 975, 'closed head injury': 976, ' hypoxia': 977, 'coronary artery bypass graft with mvr': 978, 'left renal ca': 979, 'left frontal hemorrhage': 980, 'likely thrombocytopenia': 981, 'aortic occlusion': 982, 't10 mass': 983, 'redo sternotomy w': 984, 'high': 985, 'anion gap hyperglycemia': 986, 'zoster rash': 987, 'acute choleycistitis': 988, 'elevated glucose': 989, 'aorto iliac aneurysm': 990, 'facial cellulitis': 991, 'left anterior descending coronary artery intervention': 992, 'spinal infection': 993, 'p a': 994, 'systolic cardiac arrest': 995, 'metastatic renal ca': 996, 'spinal mass': 997, 'od': 998, 'infected foot ulcer': 999, 'right': 1000, 'iv antibitoics': 1001, 'vein mapping': 1002, 'dialiyze': 1003, 'ischemic ulcer right toe': 1004, 'alter mental status': 1005, 'aortic valve replacement  bental procedure ': 1006, ' replacement ascending aorta': 1007, 'bradycardia with mental status changes': 1008, 'l sided pneumonia': 1009, ' gangrene': 1010, 'diabetic renal failure': 1011, 'left finger cellulitis': 1012, ' infection': 1013, 'mitral ': 1014, ' cabg w': 1015, 'o line infection': 1016, 'dissection': 1017, 'epigastric discomfort': 1018, ' rule out myocardial infaction': 1019, 'msds': 1020, 'renal hemorrhage': 1021, 'glottic mass': 1022, 'esophageal carcinoma': 1023, 'carotid stent': 1024, 'parcreatic transplant': 1025, 'drainage of burrhole': 1026, 'atrial afribillation': 1027, 'myocardial ischemia': 1028, 'percutaneous coronary intervention of diagnal branch': 1029, 'ascending aortic arch thrombus': 1030, 'respiratory distress and fever': 1031, 'intravascular ultrasound of left main artery': 1032, 'myasthenia': 1033, 'williams syndrome': 1034, 'nasal polyps left': 1035, 'sinus surgery endoscopic ct guided with septoplasty': 1036, ' left nasal polypectomy': 1037, 'hypereglycemia': 1038, 'ruptured graft': 1039, 'bulbar palsy': 1040, 'o tamponade': 1041, 'rapid af': 1042, 'coronary artery diseases stent': 1043, 'pancreatic psedudal': 1044, 'lower gatrointestinal bleed': 1045, 'rib fracture': 1046, ' as': 1047, 'gastric stump cancer': 1048, 'left retro peritoneal malignant neoplasm ': 1049, 'bile duct obstruction': 1050, 'sms obstruction': 1051, 'symptomatic 3rd degree heart block': 1052, ' aortic valve replacement   ': 1053, 'vf arrest': 1054, 'bronchoscopy flexible': 1055, ' and rigid': 1056, ' acute coronary syndrome': 1057, 'left knee superfical cellulitis': 1058, 'infected bka': 1059, 'perforated bowel ': 1060, 'iddm': 1061, 'anterior floor of the mouth cancer': 1062, 'uppper gi bleed': 1063, 'open wound chest': 1064, 'cronic obsructive pulmonary disease': 1065, 'lung abcess': 1066, 'o lukemia': 1067, 'upper gi blees': 1068, 'fractured right hip': 1069, 'p interochanteric': 1070, ' orif intertrochanteric fracture right': 1071, 'thorasic spine tumor': 1072, 'cervical spinal stenosis': 1073, 'lower': 1074, '90': 1075, ' left main coronary artery disease': 1076, 'aortic valve vegetation': 1077, 'post procedure endoscopic retrograde cholangiopancreatography': 1078, 'right mandibular cellulitis': 1079, 'left ankle painful hardware': 1080, 'colo': 1081, 'vesical fistula s': 1082, 'chest trauma': 1083, 'rigid bronchoscopy with y': 1084, 'metastatic breast cancer': 1085, 'rle cellulitis': 1086, ' liver failure': 1087, 'dementia': 1088, 'staph bactermia': 1089, 'bowel resection dead bowel': 1090, 'cold right leg': 1091, 'stoke': 1092, 'left atrial myxoma': 1093, 'left atrial myxoma resection': 1094, 'stroke with head bleed': 1095, 'non q mu': 1096, 'o cellulitis': 1097, 'ventricular tachyarrhythmia storm': 1098, 'contrictive pericarditis': 1099, 'aortic disection': 1100, 'new renal failure': 1101, 'right lung mass': 1102, ' non st elevation mi': 1103, 'pulmoary edema': 1104, 'non hodgkins lymphoma': 1105, 'congetive heart failure': 1106, 'tibial plateau fractures': 1107, 'o pulmonary embolus': 1108, 'pericardectomy': 1109, 'hepatic enchephalopathy': 1110, 'chf vs': 1111, 'hypotension r': 1112, 'p laparoscopic cholecystectomy': 1113, 'o meningititis': 1114, 'cadiac arrest': 1115, ' positive stress test': 1116, 'esophageal diverticulum': 1117, 'hydrocephalus': 1118, 'neck laceration': 1119, 'left bka ischemia': 1120, 'left orbital fracture': 1121, 'mitral insufficiency': 1122, ' repair': 1123, ' heart port minimally invasive': 1124, ' percutaneous femoral cannulation': 1125, 'dyspnea on excertion': 1126, 'parenchymal bleed': 1127, 'chest pait': 1128, 'right vision loss': 1129, ' change in mental status': 1130, 'acute myocardisal infarction': 1131, 'femoral artery thrombosis': 1132, 'transfusion reaction': 1133, 'tia vs seizures': 1134, 'right foot fracture': 1135, 'pre syncope': 1136, 'prolonged qi': 1137, '  dehydration': 1138, 'colon ca of cecum': 1139, 'restenosis': 1140, 'asa allergy': 1141, 'trach replacement': 1142, 'oral swelling': 1143, 't12 fracture and cord compression': 1144, 'copdexacerbation': 1145, 'intramural hematoma ascending aorta': 1146, 'squamous cell cancer of the head and neck': 1147, 'right scv clot': 1148, 'right bc vein clot': 1149, ' epicardial lead placement': 1150, 'stage iii rectal cancer': 1151, 'lung tumor': 1152, 'severe hypertension': 1153, 'pain control': 1154, 'pressure control': 1155, ' gatrointestinal bleed': 1156, 'seazures': 1157, 'left recurrent squamous cell carcinoma left eyebrow ': 1158, ' frontal scalp': 1159, 'aterial embolization': 1160, 'mitral stenosis for cabg': 1161, 'right subclavian artery pseudoaneurysm': 1162, 'myasthemia gravis ': 1163, ' thymic mass': 1164, 'hypopharyngeal tumor': 1165, 'neck swelling': 1166, ' a': 1167, ' bronchoscopy rigid': 1168, 'upper gi blleed': 1169, 'aortic and mitra stenosis and tricuspic insufficiency': 1170, 'aortic': 1171, ' mitral and tricuspic valve replacement ': 1172, 'bilateral lower extremity gangrene': 1173, 'dissecting aaa': 1174, 'p nqmi': 1175, 'subural hemorrhage': 1176, 'adenal carcinoma of stomach': 1177, 'myasthenic crisis': 1178, 'esophageal reflux aspiration': 1179, 'laparotomy': 1180, ' c': 1181, 'nissen fundoplication': 1182, ' j': 1183, ' colostomy takedown': 1184, 'labile blood sugar': 1185, 'sepsi': 1186, 'gib': 1187, 'rll pneumonia': 1188, 'transplant eval': 1189, 'cad and mitral stenosis': 1190, 'septic arthritis': 1191, 'distal femur fracture': 1192, 'bental procedure': 1193, ' replacement of hemi': 1194, 'arch ': 1195, 'right lower extremity failed fixation': 1196, 'tracheo': 1197, 'broncho malacea': 1198, 'repsiratory distress': 1199, 'bronchoscopy flexible ': 1200, 'p v tach arrest': 1201, 'bypass': 1202, 'respiratory compromise': 1203, 'unstabel angina': 1204, 'chb': 1205, 'idiopathic pulmonary hemosideerosis': 1206, 'icd infection': 1207, 'lower lip cancer': 1208, 'l foot ulcer': 1209, 'splenic laceration': 1210, 'pulmonary artery stenosis': 1211, ' pulmonary artery resection and repair': 1212, 'myasthesnia gravia': 1213, 'diplopia': 1214, ' aortic and mitrial valve replacement': 1215, 'st segment elevation mi': 1216, ' wolfram disease': 1217, 'intraabdominal bleeding': 1218, 'esophageal resection': 1219, 'non sustained ventricular tachycardia': 1220, 'biventricular lead placement via left thoracotomy ': 1221, 'p catherization': 1222, 'cerebrovascula accident': 1223, '  avr ': 1224, 'ovarian ca': 1225, 'gallbladder fistula': 1226, '0778': 1227, 'pericardial window w': 1228, ' of pleural effusion ': 1229, 'lolwer gi bleed': 1230, 'metastatic colon ca to liver': 1231, 'pheo chromacytoma': 1232, 'transaminitis': 1233, 'right lung masses': 1234, 'interventricular hemorrhage': 1235, 'carotid angio': 1236, 'menigitis': 1237, 'right chest wall mass': 1238, 'left main coronary artery disease': 1239, 'patent foramenovale closure': 1240, 'post transplantation stricture': 1241, ' with laser': 1242, 'p pacemaker': 1243, 'sp pneumothorax': 1244, 'union left hip fracture': 1245, 'cervical spinal fx': 1246, 'hand and fingers infection': 1247, 'lower extemity ishemia': 1248, 'scalp laceration': 1249, 'acute appendicitis': 1250, 'popliteal transection': 1251, 'foot pain': 1252, 'fibrothorax': 1253, 'interstitial lung': 1254, 'left knee djd': 1255, ' bilat pneumonia': 1256, 'raynauds': 1257, 'malignant central airway obstruction': 1258, 'diabetid ketoacidosis': 1259, 'blood loss anemia': 1260, 'right mca': 1261, 'multiple falls': 1262, 'gastrinoma': 1263, 'right nasal carcinoma': 1264, 'high grade dysplasia of esophagus': 1265, 'septic right hip': 1266, 'drowning': 1267, 'cold left foot': 1268, 'union': 1269, ' left femur fracture': 1270, 'repair non': 1271, 'union left hip  ': 1272, 'arm': 1273, 'redo coronary artery bypass graft with mvr ': 1274, 'dysnea': 1275, 'lung ca with airway obstruction': 1276, 'guillain': 1277, 'barre syndrome': 1278, 'cath with brachy s': 1279, 'status post colectomy': 1280, 'heart rate control': 1281, 'needs urgent bypass surgery': 1282, ' tvr repair': 1283, 'pneumosepsis': 1284, 'airway stenosis': 1285, 'low blood pressure': 1286, ' infected arterial graft': 1287, 'kidney': 1288, 'internal cardioverter defibrillator': 1289, ' x3': 1290, 'acute ischemic stroke': 1291, 'bleeding from surg site': 1292, 'acalculus cholecystitis': 1293, 'rue pain': 1294, 'swelling': 1295, 'acut coronary syndrome': 1296, 'minimally invasive endoscopic cabg': 1297, 'torsade': 1298, 'hyperosmolar non': 1299, 'ketotic hyperglycemia': 1300, 'endoscopic cornary artery bypass off pump left chest': 1301, 'metastatic lung ca': 1302, 'lower extremity angiogram': 1303, 'rapid af chf': 1304, 'pneumonia r': 1305, ' hematoria': 1306, 'open wound right heel': 1307, 'mitral valve endocarditis': 1308, 'peripheral edema': 1309, ' small bowel obstruction': 1310, 'sternal dehiscence': 1311, 'arrhythmia': 1312, \"hypertensive urgency'\": 1313, 'carotid stenosus': 1314, 'arm numbness': 1315, '12': 1316, 'aqv': 1317, 'lead failure': 1318, 'lead ': 1319, ' device extraction left sided system ': 1320, ' pacemaker reimplant on right': 1321, 'stroke transient ischemic attack': 1322, 'pyelonphritis': 1323, ' hip fx': 1324, ' liver abcess': 1325, ' chest': 1326, 'unspecified trauma': 1327, 'coronary artery bypass graft with avr  ': 1328, 'gallbladder sepsis': 1329, 'rt tibia': 1330, 'fibula fractures': 1331, 'severe sepsis': 1332, 'chronic immune demyelinating polyneuropathy': 1333, 'facial trauma': 1334, 'turbt': 1335, 'p rigid bronch': 1336, 'a fib vs atrial tachucardia': 1337, 'ventricular fibrillation': 1338, 'interstial lung disease': 1339, 'diabectic ketoacidosis': 1340, 'p v': 1341, 'mitral valve prolapse': 1342, 'new onset atrial fibrillation': 1343, 'diff colitis': 1344, 'left lower extremity angioplasty': 1345, ' gangrenous left great toe': 1346, 'hperkalemia': 1347, 'positive blood cultures': 1348, 'suspected osteomyelitis': 1349, 'biventricular implantable cardioverter defibrillator placement': 1350, 'uti and ams': 1351, 'lower extremity arterial insufficiency': 1352, 'lower leg ischemia': 1353, ' abd pain': 1354, 'sternotomy wound infection': 1355, 'gangrene r leg': 1356, ' tachycardia': 1357, ' jp drain out': 1358, ' hypostension': 1359, 'lupus flare': 1360, 'left occipital stroke': 1361, 'large b cell lymphoma': 1362, 'esophagio ca': 1363, 'chest apin': 1364, 'o pericarditis': 1365, 'sigmoid colon cancer': 1366, 'chronic obstructive disease exacerbation': 1367, 'initiate dialysis': 1368, ' coronary artery bypass graft with avr ': 1369, 'ventricular tchycardia': 1370, 'psoas asscess': 1371, 'question sepsis': 1372, 'aspiration pna': 1373, 'gastric volvulus': 1374, 'left ankle ulcer': 1375, 'recurrent pleural effusion': 1376, 't8': 1377, 't9 fracture': 1378, 'upper back pain': 1379, 'wound to rle': 1380, 'left ankle arthritis': 1381, ' left sub talar arthritis': 1382, 'cholangioliolitis': 1383, 'feever': 1384, 'clotted av graft left': 1385, 'recurrent esophageal cancer': 1386, 'right ingunal hernia': 1387, 'st elevated mi': 1388, 'gastrointestional bleed': 1389, 'sternal dehissence': 1390, 'infected pacer site': 1391, 'abdominal infection': 1392, 'te fistula': 1393, 'p liver': 1394, ' af': 1395, 'cushing syndrome hyperglycemia': 1396, 'ua': 1397, 'retroperitoneal ': 1398, ' left leg pseudoaneurysm': 1399, 'intractable vomiting': 1400, 'arterial clot': 1401, 'ulcers': 1402, 'cellulitis left foot': 1403, ' tracheobronchomalacia': 1404, 'myocardial infrartion': 1405, 'right stump gangrene': 1406, 'renal artery thrombosis': 1407, 'occluded right leg': 1408, 'liver tranfer': 1409, ' with ': 1410, 'supratherapeutic inr': 1411, 'necrotic bowel': 1412, 'gangrenous right leg': 1413, 'clonus': 1414, 'respiratory difficulty': 1415, ' aortic vegetation': 1416, 'liver transplant rejection': 1417, 'p avr': 1418, 'rotator cuff tear': 1419, 'right shoulder': 1420, 'ureteral stone': 1421, 'ischemic lt arm': 1422, 'copd w': 1423, 'hypoxcemia': 1424, 'card cath': 1425, 'spondylolisthesis': 1426, 'kidney transplant rejection': 1427, ' bronchoscopy with laser': 1428, 'duodenal mass': 1429, 'increase bs': 1430, 'high blood sugar': 1431, 'elbow fracture': 1432, 'pneumnoia': 1433, 'cirrhosis bacteremia': 1434, 'failed total hip left': 1435, 'thromboytic thrombocytopenic purpura': 1436, 'cerebellar cva': 1437, 'ehrilichiosis vs choledocholithiasis': 1438, 'asystole': 1439, 'aortic stenosi': 1440, 'cellulitis right arm and elbow': 1441, 'anastomatic leak': 1442, 'increased bilirubin': 1443, 'p angioplasty': 1444, 'p renal artery stenosis': 1445, ' airway tumor': 1446, 'liver bleed ': 1447, ' hematoma': 1448, ' hemoperiton': 1449, 'increasing angina': 1450, 'ischemic rt foot': 1451, 'gastrointestinal bleeding': 1452, 'p pulseless arrest': 1453, 'lower bi bleed': 1454, ' likely line sepsis': 1455, 'lithium overdose': 1456, 'left talus fracture': 1457, 'non q wave myocardial infarct': 1458, 'o obstruction': 1459, 'ruptured aorta': 1460, 'pulmonart edema': 1461, 'left  foot cellulitis': 1462, 'question of sepsis': 1463, 'loose stool': 1464, 'ca bladder': 1465, 'dm foot ulcer': 1466, 'abdominal bleeding': 1467, 'nstem': 1468, 'failed left total knee replacement ': 1469, 'choleycystitis': 1470, 'right femur fracture': 1471, 'angiopram': 1472, 'left hip avascular necrosis': 1473, 'exertional dyspnea': 1474, 'metastatic pancreatic cancer': 1475, 'aoortic stenosis': 1476, 'sternal drainage': 1477, 'stem i': 1478, 'hepatopulmonary syndrome': 1479, 'left circumflex intervention': 1480, 'foreign body in throat': 1481, 'right coronary artery angioplasty': 1482, 'clotted left forearm av loop graft': 1483, 'av graft': 1484, ' thrombectomy': 1485, ' left forearm loop graft': 1486, 'p vf arrest': 1487, 'thoracic lesion': 1488, 'hypercapnia': 1489, 'diabetes mellitus for pancreas transplant': 1490, 'left hand 3rd digit': 1491, 'iv antibiotics': 1492, 'nectrotizing fasciitis': 1493, 'right ankle infection': 1494, ' osteomyelitis': 1495, 'pre op liver': 1496, 'stab wounds': 1497, 'swollen knee': 1498, 'cardiogenicshock': 1499, 'renal failure cad': 1500, 'abd abscess': 1501, 'biventricular pacemaker upgrade': 1502, 'hairy cell leukemia': 1503, 'hypothyriod': 1504, 'perforated gastric ulcer': 1505, 'myocardial infaction': 1506, '  via right thoracotomy': 1507, 'biventricular icd implant': 1508, 'aflutter ablation': 1509, 'pacemaker removal': 1510, 'colon tumor benign': 1511, 'crititcal aortic stenosis': 1512, 'non q': 1513, 'wave': 1514, 'gangrene right first toe': 1515, 'lung mass': 1516, ' left foot gangrene': 1517, 'elevated trop': 1518, 'anterior communicating artery aneurysm': 1519, ' pancreatitis': 1520, ' ethanol withdrawal': 1521, 'pacemaker failure': 1522, ' temporary pacing wire': 1523, 'tracheal bleeding': 1524, 'parastomal hernia': 1525, 'aortic valvuloplasty': 1526, 'colon ca iddm': 1527, 'recurrent lung cancer': 1528, 'lung mass left': 1529, 'parotid tumor': 1530, 'bilateral pulmonary emboli': 1531, 'charcot': 1532, ' left foot ulcer': 1533, 'subdural vs': 1534, ' subarachnoid hematoma': 1535, 'metastatic rectal cancer to liver': 1536, 'clotted iv fistula': 1537, 'right leg cellulitis': 1538, 'foot wound': 1539, 'total hip replacement': 1540, 'peripjeral vascular disease': 1541, 'trigeminal': 1542, 'neuralgia': 1543, \"ogilve's syndrome\": 1544, 'rt leg swelling': 1545, 'copd eacerbation': 1546, 'chest stab wounds': 1547, 'gout': 1548, 'cardiomelopathy': 1549, \"zenker's diverticulum\": 1550, 'p  cholecystectomy': 1551, 'benign pneumatosis': 1552, 'nonsustained ventricular tachycardia': 1553, 'wide complex tachycardia': 1554, ' neutropenia': 1555, 'hyponatremis': 1556, 'left submandibular stone': 1557, ' chronic sialodenitis': 1558, ' charcot deformity': 1559, 'diabetic myelitis': 1560, 'right side heart failure': 1561, ' tricuspid regurgitation': 1562, 'icd lead extraction': 1563, 'o perforated ileum': 1564, ' mitral valvereplacement ': 1565, ' percutaneous approach   ': 1566, ' no assessment needed ': 1567, 'near syncope': 1568, 'gangrene left big toe and second toe': 1569, 'acute choleystitis': 1570, 'lll pneumonia': 1571, 'decreased ejection': 1572, 'rectal mass': 1573, 'bilateral ulcer lower extremity': 1574, 'left proximal tibial fracture': 1575, 'spine injury': 1576, 'toe gangrene': 1577, 'asthma ': 1578, 'ms change': 1579, 'redo': 1580, 'congestive heart disease': 1581, ' stress test': 1582, 'lower extremity cellulitis': 1583, 'biventricular pacemaker': 1584, ' bronchoscopy w': 1585, 'y': 1586, 'right kidney': 1587, ' left leg angiogram': 1588, 'esophageal rupture': 1589, 'right and left cath': 1590, 'sencondar lesion to spine': 1591, 'fever unknown origen': 1592, 'traumatic subdural hemorrhage': 1593, 'pancolitis': 1594, 'lyme carditis': 1595, 'aortic valve replacement  coronary artery bypass graft x 2': 1596, 'ascendibg aortic aneurysm': 1597, 'right lower etremites gangrene': 1598, 'groin bleed': 1599, 'right leg angio': 1600, 'clotted av fistula': 1601, 'right coronary artery stenosis': 1602, 'angioplasty with right coronary artery stent placement': 1603, 'osteomyelitis right foot': 1604, 'variceal bleeding': 1605, ' replacement acending aorta': 1606, 'swallowed foreign body': 1607, ' maze procedure ': 1608, 'rhabdo': 1609, 'elevated weight bearing with crutches': 1610, 'leuko encephalopathy': 1611, 'mitral valve replacement mechanical': 1612, ' left upper quatdrant tumor': 1613, 'left calf and heel infection': 1614, 'leeman': 1615, 'david': 1616, 'primary sclerosis cholangitis': 1617, 'cerebellum lesion': 1618, 'o bacteremia': 1619, 'acute renal insufficiency': 1620, 'old aortic dissection': 1621, 'p bronch': 1622, 'basal ganglia hemorrhage': 1623, 'eus': 1624, 'kidney stones': 1625, 'p urinary catherization': 1626, ' lung mass': 1627, 'femur': 1628, 'verapamil overdose': 1629, 'lumbar spondylosis': 1630, 'aa runoffs': 1631, 'left foot fx': 1632, '  avr redo ': 1633, 'hypoxia of unknown etiology': 1634, 'epistaxix': 1635, 'foreign  body in stomach': 1636, ' percutaneous approach': 1637, ' transfemoral approach  ': 1638, 'pleural effusions': 1639, 'respitory distress': 1640, 'squamous cell carcinoma': 1641, ' oral cavity': 1642, 'endometrial ca': 1643, 'metastatic thryoid ca': 1644, 'infected pacemaker lead': 1645, 'right wrist fracture': 1646, ' mitral valve replacement via left thoracotomy': 1647, 'acs': 1648, 'foot abscess': 1649, 'tracheostomy': 1650, 'upper ': 1651, ' lower extremity weakness': 1652, 'obstructed colon': 1653, 'pulm hemorrhage': 1654, 'ischemia left toe': 1655, 'ischemia bowel': 1656, 'lead infection': 1657, 'portal vein occlusion': 1658, 'bleeding mass': 1659, 'goiter multinodular': 1660, 'left leg weakness': 1661, 'right and left cardiac catheterization': 1662, 'electrolyte abnormalities': 1663, 'tibia fracture': 1664, 'ulnar fracture': 1665, 'cao': 1666, 'bleeding aneurysm': 1667, 'chesst pain': 1668, 'osteomyelitis left hip': 1669, 'intracranial head bleed': 1670, 'retroperitoneal and urinary bleeds': 1671, 'pulmonary emboli': 1672, 'septic lt hip replacement': 1673, 'capsular hematoma': 1674, 'perirectal abscess': 1675, 'fev': 1676, 'hepato cellular carcinoma': 1677, 'iv heparin': 1678, 'subaracnoid hemorrhage': 1679, 'osteolyelitis': 1680, 'biventricular icd': 1681, 'pancereatitis': 1682, 'status epelepticus': 1683, 'trauma w': 1684, ' head mass': 1685, 'neurosaicoiodosis': 1686, 'bile duct stone': 1687, 'coronary artery bypass graftwith avr': 1688, ' replacing acendind aorta': 1689, ' head bleed': 1690, 'satus post tach arrest': 1691, 'chest pain myocardial infarction': 1692, 'intracerebral hemmorhage': 1693, 'hypoxia respiratory failure': 1694, 'pneumococcal pneumonia': 1695, 'hypotennsion': 1696, 'atn': 1697, 'spondylosis': 1698, 'largotraceal stenosis': 1699, ' hypercarbic resp failure': 1700, 'pleural effusion and right node nodule ': 1701, ' aortic and mitral valve replacement': 1702, 'crescendo angina': 1703, 'massive hemoptysis': 1704, 'open wound of chest': 1705, ' atriacure maze': 1706, 'cold distal foot': 1707, ' ulcerative colitis': 1708, 'coronary disease': 1709, 'sternal mass': 1710, 't elevation mi': 1711, 'malignant thyroid tumor': 1712, 'p crani': 1713, 'alcohol delirium tremens': 1714, 'cold ischemic leg': 1715, 'gangrenous cholecystitis': 1716, 'o pe': 1717, 'vt with aicd fitting': 1718, 'noro virus': 1719, 'possible lvad': 1720, 'inguinal hernia': 1721, 'non viable leg': 1722, 'spinal tumor': 1723, 'chronic obstructive pulmonary disease exacerbation': 1724, 'venous thrombosis': 1725, 'cellulitis right leg': 1726, 'nonhealing ulcers r leg': 1727, 'histoplasmosis': 1728, 'infected aortic endo graft': 1729, 'charcot deformity left foot': 1730, 'ca': 1731, 'abdominal pain increased bilirubin': 1732, 'l sided weakness': 1733, ' lower lobe pneumonia': 1734, 'ingestion of': 1735, 'cerebellar infarction': 1736, 'cva vs': 1737, 'peerforation': 1738, ' cabg': 1739, ' diarrhea': 1740, 'right heel osteomyelitis': 1741, 'parotitis': 1742, 'parotid abscess': 1743, 'new dm': 1744, ' ventricular mi': 1745, 't8 spinal cord compression and cellulitis': 1746, 'pacemaker estraction': 1747, 'congestive heart failure ': 1748, 'electrophysiology study': 1749, 'left facial tumor': 1750, 'p epilepticus': 1751, 'inguinal ': 1752, 'sarcoidosis': 1753, 'lymph node biopsy': 1754, ' location': 1755, 'p': 1756, ' will cb': 1757, 'hyperthermia': 1758, 'post infarct angina': 1759, 'new diagnosis leukemia': 1760, 'clotted av graft': 1761, 'right frontal lobe stroke': 1762, ' thyroid neoplasm': 1763, ' thyroidectomy ': 1764, 'ami': 1765, 'soft tissue mass': 1766, 'mrv': 1767, 'tracheal esophageal fistula': 1768, 'dks': 1769, 'severe gallstone pancretitis': 1770, 'rectal abscess': 1771, 'tips': 1772, 'gangrene left toes': 1773, 'volume depletion ': 1774, 'unknown origin': 1775, 'right patella fx': 1776, 'left femoral neck fx': 1777, ' atrial flutter': 1778, 'fibrillation': 1779, ' left bundle branch block': 1780, ' biventricular icd implantation': 1781, 'upper gastrointesstinal bleed': 1782, 'tracheobroncheomalacia': 1783, 'multisystem trauma': 1784, 'subdural hemaroma': 1785, 'left breast ca': 1786, 'p rejection kidney transplant': 1787, 'failed fusion': 1788, 'dialysis line occlusion': 1789, 'chronic obstructive pulmonary disease flare': 1790, 'increased angina': 1791, 'svc': 1792, 'renal failiure': 1793, 'o dka': 1794, 'axillary abscess': 1795, 'perforated colon': 1796, 'insulin densentization': 1797, 'p respiratory arrest': 1798, 'g tube malfunction': 1799, 'mitral valve replacement  bental procedure ': 1800, ' melanoma lower back': 1801, 'p tips': 1802, 'chest pain with left arm numbness': 1803, 'diastolic heart failure': 1804, 'hyper k': 1805, ' afib rvr': 1806, 'atherosclerosis': 1807, 'distal common bile duct stone impaction': 1808, 'epiduralhematoma': 1809, ' liver lesion': 1810, 'rt upper quadrant abscess': 1811, 'thoracic abdominal aneurysm': 1812, 'carotid angiography': 1813, 'mitral and aortic valves insufficiency': 1814, 'paroxymal atrial fibrillation': 1815, 'atrioventricular junction ablation': 1816, 'atrioventricular node ablation': 1817, 'fidelis lead fracture': 1818, 'implantable cardioverer defibrillator fidelis lead extraction': 1819, 'squamous cell ca floor of mouth': 1820, \"sah'\": 1821, 'subdural hemoatoma': 1822, 'left ureteral obstruction': 1823, ' recurrent angina': 1824, 'af': 1825, 'asa overdose': 1826, 'hypo mass': 1827, 'non healing ulcer right lower extremioty': 1828, 'bental procedure  coronary artery bypass graft  aortic and mitral valve replacement ': 1829, 'anti coagulation': 1830, 'colonic obstruction': 1831, 'sigmoid perforation': 1832, 'nausa': 1833, 'splenic injury': 1834, 'aortic valve': 1835, 'pancreatic tail mass': 1836, 'carotid angiogram ': 1837, ' stent': 1838, 'sternal debridement': 1839, 'upper extremity thrombosis': 1840, ' aortic valve disease': 1841, 'c6 spinous fracture': 1842, 'third degree av block': 1843, 'cerebellar bleed': 1844, 'leeft basal ganglia bleed': 1845, 'hypercapnea': 1846, 'epidiral abscess': 1847, 'pseudoarthrosis': 1848, 'c6': 1849, 'loewr gi bleed': 1850, 'p bka': 1851, 'right pneumothorax': 1852, 'epicardial left ventricular lead placemnt ': 1853, 'breast cancer right': 1854, 'syncopy c2 fracture': 1855, 'failed dialysis cath': 1856, 'hypotensiom': 1857, ' tricuspid valve repair or replacement': 1858, 'percutaneous transluminal angioplasty to vein graft': 1859, 'open wound left foot': 1860, 'central cord syndrome': 1861, 'infected pseudocyst': 1862, 'biliary leak': 1863, 'peripheral disease': 1864, ' dyspnea': 1865, 'diabetic kedoacidosis': 1866, ' high grade dysphagia': 1867, 'foreign body aspiration': 1868, 'leg abcess': 1869, 'gastropharesis': 1870, 'bleeding liver mass': 1871, 'stem mi': 1872, 'acoustic neuroma left ear': 1873, 'cellulitis of upper extremity': 1874, 'hypovolemic shock': 1875, 'spinal stenosis l4': 1876, 'l5': 1877, 'do sternotomy ': 1878, 'etoh withdrawl': 1879, ' cholecystitis': 1880, 'for surgical revascularization': 1881, 'l4 stenosis': 1882, 'lesion': 1883, 'lung nodule left': 1884, ' hypokalemia': 1885, 'diverting colostomy': 1886, 'hd catheter line infection': 1887, 'charcot left foot': 1888, 'sustained ventricular tachycardia': 1889, 'p non q wave mi': 1890, 'right hip pain': 1891, 'hematochromatosis': 1892, 'arthymia': 1893, 'non ketotic diabetic hyperglycemia': 1894, 'colloid cyst': 1895, 'right hilar mass': 1896, 'right aka stump infection': 1897, 'sinus tachycardia': 1898, 'tricuspid regurgitation': 1899, 'ischemic ulcer right foot': 1900, 'intra abdominal bleeding': 1901, 'bowel obsruction': 1902, ' tti': 1903, 'right sided evacuation of subdrual hematoma': 1904, 'leg laceration': 1905, 'elevatad inr': 1906, 'testicular cancer': 1907, 'facial mass right': 1908, 'sob ': 1909, 'myasthenic gravis': 1910, 'hypotension fever': 1911, 'left lower extremity discomfort': 1912, 'left lower extremity angiogram with run': 1913, 'offs': 1914, 'union femur fracture': 1915, 'blunt chest trauma': 1916, 'leg angiogram': 1917, 'aa runoff': 1918, 'cellultiis': 1919, 'dialysis': 1920, 'ruptured angiomiolipoma': 1921, 'myasthenia exacerbation': 1922, 'food obstruction': 1923, 'o meningitis': 1924, 'evacuation of subdural hematoma': 1925, 'emergent craniotomy': 1926, 'acute gi bleed': 1927, 'le weakness': 1928, ' subdural hematoma': 1929, 'av graft thrombectomy': 1930, 'renal pelvic ca': 1931, 'malignant neoplasm colon': 1932, 'opiod overdose': 1933, 'right hemothorax': 1934, 'subclavian intervation': 1935, 'post dialysis': 1936, 'necrotising pneumonia': 1937, 'tongue lesion': 1938, 'excisional biopsy': 1939, ' tongue lesion ': 1940, ' panendoscopy ': 1941, ' of': 1942, ' with frozen section': 1943, 'metastatic cancer': 1944, 'non healing ulcer left lower extremity': 1945, 'tracheal malacia': 1946, 'cervical cord compression': 1947, 'adnexal mass': 1948, 'p cardiac intervention': 1949, 'c4': 1950, '5 spinal stenosis': 1951, 'carotid angio and stent': 1952, 'hyperglycemic': 1953, 'hyperosmolar': 1954, 'hepatobiliary failure': 1955, 'thrombosed aortic dissection': 1956, 'radius fracture': 1957, 'left bundle branch block': 1958, ' aortic valve ': 1959, 'aortic insuffiency': 1960, 'critical as': 1961, 'oropharyngeal bleeding': 1962, 'massive ascites': 1963, 'chronic renal failure ': 1964, 'kidney pancreas transplant': 1965, 'spinal shock': 1966, 'sub dural hematoma': 1967, 'status post seizure': 1968, 'metastatic ca to spine': 1969, ' t spine fx': 1970, 'infected orthopedic hardware': 1971, 'hemoperiteneum': 1972, 'posterior nose bleed': 1973, 'epidural hamatoma': 1974, 'adenal carcinoma of liver': 1975, 'stab wound': 1976, 'positive ett': 1977, 'tracheoesopheal fistula': 1978, 'hypokalemic periodic paralysis': 1979, ' jaundice': 1980, 'rule out myocardial infarction pneumonia ': 1981, 'acquired cardiac septal defect': 1982, 'ventricular septal defect repair': 1983, 'femur frx': 1984, 'necrotizing fascitis': 1985, 'hypertensive crisis': 1986, 'aortic  steosis': 1987, 'spinal meningioma': 1988, 'biliary pathology': 1989, 'shortness of breath ': 1990, 'unable to wean': 1991, ' intoxication': 1992, ' rhabdomyolysis': 1993, 'aka': 1994, 'bleeding groin abscess': 1995, '  mvr ': 1996, 'hpoglycemia': 1997, 'left cebellar ischemic stroke': 1998, 'pannus hematoma': 1999, 'o mi n': 2000, 'vascular insufficiency': 2001, 'right left graft failure': 2002, 'ischemic stroke': 2003, ' hct 20': 2004, ' brief hypotension': 2005, 'intraparenchymal head bleed': 2006, 'hyperglycemic coma': 2007, 'liver and renal disease': 2008, 'possible cerebrovascular accident': 2009, 'coratid stenosis': 2010, 'confudion': 2011, ' temporal mass': 2012, 'intoxication': 2013, 'chemo embolization': 2014, 'dra': 2015, ' sah': 2016, 'hepatic insuffiency': 2017, ' gastric mass': 2018, 'pulmonay embolism': 2019, 'mva': 2020, 'pacreatic cyst': 2021, 'lung collapse': 2022, 'worsening subdural hematoma': 2023, ' possible   coronary artery bypass graft': 2024, ' possible ascending aorta replacement': 2025, ' possible deep hypothermic circotory arrest': 2026, 'aaa repair': 2027, 'cath lab': 2028, 'lumbar disc herniation': 2029, 'gall stone': 2030, 'exploratory laparostomy': 2031, 'cholecystectomy': 2032, 'wedge liver biopsy': 2033, 'abdominal fluid collection': 2034, 'myasthenia flare': 2035, ' off pump coronary artery bypass graft': 2036, 'thrombocytopenic purpura': 2037, 'chronic dislocation right hip': 2038, 'le edema': 2039, 'cerebellar tumor': 2040, 'abdominal mets': 2041, 'falls': 2042, 'back pain weakness': 2043, 'severe mr renal failure': 2044, ' tvr right chest beating heart': 2045, 'claudication left ': 2046, 'infected leg ulcers': 2047, 'icb': 2048, 'o head bleed': 2049, 'right kidney tumor': 2050, ' right foot': 2051, 'left leg infection': 2052, 'o mi chest pain': 2053, 'atherosclerosis of left lower extremity': 2054, 'metastatic brain lesion': 2055, 'aortic vegatation': 2056, '   duodenal mass': 2057, 'left occipital lesion': 2058, 'recurrent pituitary tumor': 2059, 'atrial fibrillation with rvr': 2060, 'infected ulcer': 2061, 'clogged doboff': 2062, 'left hip abscess': 2063, '6 weeks': 2064, 'p pulmonary vein isolation': 2065, 'status': 2066, 'post pancreas transplant': 2067, 'penile cancer': 2068, 'cerebellum mass': 2069, 'altereed mental status': 2070, ' bilateral mammary': 2071, 'chronic airway obstruction': 2072, 'sternal infection': 2073, 'infected lead': 2074, 'symtomatic carotid stenosis': 2075, 'p tracheoplasty': 2076, ' peripheral vascular disease': 2077, 'esophageal perforation': 2078, 'right collaspe lung': 2079, 'rt foot cellulitis': 2080, 'right femoral neck fracture': 2081, 'acute or chronic subdural hematoma': 2082, 'chest': 2083, 'non healing ulcer left leg extremities': 2084, 'abdominal aortic aneurysm thrombosis': 2085, 'infected femoral to popliteal bypass graft': 2086, 'mitral valve stenosis': 2087, 'mitral valve replacement with concmitant maze': 2088, 'sigmoid colon ca': 2089, ' aortic valve replacement redo': 2090, ' ischemic bowel': 2091, 'kidney failure for kidney transplant': 2092, 'p mvc': 2093, 'pelvis fx': 2094, 'lymphadenopathy': 2095, 'prolonged hypoglycemia': 2096, 'caoronary artery disease': 2097, 'intraparietal hemorrhage': 2098, 'thoracic aneurysm without rupture': 2099, 'descending left thoracic aortic replacement via left thoracotomy ': 2100, 'splenic hematoma': 2101, 'lt hip fx': 2102, ' dialysis': 2103, 'left colon cancer': 2104, 'left anterior descending intervention': 2105, 'perforated diverticulitis': 2106, 'diff diarrhea': 2107, 'arotic anuerysm': 2108, 'diabetice ketoacidosis': 2109, 'status post renal transplant': 2110, 'rapid atria': 2111, ' fibrillation': 2112, 'severe gerd': 2113, 'lung canfer': 2114, 'p pancreatic tx': 2115, 'right abdominal pain': 2116, ' perocardial effusion': 2117, 'ili': 2118, 'motor cycle collision': 2119, 'infected leg wound post coronary artery bypass surgery': 2120, 'shortness of breath with stridor': 2121, 'gastric bleed': 2122, 'l dvts': 2123, ' ascending aorta replacement  coronary artery bypass graft with avr ': 2124, 'catheter infection': 2125, 'acute renal failrue': 2126, 'gastric and esophageal varices': 2127, 'dilated cbd': 2128, 'o spinal cord injury': 2129, 'left leg ischemia': 2130, 'post operative ileus': 2131, 'porcelain gallbladder': 2132, 'sepis': 2133, 'upper respiratory infection': 2134, 'pnaumonia': 2135, 'thoraco': 2136, 'abdominal aneurysm ': 2137, 'grand mal seizures': 2138, 'elevated liver functions': 2139, 'throat mass': 2140, 'p anterior mi': 2141, 'mitral valve mass': 2142, 'mass to hepatic flexure': 2143, 'refractory ascites': 2144, 'rigid bronchoscopy with stent ': 2145, 'post op wound infection': 2146, 'left sided cva': 2147, 'spinal arteriovenous malformation': 2148, ' mediastinaladenopathy': 2149, ' afib': 2150, 'sp mvc': 2151, 'tension ptx': 2152, 'gangrene l 4th toe ': 2153, 'p transplant for iv antibiotics': 2154, 'spine abcess': 2155, ' kyphosis': 2156, 'allergy': 2157, 'ascending aorta replacement ': 2158, 'phenobarbital toxicity': 2159, 'metastatic renal cell carcinoma': 2160, 'coronary artert disease': 2161, 'mitral insuffiency': 2162, 'non healing right foot ulcer': 2163, 'coronary arterty disease': 2164, 'gastric tumor': 2165, 'p r': 2166, ' lobectomy': 2167, 'infected arterial graft': 2168, 'femoral artery aneurysm': 2169, ' bipolar': 2170, 'depressed': 2171, 'misfiring aicd': 2172, 'c2 ': 2173, 'choledocholithiasis ': 2174, ' subq emphysema': 2175, 'rt foot osteomyelitis': 2176, 'infected left leg': 2177, 'ascitis': 2178, 'flail chest': 2179, 'penetrating trauma': 2180, 'elevated trapein': 2181, 'trach blockage': 2182, 'non st elevation myoicardial infarction': 2183, 'altered ms': 2184, 'acute fever': 2185, 'bronchopleural fistula': 2186, 'pulseless electrical activity arrest': 2187, 'leg gangrene': 2188, 'neck mass': 2189, 'rheumatic heart disease': 2190, 'caridac catheterizationl': 2191, 'l1burst fracture': 2192, 'colostomy prolapse': 2193, ' rectal stricture': 2194, 'pulmonary vein isolation': 2195, 'mitral valve repair': 2196, ' tricuspid repair': 2197, 'peritonsillar phelegmon': 2198, 'mesinteric ischemia': 2199, 'j tube displacement': 2200, 'chronic vent': 2201, 'status post kidney': 2202, 'carotid stenosi': 2203, ' high grade dysplasia': 2204, 'left cerebral vascular accident': 2205, 'dka pneumonia sepsis': 2206, 'acute myocardial infarct': 2207, 'cerebral infarct': 2208, 'acute coronaruy syndrome': 2209, 'cellulitis rt foot': 2210, 'coronary artery arthrosclerosis': 2211, ' myxoma resection ': 2212, 'metastatic lymphoma': 2213, ' weakness': 2214, ' n': 2215, 'liver failure hypoglycemia': 2216, 'effusion': 2217, ' non': 2218, 'right ica stenosis': 2219, 'rapid ventricular rate': 2220, 'cough': 2221, 'sycope': 2222, 'hf': 2223, ' chronic inflammatory demyelinating polyneuritis': 2224, 'failed extubation': 2225, 'p multiple stab wounds': 2226, 'bilateral subdural hematomas': 2227, 'right hylar mass': 2228, 'humeral fracture': 2229, ' right thoracotomy with beating heart': 2230, 'gluteal hematoma': 2231, 'colonic mass': 2232, 'diagnostic cath': 2233, 'fistula infection': 2234, 'septic bursitis': 2235, 'atherosclerosis with ulcer': 2236, 'right renal calculi': 2237, 'osteomyelitis t12': 2238, 'l1': 2239, 'intraparenchyal hemorrhage': 2240, 'small bowel obtruction': 2241, ' nsvt': 2242, 'ep study ': 2243, 'icd implantation': 2244, 'gun shot wound': 2245, 'chf ': 2246, ' ankle infection': 2247, 'rca stent': 2248, 'abd wound': 2249, 'left circumflex and left main coronary artery intervention': 2250, 'cornary disease': 2251, 'diabetic ketocidosis': 2252, 'thoracoscopic maze procedure bilateral': 2253, 'hardware infection': 2254, 'idiopathic pulmonary hemosidderosis': 2255, 'decompensated liver disease': 2256, 'diabeetic ketoacidosis': 2257, 'shunt malfunction': 2258, 'hyperkalmia': 2259, 'right renal cell cancer w': 2260, 'vena cava thrombus': 2261, 'ste mi': 2262, ' headache': 2263, 'diverticulities of colon': 2264, 'left staghorn calculus': 2265, 'uncinate mass': 2266, 'bilateral lower extremity angiogram': 2267, 'chronic respiratory failure': 2268, 'ureteral stricture': 2269, 'left hemi colectomy': 2270, 'respsiratory failure': 2271, 'right flank ': 2272, ' ventral ': 2273, ' hernia': 2274, 'uro': 2275, 'bilateral gangrene': 2276, 'septick shock': 2277, 'mrsa': 2278, '3 vessel cad': 2279, ' angina': 2280, ' sided effusion': 2281, 'necrotizing fascilitis': 2282, 'dypsnea': 2283, 'coagulopathy': 2284, 'cellulitis trach dependent': 2285, 'right leg rest pain': 2286, 'reno stage': 2287, ' liver disease': 2288, 'p non q w mi': 2289, 'junctional bradcardia': 2290, 'head of pancreas cancer': 2291, 'arotic stenosis': 2292, 'autumn56': 2293, 'superior mesenteric artery stenosis': 2294, 'cervical spondylosis w': 2295, 'myelopathy': 2296, 'gsw r neck': 2297, 'hemoparineum': 2298, 'lung nodule': 2299, 'anterior neck injury': 2300, 'bental hemi arch replacement': 2301, ' sternal plating ': 2302, 'pulomonary embolis': 2303, 'left heel ulcer': 2304, 'c3': 2305, '4 disc herniation': 2306, 'thoracoscopic ventricular lead placement left': 2307, ' thoracotomy': 2308, 'necrotic toe left foot': 2309, 'right coronary artery stent placement': 2310, 'vein graft stenosis': 2311, 'trachealmalacea': 2312, 'stent removal': 2313, 'ingestion overdose': 2314, 'septicemia': 2315, ' atrial fibrillation': 2316, 'aortic thrombus': 2317, 'right foot osteomyelitis': 2318, 'anterior mediastinal mass': 2319, 'chronic cholecystitis': 2320, 'pulmonary infusion': 2321, 'anuric renal failure': 2322, 'lactid acidosis': 2323, 'positive blood culture': 2324, 'abdominal mass': 2325, ' cryomaze': 2326, 'post arrest ': 2327, 'right foot charcot': 2328, 'ischemic l foot': 2329, 'rt lower extremity cellulitis': 2330, ' tamponade': 2331, 'intrabdominal hemorrhage': 2332, 'infected foot': 2333, 'tracheal mass': 2334, 'ear laceration': 2335, 'left circumflex stent': 2336, 'supracellar lesion': 2337, 'left tibial fracture': 2338, 'upper gastro intestinal bleed': 2339, 'hepatic artery stenosis': 2340, 'subcutaneous emphsyema': 2341, 'blunt head trauma': 2342, 'mitral vaslve insufficiency': 2343, 'heart port minimally invasive ': 2344, 'op pancreas': 2345, 'bare metal stent placement left anterior descending artery': 2346, 'hypertensive urency': 2347, 'diabetic foot infection': 2348, 'multiple rib fx': 2349, 'right sided facail weakness': 2350, ' dysphagia': 2351, ' diplopia': 2352, ' rvr': 2353, 'lt main disease': 2354, 'artherosclerosis w': 2355, 'ulcer left lower extremity': 2356, 'fournier ganggrene': 2357, 'pancreatic duct cancer': 2358, 'acute mental status': 2359, 'pulmonary edemia': 2360, 'chronic diverticulitis': 2361, 'op kidney': 2362, 'flu': 2363, 'jnathjw8': 2364, 'hemmorhagic shock': 2365, 'unsatable angina': 2366, 'tracheal stent': 2367, 'right upper extremity deep vein thrombosis': 2368, 'p vfib arrest': 2369, 'blleding': 2370, 'mitral valse insufficiency': 2371, 'mitral valve repair vs replacement ': 2372, 'athersclerosis w': 2373, ' ulcer': 2374, 'op liver tx': 2375, 'claudication left leg': 2376, 'renal cell cancer': 2377, 'esophageal leak': 2378, 'gangene right leg': 2379, 'renal transplant': 2380, 'ocaine chest pain': 2381, 'heart attack': 2382, 'right mca stroke': 2383, 'right middle lobe nodule': 2384, 'clavicle fracture': 2385, 'resp distress': 2386, 'honk': 2387, 'osteomylitis left knee': 2388, 'intraparenchymal bleed': 2389, 'bronchial asthma': 2390, 'sirs': 2391, 'lumbar spinal stenosis': 2392, 'arotic valve insufficiency': 2393, ' of mvr ': 2394, 's t elevated ion mi': 2395, 'tracheobronchial malacea': 2396, 'fibro': 2397, 'thorax': 2398, 'metatastic left neck melanoma': 2399, ' thyroid ca': 2400, 'swan line': 2401, 'febrile syndrome': 2402, 'lgi bleed': 2403, 'gi bleeding': 2404, 'colonoscopy': 2405, 'atrial tachycardia ablation': 2406, ' elevated troponin': 2407, 'hypotension with hemodialysis': 2408, ' altered mental status': 2409, 'portal vein thrombosis': 2410, ' pulm edema': 2411, 'assess biliary strictures ': 2412, 'ectopic pregnancy': 2413, 'ataxia': 2414, 'fasciitis': 2415, 'rt leg': 2416, 'acute chronic renal failure': 2417, 'increasing leg weakness': 2418, 'gastric ulcer': 2419, 'bleed': 2420, ' epidural': 2421, 'mg crisis': 2422, ' stroke': 2423, 'severe airway obstruction': 2424, 'superficial femoral artery stenosis': 2425, 'p necrotizing fascitis': 2426, 'liver transplant evaluation': 2427, 'o cerebritis': 2428, 'diaphragm rupture': 2429, 'pna and head bleed': 2430, ' septic knee': 2431, 'left ureteral stone': 2432, 'left lower extremith angio': 2433, 'myxoma': 2434, 'left atrial myxoma removal': 2435, 'centeral airway obstruction': 2436, 'esophageal mass': 2437, 'laryngoscopy': 2438, 'decompressed cirrhosis': 2439, 'recurrent carotid stenosis': 2440, ' carotid angiogram': 2441, 'internal': 2442, ' pericard': 2443, ' pleural effusions': 2444, 'bilateral adnexal mass': 2445, 'left leg celluliis': 2446, 'inr 22': 2447, 'encephalocle': 2448, 'o lymphoma': 2449, 'p fall urinary tract infection': 2450, 'bleeding hepatoma': 2451, 'anal carcinoma': 2452, 'sternal plating ': 2453, 'ar': 2454, 'cad for cabg': 2455, 'mca stoke s': 2456, 'p thrombolysis': 2457, 'narcotic overdose': 2458, 'dica': 2459, 'cardiac  cath': 2460, 'bleeding from dialysis catheter': 2461, ' ketoacidosis': 2462, 'biventricular icd upgrade': 2463, 'carotis stenosis': 2464, 'preop heparin': 2465, 'percutaneuos biliary drainage': 2466, 'intractable vomitting': 2467, 'symptomatic bradycardia': 2468, 'o pulmonary embolism': 2469, 'pyelonephritis ': 2470, 'fungemia': 2471, 'severe back pain': 2472, 'shotrness of breath': 2473, 'pleral effision': 2474, 'pleuroscopy': 2475, 'pleurodesis': 2476, 'intracranial tumor': 2477, 'starvation ketosis': 2478, 'removal cardiac mass ': 2479, 'dyspnea on ecertion': 2480, 'narcotic od': 2481, 'lower extremity edema': 2482, 'allergic rxn': 2483, 'rightbronchus mass': 2484, 'hnnk': 2485, 'gastorintestinal bleed': 2486, 'bilateral dvt': 2487, 'avr tissue ': 2488, 'liver disease': 2489, 'renal cell ca': 2490, 'electrolyte abnormalaties': 2491, 'acute abdomen': 2492, 'coronary artery bypass graftredo ': 2493, 'subdural hemorrage': 2494, 'invasive squamous cell carcinoma of sub glottis': 2495, 'right pleural effusion cirrhosis pht': 2496, 'supaglotlitis': 2497, 'minimally invasive maze w': 2498, 'o endocarditis': 2499, ' trachealplasty': 2500, 'broncheoplasty via right thoracotomy': 2501, 'left emphysemic pyelonephritis': 2502, 'ruptured bleb': 2503, 'spinal dural fistula': 2504, ' mental status change': 2505, 'trach occlusion': 2506, 'necrotizing cholecystitis': 2507, 'acetabular fracture': 2508, 'lead malfunction': 2509, ' left ventricular lead implant': 2510, 'left humerus fracture': 2511, 'plueral effusion': 2512, 'myesthenia gravis exacerbation': 2513, 'infected right heel': 2514, ' sternotomy ': 2515, 'cervical stenosis with myelopathy': 2516, 'epigastric abdominal pain': 2517, 'peripheral insufficiency': 2518, 'abdominal wall hernias': 2519, 'hypercabric respiratory failure': 2520, 'vaginal bleeding': 2521, 'rule out tuberculosis': 2522, 'breast mass': 2523, 'left adrenal neoplasm': 2524, 'status post cardi arrest': 2525, 'myelodysplastic syndromes': 2526, 'acute': 2527, 'chronic liver failure': 2528, 'chest  pain': 2529, 'abdominal perforation': 2530, 'benign prostatic hypertrophy': 2531, 'pencardial effusion': 2532, 'worsening angina': 2533, 'sdh ': 2534, ' ischemic cardiomyopathy': 2535, ' icd implantation': 2536, 'cardiac cathetreization': 2537, 'st elelevation mi': 2538, 'resppiratory arrest': 2539, 'varicel bleed': 2540, 'left main coronary disease': 2541, 'metral stenosis': 2542, '  aortic valve replacement ': 2543, 'third degree heart block': 2544, 'icd lean infection': 2545, 'vegitation': 2546, 'excess skin of abdominal wall': 2547, ' renal insuffiency': 2548, 'aortic valve abscess': 2549, 'hip failure': 2550, 'for kidney tx': 2551, 'spinal abscess': 2552, ' iph': 2553, 'bronchospasm': 2554, 'intercranial bleed': 2555, 'o mii': 2556, 'acute choleycysitis': 2557, 'esophagitis': 2558, 'multifocal pneumonia': 2559, 'bronchiectasis': 2560, 'l2 burst fracture': 2561, 'cad ': 2562, ' tmr': 2563, ' trans myocardial': 2564, ' revascularization': 2565, 'increased creatinine': 2566, 'hypoglcemia': 2567, 'hcc s': 2568, 'p tace procedure': 2569, 'lower extremety edema': 2570, 'dyspnea suspected pe': 2571, 'right heart failure': 2572, 'non stemi mi': 2573, ' ams': 2574, 'card arrest': 2575, 'biliary blockage': 2576, ' renal insufficiency': 2577, 'b blocker toxicity': 2578, 'o mi renal impairment': 2579, 'media stinal mass': 2580, ' heart failure': 2581, 'immuno supressed kidney tx': 2582, 'hart mass': 2583, 'excision of myxoma': 2584, 'r caritid angiogram and stent': 2585, 'worsening renal failure': 2586, 'adrenal mass': 2587, 'obesity': 2588, 'lumbar fracture': 2589, 'urticaria': 2590, 'maglignant neoplasm of esophagus ': 2591, ' aortic valve replacement w': 2592, 'skull infection': 2593, 'cold foot': 2594, 'ivh': 2595, 'cardiac carrest': 2596, 'multi lobe pneumonia': 2597, 'lower gastrointesinal bleed': 2598, 'bilateral non healing ulcers': 2599, 'painless jaundice and weight loss': 2600, 'colon mass': 2601, 'parapharyngeal mass': 2602, 'epidural mass': 2603, 'intra cranial bleed': 2604, 'p motor vewhicle accident': 2605, 'bilateral knee osteoarthritis': 2606, 'failed bypass graft left leg': 2607, 'healing left leg ulcer': 2608, 'viral meningitis': 2609, 'intra aortic ballon pump': 2610, 'clotted dialysis access': 2611, 'right arm': 2612, 'infected left leg wound': 2613, 'pemphiguskin condition': 2614, 'insulin dependent diabetes mellitus': 2615, 'esrd': 2616, 'ventricular assist device backup': 2617, 'tremers': 2618, 'pyelonehritis': 2619, 'liver ': 2620, 'post op knee infection': 2621, 'spinal fracture': 2622, 'as coronary artery disease': 2623, 'left empyema': 2624, ' thoracoscopy video assisted': 2625, ' decortication left': 2626, 'dyspnia': 2627, ' diabetes mellitus': 2628, ' critical aortic stenosis': 2629, 'severe aortic value stenosis': 2630, 'liver abscesses': 2631, 'status post stroke': 2632, 'carotid intervention': 2633, 'icp': 2634, 'transjugular intrahepatic portacaval shunt': 2635, 'ischemic leg left': 2636, 't12 and c1 fractures': 2637, 'neoplasm of uncertain behavior of other lymphatic and hematopoietic tissues': 2638, 'new leukemia': 2639, 'thigh heamtoma': 2640, 'left temporal brain mass': 2641, 'adrenal insufficiency': 2642, 'connective tissue tumor left temporal region': 2643, 'cancer of left colon': 2644, 'sinus pause': 2645, 'left thigh wound infection': 2646, 'comgestive heart failure': 2647, 'spina bifida': 2648, 'implantable cardioverter defibrillator implant': 2649, 'brain avm': 2650, 'nausia': 2651, 'vomotting': 2652, ' shortness of breath': 2653, ' nausea': 2654, 'aorto iliac disease': 2655, 'colon polyps': 2656, 'colonoscopy  ': 2657, 'remote east': 2658, 'lower gi bleeding': 2659, 'kidney stone': 2660, 'achalasia': 2661, 'rule out cerebrovascular accident': 2662, 'right carotid angiogram with intervention': 2663, 'neck hematoma': 2664, 'cerebellar hematoma': 2665, 'pneumomediastinum': 2666, ' failure graft': 2667, 'scrotal infection': 2668, ' pnemonia': 2669, 'recurrent internal cardioverter defibrillator shocks': 2670, 'heart failure management': 2671, ' multiple sclerosis': 2672, 'o myocardial infarctiom': 2673, 'left shoulder rotator cuff tear': 2674, 'p mva': 2675, 'mibi': 2676, ' septic arthritis': 2677, 'possible infection': 2678, ' rhabdomyolsis': 2679, ' rf': 2680, 'hematemsis': 2681, 'intracranial hemorrhage with shift': 2682, 'cervical instability': 2683, 'failed hardware': 2684, 'new depressed ejection fraction': 2685, 'pulmonary vein isolation ': 2686, 'kidey transplant': 2687, 'bilateral leg angiogram': 2688, 'hemorragic stroke': 2689, 'serotonin syndrome': 2690, 'subendocardial mi': 2691, 'cirrhosis w': 2692, ' ascites': 2693, 'redo tips ': 2694, 'p right groin exploration': 2695, ' angio': 2696, 'left temporal hematoma': 2697, 'o rejection': 2698, 'acute shortness of breath': 2699, 'oozing below knee amputation': 2700, 'abdominal aortic aneurysm ': 2701, 'cellulitis left heel': 2702, ' left radial artery': 2703, 'p fall intracranial hemorrhage': 2704, 'left carotid angio stent': 2705, 'usa ': 2706, 'ett for catherization': 2707, 'ulcer severity': 2708, 'vocal cord disfunction': 2709, 'trach bleeding': 2710, 'ureteral sticture': 2711, 'abdominal aortic aneurysm leak': 2712, 'brain mass of the midline shift': 2713, 'severe mirtal regurgitation': 2714, 'ascites leak': 2715, 'ureter stones': 2716, ' redo sternotomy tricuspid valve': 2717, 'repair ': 2718, ' replacement': 2719, 'ascending aortic  aneursym': 2720, ' ascending arota w': 2721, 'hyperkalema': 2722, 'lung ca left': 2723, 'gallbladder mass': 2724, ' analomous pulmanary vein': 2725, ' repair analomous ': 2726, ' pulmonary vein': 2727, 'stage live disease': 2728, ' pancreas transplant rejection': 2729, 'common variable immunodeficiency': 2730, 'p pea arrest': 2731, 'non q wave myocardial infaction': 2732, 'pancratitis': 2733, 'acute miu': 2734, 'obstructing stone': 2735, 'ftt': 2736, 'thoraco abdominal aneurysm': 2737, ' thoraco abdominal aneurysm repair': 2738, 'cholecysitits': 2739, 'degenerative scoliosis ': 2740, 'surgical revascularization': 2741, 'pharyngitis': 2742, 'acute kidney failure': 2743, 'ste myocardial infarction': 2744, 'p liver tx asctes confusion': 2745, 'infected pancreatic pseudocyst': 2746, 'copd asthma': 2747, 'sdh bilateral': 2748, 'chf cellulitis': 2749, 'p gastric bypass': 2750, 'gastric perforation': 2751, 'post mi': 2752, 'leukemia vs lymphoma': 2753, 'cellulitis left wrist and ankle': 2754, 'ventricular tacchycardia': 2755, 'non healing ulcer left foot': 2756, 'cav': 2757, 'melanoma': 2758, ' left facial region': 2759, 'brain mets': 2760, 'pulmonary edma': 2761, 'severe as': 2762, 'bilary stones w': 2763, ' recurrent cholecystitis': 2764, 'biliary stone removal ': 2765, 'inr': 2766, 'psychogenic laryngospasm': 2767, 'tee': 2768, ' ventricular tachycardia ablation': 2769, ' pvi ': 2770, 'demand ischemia': 2771, 'diabetic keoacidosis': 2772, 'pyelo': 2773, 'cervical spine injury': 2774, 'rule out spontaneous bacterial peritonitis': 2775, 'possible ovarian ca': 2776, 'non sten electrical myocardial infarction': 2777, 'liver insufficiency': 2778, 'mitral valve insuffiency': 2779, ' coronary artery bypass': 2780, 'insulin dependent diabetes': 2781, 'left knee osteoartrosis unspecificed rather generalized or localized involving lower leg': 2782, 'n stemi': 2783, 'shortness of breath with exertion': 2784, 'mesothelioma': 2785, 'glucose control': 2786, 'insulin drip': 2787, 'bilateral hernias': 2788, 'mitral valve insufficiency': 2789, 'coronary artery bypass graft with mvr possible avr aortic valve replacement ': 2790, 'left femur fracture': 2791, 'rt sided hemiparesis': 2792, 'seizures ': 2793, 'brain contusion': 2794, 'hypertensive ich': 2795, 'status post motorvehicle accident': 2796, 'recurrent cancer abdominal suture line': 2797, 'adema': 2798, ' ugi bleed': 2799, 'subarachnoid': 2800, 'adenoma right colon': 2801, 'healing ulcer': 2802, 'pulseless le': 2803, 'hemolytic uremic syndrome': 2804, 'icd discharge': 2805, 'p lap chole': 2806, 'thalamic hemorrhage': 2807, 'critical renal artery stenosis': 2808, 't8 fracture and hemothorax': 2809, 'recurrent fever': 2810, 'occluded av graft': 2811, 'right fib ': 2812, ' tib fracture': 2813, 'squamous cell cancer of hypo pharynx': 2814, 'left ventricular dysfunction': 2815, 'implantable cardivoerter defibrillator implant': 2816, 'intercranial hemorrage': 2817, 'i': 2818, ' bleed': 2819, 'vertebral basalar insufficency': 2820, 'tube leak': 2821, 'right basal ganglia bleed': 2822, 'cardiactamponade': 2823, ' adrenal insufficency': 2824, 'gastropasesis': 2825, ' non pharm mgmt afib ablation  ': 2826, 'right heel infection': 2827, 'anagrade lower extremith angiogram': 2828, 'infected right hip': 2829, 'severe pancreatitis': 2830, 'right kidney obstruction': 2831, 'ca of left buckle fossa': 2832, 'lower gastrointestial bleed': 2833, 'obstructed kidney stone': 2834, 'rt tma': 2835, 'intracranial hemmorhage': 2836, 'bleeding fistua': 2837, 'left leg angiogram': 2838, 'stridoe': 2839, 'airway compromise': 2840, 'r iliac angio with swan ganz': 2841, 'ruptured spleen': 2842, 'atrial septal defect closure ': 2843, 'mitral valve insufficency': 2844, 'chronic obstructive pulmomary disease': 2845, ' hep c': 2846, 'hypovolemia': 2847, 'right groin sarcoma': 2848, 'left upper lobe nodule': 2849, 'hepatacellular carcinoma': 2850, 'ketoacidosis': 2851, 'cancer': 2852, 'ventricular tachycardia ablation  ': 2853, 'new dilated cardiomyopathy': 2854, 'esophageal foreign body': 2855, 'hypaglycemia': 2856, ' foot ulcer': 2857, 'end stage renal diesease': 2858, 'dialysis catheter placement': 2859, 'elevate troponin': 2860, 'aortis stenosis': 2861, 'bental procedure w': 2862, ' total arch under deep hypothermic circulation arrest': 2863, ' coronary artery bypass graft    ': 2864, 'rectal sheath hematoma': 2865, 'subdural hemotoma': 2866, ' carotid stenosis': 2867, 'enterocutaneous fistula': 2868, 'gerd': 2869, 'behydration': 2870, 'perforated right coronary artery': 2871, 'tracheal bronchialmalacia': 2872, ' coronary artery disease': 2873, 'perforation s': 2874, 'peripheral vascular ds': 2875, 'aortic anuerysm w': 2876, ' emobilzation': 2877, 'chemotherapy': 2878, 'right knee osteoarthritis': 2879, ' obstructing stone': 2880, 'hanging injury': 2881, 'srtoke': 2882, 'o pancreatitis': 2883, 'asytolic arrest': 2884, 'urinary obstruction': 2885, ' new malignancy': 2886, ' ascending aorta ': 2887, 'unable to walk': 2888, 'superior vena cava stenosis': 2889, 'superior vena cava stent placement': 2890, 'purulent sternal incision wound': 2891, 'acidemia': 2892, ' electrolyte abnormalities': 2893, 'o vertebral artery dissection': 2894, ' hypoxemia': 2895, 'aortic regurgitation': 2896, 'hyperosmolar syndrome': 2897, 'artial fibrillation': 2898, 'recurrent incisional hernias x2': 2899, 'antidepressant overdose': 2900, 'crani': 2901, 'right inguinal ': 2902, 'gallbladder infection': 2903, 'vtah': 2904, ' brain tumor': 2905, 'infection left axillo femoral graft': 2906, \"addison's\": 2907, 'non healing left lower extremity ulcer': 2908, 'pulseless foot': 2909, 'renal cancer left side': 2910, 'malfucntion stent graft': 2911, 'severe right superficial femoral artery stenosis': 2912, 'trachial stenosis': 2913, 'herniated disc': 2914, 'p cardiac cath': 2915, 'non union fracture': 2916, ' left femur': 2917, 'ampullary mass': 2918, 'thrombosed stent': 2919, ' colovestical fistula': 2920, 'brady cardia': 2921, 'bilateral infected heel ulcers': 2922, 'sternal fx rib fx ptx': 2923, ' hip fix': 2924, 'sci': 2925, 'non0q0wave myocardial infarction': 2926, 'ischemic ulceration left foot': 2927, 'pancreatic cyst': 2928, ' increased ascites': 2929, 'abdomonal pain': 2930, ' possible lead placement via right thoracotomy vs sternotomy  ': 2931, 'segment elevation myocardial infaction': 2932, 'type b aortic dissection': 2933, 'chronic myeloid leukemia': 2934, 'left foot osteomyelitis': 2935, 'acute respiratory distress': 2936, ' coronary artery bypass graft with ': 2937, 'hyoperglycemia': 2938, 'p motor vehicle accident with injuries': 2939, 'right femur head fracture': 2940, 'dislocation': 2941, 'right upper lobe lung mass': 2942, 'clotted tips': 2943, 'sacral decub': 2944, 'neoplasm of left retro peritoneal ': 2945, ' icd test': 2946, 'p motorcycle crash': 2947, 'hyperosmotor nonketoic coma': 2948, 'machanical atrial valve replacement': 2949, ' myectomy': 2950, 'p ventricular fibrillation arrest': 2951, 'resp ditress': 2952, 'respiratory decompression': 2953, 'p liver biopsy': 2954, 'hemoptosis': 2955, 'doe': 2956, 'traumatic pancreatitis': 2957, 'stroke ': 2958, 'gangrene l foot': 2959, 'typhlitis': 2960, 'left retroperitoneal sarcoma': 2961, 'hypereclemia': 2962, 'hepatic encephalopahty': 2963, 'pancreas kidney transplant': 2964, 'epidural abcess': 2965, 'pannus ulcers': 2966, 'endstage liver': 2967, 'kidney disease': 2968, 'rle thrombosis': 2969, 'pancreatic transplant': 2970, 'gastric outlet obstruction': 2971, 'non st elevation': 2972, 'petitonitis': 2973, 'urine': 2974, 'symptomatic internal carotid artery': 2975, ' new left bundle branch block': 2976, 'diaretic resistant ascites w': 2977, ' inr ste': 2978, ' repair ascending aortic aneurysm': 2979, 'cerebral arteriovenous malformation': 2980, 'p sepsis': 2981, 'closed reduction of shoulder': 2982, 'left paralysis': 2983, 'cardiac carth': 2984, 'cerebrobasvular accident': 2985, 'digoxin toxicity': 2986, 'celluliitis': 2987, 'left main stem obstruction': 2988, 'cancer of thyroid': 2989, 'positive exercise tolerance test': 2990, 'aortic valve endocarditis': 2991, 'hypothrombonemia': 2992, 'decubitis ulcer': 2993, 'right and left cardiac cath': 2994, 'open wound of the sacrum': 2995, 'diabetic ulcer': 2996, ' left foot': 2997, 'left main coronary artery stent placement': 2998, 'mediastinal adenopathy with extrinsic compression of trachea': 2999, ' hyponatremia': 3000, 'cerebral contusion': 3001, ' redo sternotomy ': 3002, 'iv hydration': 3003, 'painful hardware right foot': 3004, 'inferior lateral myocardial infarction': 3005, 'hydration': 3006, 'cath and lower extremity angiogram': 3007, 'infected right foot': 3008, 'iv antibiotic': 3009, 'colocutaneous fistula': 3010, 'delta mental status changes': 3011, 'p thyroidectomy': 3012, 'left tentorial lesion ': 3013, ' meningioma': 3014, 'kidney cancer': 3015, 'new brain mets': 3016, 'femoral hernia': 3017, 'rising wbc': 3018, 'perforated duodenum': 3019, 'aortic stensis': 3020, ' coronary artery bypass graft with avr redo ': 3021, 'left carotid angiogram via right groin access': 3022, 'portal vein thrombus': 3023, ' redo stenotomy avr': 3024, 'non ste mi': 3025, 'pulmomnary embolus': 3026, 'cerebellar mass versus stroke': 3027, 'seziure': 3028, 'ankle fracture': 3029, 'cord contusion': 3030, ' anemia': 3031, 'p arrest at rehab': 3032, 'coronary artery bypass graft with maze ': 3033, 'c2 fx': 3034, 'aortic abdominal aneurysm': 3035, 'av block': 3036, 'hypeerkalemia': 3037, 'chronic osteomyelitis': 3038, '34 weeks placenta creda and abd pain': 3039, 'pancreatic head cancer': 3040, 'epilepsy': 3041, 'diabetic leg ulcer': 3042, 'acitic stenosis': 3043, 'elevated white count': 3044, ' hallucinations': 3045, 'abd': 3046, ' pain ': 3047, 'bleeding brain mets': 3048, 'lumphoma': 3049, 'vaginal bleed': 3050, 'r hip fracture': 3051, 'gallstane': 3052, 'thoracic cord compression': 3053, 'exploratory lap': 3054, 'vomitting': 3055, 'finger cellulitis': 3056, 'uncontrolled hypertension': 3057, 'rule out lymphoma': 3058, 'infected left toe ulcer': 3059, 'tca toxicity': 3060, 'tacycardia': 3061, 'obese': 3062, 'hardware failure': 3063, ' spinal metastasis': 3064, 'possible angioplasty': 3065, 'stentplacement': 3066, 'coronary artery disese': 3067, 'status post c5': 3068, 't2 fusion': 3069, 'status post fall with fracture': 3070, 'met renal cell ca': 3071, 'trachel obstruction': 3072, '  with avr redo ': 3073, ' htn emergency': 3074, 'supra glottitis': 3075, 'gangrene toes': 3076, ' bilateral feet': 3077, 'low o2 saturation': 3078, 'acute myeloid leukemia': 3079, 'ostemylitis right foot': 3080, 'p cadaver renal transplant': 3081, ' hypertentive urgency': 3082, 'infected left leg ulcers': 3083, 'infected right thigh graft': 3084, 'glioblastoma': 3085, 'arr': 3086, 'left leg angio': 3087, ' insertion permacath w': 3088, 'arm right internal jugular': 3089, 'ischemic toes': 3090, 'recurrent endometrial sarcoma': 3091, 'alcohol intoxication': 3092, 'bronchoscopy rigid w': 3093, 'microdebrider': 3094, '  mitomycin c': 3095, ' balloon dilitation': 3096, ' atrial tachycardia ablation ': 3097, 'intra cranial hemorrhage': 3098, 'c3 fracture': 3099, 'traumatic subdural hematoma': 3100, ' aortic dissection': 3101, 'cerebellar mass': 3102, 'afib rvr': 3103, 'p motor vehicle accident rollover': 3104, 'alveolar hemorrhage': 3105, 'motorcycle crash': 3106, 'neumonia': 3107, 'unresponsive and seized': 3108, 'elevated liver function test': 3109, 'gastric ulcers': 3110, 'retropharyngeal phlegmon': 3111, 'pulm fibrosis flare': 3112, 'ischemic legs': 3113, 'sepsis s': 3114, 'p bill knee repl': 3115, 'carcino sarcoma right thigh': 3116, 'hx aortic stenosis': 3117, ' thorascopy': 3118, 'tracheal stoma dilation': 3119, ' apical aortic conduit': 3120, 'femoral femoral bypass': 3121, 'bactremia': 3122, 'fulminant c': 3123, 'diff': 3124, ' pulmonary hypertension': 3125, ' chronic liver failure': 3126, ' chronic renal failure': 3127, ' endarterectomy ': 3128, 'spleen': 3129, 'laceration': 3130, 'hypertrnsive emergency': 3131, \"cad'\": 3132, 'end stage renal failure': 3133, 'electrolyte imbalance': 3134, 'low platelets': 3135, 'leukema': 3136, 'slurred speech': 3137, 'failed total hip replacement': 3138, ' multiple sclerosis changes': 3139, 'lumbar ': 3140, 'right leg claudication': 3141, ' right ventricular thrombus': 3142, 'ischemic rest pain for iv antibiotics': 3143, 'lateral ischemia': 3144, 'acute renal disease': 3145, 'c7 fracture': 3146, 'left hand wound': 3147, ' resection aneurysm thoracic': 3148, ' left chest': 3149, 'hyperglycemic nonketotic syndrome': 3150, 'polyp adenomatous': 3151, 'alcoholic ketoacidosis': 3152, 'infection s': 3153, 'p hernia repair': 3154, 'o biliary obstruction': 3155, 'resection': 3156, 'abdominal an eurysm': 3157, ' via left chest': 3158, 'bilateral foot gangrene': 3159, 'frontal sinus fracture': 3160, 'etoh intoxication': 3161, 'cervical disc neuro compression': 3162, 'rectal': 3163, ' vaginal fistula': 3164, 'ablation': 3165, 'nec pancreatitis': 3166, 'p tpa': 3167, 'k': 3168, ' malaise': 3169, ' elevated wbc': 3170, 'near drowning': 3171, 'methadone overdose': 3172, 'stomach mass': 3173, 'elevated lfts': 3174, 'st segment myocardial infarction': 3175, 'tm': 3176, ' respiratory distress': 3177, ' ped struck': 3178, 'healing foot ulcer': 3179, ' new angina': 3180, 'acute on chronic rf': 3181, 'ethanol septal ablation': 3182, 'mass lesion in brain': 3183, 'depressed ef ': 3184, 'mitral disorder': 3185, ' tvr ': 3186, ' deep hypothermic circulatiory arrest': 3187, 'gangrene of the toe': 3188, 'infected renal stone': 3189, ' sudden cardiac death risk': 3190, 'icd implantation ': 3191, ' biventricular': 3192, 'cerebro vascular accident': 3193, 'lower gi': 3194, 'hyperglycemia and upper gi bleed': 3195, 'low hct': 3196, 'facial infection': 3197, 'feer': 3198, 'aplastic anemia': 3199, ' pnh': 3200, 'etoh ': 3201, 'concern of toxic etoh': 3202, 'lrg pain': 3203, 'necrotizing fasceitis': 3204, 'sternal lesion': 3205, 'sternal biopsy ': 3206, ' dka': 3207, 'j': 3208, 'ongoing angina': 3209, 'increased wbc': 3210, 'arterial insufficiency': 3211, 'p gun shot wound': 3212, 'status post fall': 3213, 'anticoagulation': 3214, 'elevated liver function tests': 3215, 'carotid angiogram  and stent': 3216, 'ascending ': 3217, ' descending aorta': 3218, ' ascending aortic arch w': 3219, 'right sided trigeminal neuralgia': 3220, 'faoled graft right leg': 3221, 'post op': 3222, 'persistent hypotension': 3223, 'renal arteriogran': 3224, 'po fall': 3225, 'pre op pancreas tx': 3226, 'mitral valve vs replacement ': 3227, 'ptx': 3228, 'epiglottitis': 3229, 'non small cell carcinoma': 3230, 'decompensated liver failure': 3231, 'jaw pain': 3232, 'dyspnea on exersion': 3233, 'ischemic ulcer left foot': 3234, 'cellulitis ulcers': 3235, 'hypotensive episode': 3236, 'bilateral pulmonary nodules': 3237, 'esld': 3238, 'head bleed with shift': 3239, 'orbital fracture': 3240, 'penile laceration': 3241, 'esophageal varices': 3242, 'refractory gi bleed': 3243, ' right leg': 3244, ' uremic syndrome': 3245, 'pericolostomy hernia': 3246, 'changes in mental status': 3247, 'p falls': 3248, 'afib with rapid ventricular response': 3249, '  sternal plating w': 3250, ' talon system': 3251, ' bilateral pec flap advancement': 3252, \"tracheobrochomalacia'\": 3253, 'hepito cellula carcinoma': 3254, 'retro': 3255, 'peritoneal bleed': 3256, 'entry tachycardia': 3257, 'entry tachycardia ablation': 3258, 'question of stroke': 3259, 'diastolic dysfunction': 3260, 'unspecified injuiries from trauma': 3261, 'ascending and hemi': 3262, 'arch replacement w': 3263, ' full maze   ': 3264, 'splenic': 3265, 'liver laceration': 3266, 'clival mass': 3267, 'status post bentall maze': 3268, ' pericardial tamponade': 3269, 'portal htn': 3270, 'status post ventricular fibrillation arrest': 3271, 'let heart catheterization': 3272, 'implantable cardioverter defibrillator implant ': 3273, 'wave myocardial infartion': 3274, 'left lower lobe ca': 3275, 'sick sinus syndrome': 3276, 'pacemaker implant': 3277, 'atrial clot': 3278, 'ulceration': 3279, 'aortic and mitral valve replacement redo': 3280, 'artrial fibrillation': 3281, 'peri rectal abscess': 3282, 'central maglinant airway obstruction': 3283, 'high inr s': 3284, 'splenic rupture': 3285, 'osteoarthritis': 3286, ' bilateral knees': 3287, \"ogilvie's syndrome\": 3288, 'right ankle fracture': 3289, 'necrosis': 3290, 'right ankle wound': 3291, 'chemo embolization liver': 3292, 'parotid cancer': 3293, 'asthma copd exacerbation': 3294, 'intractable pain': 3295, 'heart disease': 3296, 'coroanry artery stenosis': 3297, 'right carotid stent placement': 3298, 'osteoarthritis leftknee': 3299, 'p thrombectomy': 3300, 'saddle embolua': 3301, 'right middle lobe mass': 3302, 'st elevations': 3303, 'acute diverticulitis': 3304, 'pleurisy': 3305, 'left middle cerebral artery aneurysm': 3306, 'coronary artery bypass graft with mvr  ': 3307, 'withdrawal': 3308, 'coronary artery bypass graftwith mvr ': 3309, 'tracheo broncho malacia': 3310, 'hyponatremia with seizure': 3311, 'motorcycle accident': 3312, 'periappendiceal abscess': 3313, 'renal mass left': 3314, 'agitation and gib': 3315, 'low platelet count': 3316, 'renal biopsy': 3317, 'p bilateral hernia repair': 3318, 'lyphanopathy': 3319, 'abnormal liver function test': 3320, 'op for mvr on 1': 3321, '21': 3322, '02': 3323, 'hyperglycemic hyperosmolar syndrome': 3324, 'parietal bleed': 3325, ' peripancreatic pseudo cyst': 3326, 'right leg ischemia': 3327, ' bental homograft procedure': 3328, ' radial artery': 3329, ' left internal mammary artery': 3330, 'possible supraventricular tachycardia ablation': 3331, 'auxillary bypass femoral bleeding': 3332, 'acute onset chf': 3333, ' need for access': 3334, ' si': 3335, 'vocal fold paralysis': 3336, 'infected thigh wound': 3337, 'prior myocardial infarction': 3338, 'foreign body in esophagus': 3339, 'left neck mass': 3340, 'cervical 1': 3341, '2 fracture': 3342, ' etoh withdrawal': 3343, 'compression fx': 3344, ' possible coronary artery bypass graft ': 3345, 'acute kidney injury': 3346, 'osteomyelitis left foot': 3347, 'carotid stenosis ': 3348, 'charcot deformity right foot': 3349, 'subural hematoma': 3350, 'new pericardial effusion': 3351, 'leg wound': 3352, '3 vessel disease requiring coronary artery bypass graft': 3353, 'angioplaty w': 3354, ' stent placement of left circumflex': 3355, 'p seizure': 3356, ' vasculitis': 3357, 'hypertensive hemorrhage': 3358, 'recurrent right retroperitoneal sarcoma': 3359, 'erectile dysfuction': 3360, 'icd lead recall': 3361, 'icd lead extraction w': 3362, 'upgrade biv icd ': 3363, ' epicardial lead placement ': 3364, 'implantable cardioverter defibrillator placement': 3365, 'rectal malignant neoplasm': 3366, 'kypho': 3367, 'c6 neck abscess': 3368, 'cirrhosis gi bleed': 3369, 'l wrist fx': 3370, ' diff colitis': 3371, 'pseudocyst pancreatic': 3372, 'renal angiogram': 3373, 'off pump coronary artery bypass endoscopic left chest ': 3374, 'lower extremity rest pain': 3375, 'pulseless electrical': 3376, ' mental status changes': 3377, 'diabetic ketoacidoosis': 3378, 'cardiac cath with intravascular ultrasound': 3379, 'hysteroscopy ': 3380, 'scrotal cellulitis': 3381, 'brain lesion': 3382, 'vertebral fracture': 3383, 'myalgias': 3384, 'hematemasis': 3385, 't1 fracture': 3386, \" chron's disease\": 3387, 'aortic vavle disorder': 3388, 'spinal cord compression': 3389, 'hypertenbsive emergency': 3390, 'p motor vehicle acdicent': 3391, 'endstage renal disease': 3392, 'ca stomach': 3393, 'wound drainage': 3394, 'status epillectus': 3395, 'gangrene of scrotum': 3396, 'ro': 3397, ' rhabdomylsis': 3398, 'right patella fracture': 3399, 'bacterial meningitis': 3400, ' bowel perforation': 3401, 'intreparenchymal hemorrhage': 3402, 'hypercapneic respiratory failure': 3403, 'uterine tumor': 3404, 'bilateral hydronephrosis': 3405, 'via direct aortic access with pump stand': 3406, 'necrotizing fasciitis left leg': 3407, 'intraventricular bleed': 3408, 'tracheal injury': 3409, 'biv icd implant in o': 3410, 'left internal mammary artery': 3411, ' left anterior descending intervention': 3412, 'ramus artery stent placement': 3413, 'angio': 3414, 'innominate artery bypass': 3415, 'uncontrolled diabetes': 3416, 'lukemia': 3417, 'open chest wouk': 3418, 'debridement sternum with flap': 3419, 'abdominal aortic occlusion': 3420, 'gangrene bilateral lower extremities': 3421, 'cervical spine fx': 3422, 'congestive hearth failure': 3423, 'hydronephrosis': 3424, 'left celebral stenosis': 3425, 'aortic balloon pump placement': 3426, 'avr w': 3427, 'colon carcinoma': 3428, 'right shoulder dislocation': 3429, 'ulnar nerve involvement': 3430, 'advanced heart failure': 3431, ' spine fx': 3432, 'scloliosis': 3433, ' stenosis': 3434, 'decreased blood pressure': 3435, 'cartid stenosis': 3436, 'carotid': 3437, 'left sided hemiparesis': 3438, 'glagarine insulin overdose': 3439, 'encephalitis': 3440, '  mitral valve replacement ': 3441, \"crohn's flare\": 3442, ' trops': 3443, ' nausea and vomiting': 3444, 'sternal fx': 3445, 'chest abscess': 3446, 'left eart catheterization': 3447, 'colitis flare': 3448, 'o cva': 3449, 'tracheo bronchial malacia': 3450, 'fevere': 3451, 'dilated cardiomyopathy': 3452, 'asthma flare': 3453, 'unresolved biliary obstruction': 3454, 'chest pain dyspnea': 3455, 'morbid obesity and gallstones': 3456, 'o mediastinitis': 3457, 'evolving mi': 3458, 'unable to take po': 3459, 'right chest hematoma': 3460, ' abdominal pain': 3461, 'bilateral pulmonary embolism': 3462, ' nausea vomiting': 3463, 'pneumonitis': 3464, 'stage renal disease': 3465, 'sz': 3466, ' coffee ground emesis': 3467, 'emphysema': 3468, 'aspergillosis': 3469, 'st elevated myocardial infarct': 3470, 'svc syndrome': 3471, 'cardiac': 3472, 'frontal brain meningioma': 3473, 'leaking aneurysm': 3474, 'thoracic dissection': 3475, 'etoh liver disease': 3476, 'bleeding from nephrectony site': 3477, 'hypoglyemia': 3478, ' usa': 3479, 'diaphragmatic hernia': 3480, 'left ankle infection': 3481, 'initiation of flolan': 3482, 'l4 nonunion and stenosis': 3483, 'clostridium difficile': 3484, ' tri': 3485, 'cuspid valve replacement': 3486, 'increased intraocular pressures': 3487, ' polyps': 3488, 'acute mental status changes': 3489, 'vein thrombus': 3490, 'rhabdomyelosis': 3491, 'thoracic myelopathy': 3492, 'cardiac cath with aortic valvuloplasty': 3493, 'ischemic right lower leg': 3494, 'aortic stenosis mitral regurgitation': 3495, 'intervention': 3496, 'septic right knee': 3497, 'symptomatic fibroid uterus': 3498, 'myeloma': 3499, 'severe anemia': 3500, ' microdebridement': 3501, ' cryo': 3502, 'therapy': 3503, ' tracheal cannula change ': 3504, 'left rib fractures': 3505, 'pre op pancreas transplant': 3506, 'right pleural effusion': 3507, 'o mi s': 3508, 'rt eye inflammation': 3509, 'vision loss': 3510, 'thymoma': 3511, 'hypoglycemia and hypecarbia': 3512, 'icd lead fracture': 3513, 'right renal stone disease': 3514, 'tracheo bronchomalacia': 3515, 'dysphasia': 3516, 'subacute myocardial infarction': 3517, ' carotid stenosis left': 3518, 'coronary artery bypass graft  endarterectomy carotid left': 3519, ' with mitral valve replacement': 3520, 'perforated viscus': 3521, 'right renal ca': 3522, 'cutanious fistula': 3523, 'right cerebella lesion': 3524, 'pneumoperitoneum': 3525, 'apical ischemia': 3526, 'li toxicity': 3527, 'osteomylitis and cellulitis of left foot': 3528, 't9': 3529, 't10 vertebral osteomyelitis': 3530, 'avm': 3531, 'blood loss': 3532, 'off pump coronary artery bypass': 3533, 'o stroke': 3534, 'colon tumor': 3535, 'three vessell disease': 3536, 'resolved upper gi bleed': 3537, 'mitral valve infection': 3538, 'percutaneous transluminal coronary angiogram': 3539, ' off pump coronary artery': 3540, ' bypass': 3541, 'mitral regurgitation ': 3542, 'graft infection': 3543, 'chest heaviness': 3544, 'mitral valve deficiency': 3545, ' atrial septal defect repair ': 3546, 'aortic regurgitation ': 3547, 'aortic and mitral valve replacement w': 3548, 'throat swelling': 3549, 'fever of an unknown origin': 3550, 'cerebellar stroke': 3551, 'thrombectomy': 3552, 'transplant rejection': 3553, ' pulmonary edema': 3554, ' diabetes melllitus': 3555, 'multivessel stenting': 3556, 'acute chronic respiratory failure': 3557, 'eps and atrial flutter ablation ': 3558, 'acute lymphocytic leukemia': 3559, 'thoracoscopic maze procedure': 3560, ' bilateral': 3561, 'coronary artery bypass graft x4 ': 3562, ' uretheral stricture': 3563, 'neuropathy': 3564, 'spondylolithesis': 3565, 'supraglottic mass': 3566, 'chronic lymphocytic leukemia': 3567, 'lactic acidosis': 3568, 'pulseless left leg': 3569, 'traumatic subarachnoid hemorrhage': 3570, 'rt hip fracture': 3571, 'breast cancer with brain metastasis': 3572, 'pneumomia': 3573, 'acute renal failoure': 3574, 'back': 3575, 'abdominal wall hematoma': 3576, 'hematocrit drop': 3577, 'spine infection': 3578, 'knee replacement total left': 3579, 'posterior fossa mass lesion': 3580, 'necroizing fasciitis': 3581, 'psoriatic arthritis': 3582, 'orencia infusion': 3583, 'laryngeal stenosis': 3584, 'icd battery  failure': 3585, 'ventricular tachycardia storm': 3586, 'repeat cabg': 3587, 'opiate overdose': 3588, 'seizure vs stroke': 3589, ' aprtic stenosis': 3590, 'left foot non healing ulcer': 3591, ' enterocutaneous fistula': 3592, 'o pancreatic cancer in common bile duct': 3593, 'right sided heart failure': 3594, 'congenital heart disease': 3595, ' cp': 3596, 'vernticular tachycardia': 3597, 'tongue laceration': 3598, ' upper gastrointestinal bleed': 3599, ' urinary tract infection': 3600, 'smoke inhalation': 3601, 'unresponsive hyperkalemia': 3602, ' diabetic ketoacidosis': 3603, 'joint infection': 3604, 'left hip infection': 3605, 'chylothorax': 3606, 'coronary intervention': 3607, 'lower extremity ischemia': 3608}\n",
      "    hadm_id  subject_id  expire_flag  \\\n",
      "0    137275        9319            0   \n",
      "1    125380       31585            0   \n",
      "2    132722        1426            0   \n",
      "3    101422       71582            0   \n",
      "4    139687       68501            0   \n",
      "5    148291        9299            0   \n",
      "6    116534       46467            0   \n",
      "7    193449       60763            0   \n",
      "8    133497       20374            0   \n",
      "9    184844       29851            0   \n",
      "10   179804       28857            0   \n",
      "11   165465       41822            0   \n",
      "12   113948       67984            0   \n",
      "13   142977       61378            0   \n",
      "14   157271       86102            0   \n",
      "15   121811       27583            0   \n",
      "16   140337       76715            0   \n",
      "17   171643       76547            1   \n",
      "18   144033       67248            0   \n",
      "19   108386       86786            1   \n",
      "20   141747       26355            0   \n",
      "21   185232       46467            0   \n",
      "22   126010       22841            1   \n",
      "23   113177       73286            0   \n",
      "24   112631        6597            0   \n",
      "\n",
      "                                            diagnosis admission_type  age  \\\n",
      "0                                   LEFT RENAL CA/SDA       ELECTIVE   82   \n",
      "1                                           PNEUMONIA      EMERGENCY  300   \n",
      "2                             LEFT FRONTAL HEMORRHAGE      EMERGENCY   80   \n",
      "3                                     AORTIC STENOSIS      EMERGENCY   76   \n",
      "4                                CAROTID STENOSIS/SDA       ELECTIVE   86   \n",
      "5                                          HEMOPTYSIS      EMERGENCY   62   \n",
      "6       AORTIC STENOSIS\\AORTIC VALVE REPLACEMENT /SDA       ELECTIVE   82   \n",
      "7                             LIKELY THROMBOCYTOPENIA      EMERGENCY   38   \n",
      "8   CORONARY ARTERY DISEASE\\CORONARY ARTERY BYPASS...       ELECTIVE   56   \n",
      "9                        UPPER GASTROINTESTINAL BLEED      EMERGENCY  300   \n",
      "10                                     BRAIN MASS/SDH      EMERGENCY   58   \n",
      "11  CORONARY ARTERY DISEASE\\CORONARY ARTERY BYPASS...       ELECTIVE   67   \n",
      "12  CORONARY ARTERY DISEASE\\CORONARY ARTERY BYPASS...       ELECTIVE   53   \n",
      "13  CORONARY ARTERY DISEASE\\CORONARY ARTERY BYPASS...       ELECTIVE   63   \n",
      "14                                   AORTIC OCCLUSION      EMERGENCY  300   \n",
      "15                                     UPPER GI BLEED      EMERGENCY   47   \n",
      "16  ATRIAL FIBRILLATION\\CARDIOVERSION;TRANSESOPHAG...      EMERGENCY   70   \n",
      "17                        INTRAPARENCHYMAL HEMORRHAGE      EMERGENCY   79   \n",
      "18                                        STROKE; TIA      EMERGENCY   76   \n",
      "19                                           T10 MASS      EMERGENCY   83   \n",
      "20                         MYOCARDIAL INFARCTION\\CATH      EMERGENCY   69   \n",
      "21                                         CELLULITIS      EMERGENCY   82   \n",
      "22                   STROKE-TRANSIENT ISCHEMIC ATTACK      EMERGENCY  300   \n",
      "23                                           S/P FALL      EMERGENCY   50   \n",
      "24                                 ISCHEMIC RIGHT LEG       ELECTIVE   72   \n",
      "\n",
      "                                              glucose  admission_type_encoded  \\\n",
      "0   [167.0, 157.0, 157.0, 143.0, 143.0, 113.0, 113...                       0   \n",
      "1   [127.0, 127.0, 127.0, 113.0, 113.0, 113.0, 133...                       1   \n",
      "2   [172.0, 165.0, 165.0, 154.0, 154.0, 205.0, 205...                       1   \n",
      "3   [140.0, 164.0, 178.0, 109.0, 158.0, 157.0, 139...                       1   \n",
      "4                 [251.0, 163.0, 121.0, 180.0, 162.0]                       0   \n",
      "5   [85.0, 87.0, 87.0, 77.0, 85.0, 97.0, 101.0, 10...                       1   \n",
      "6   [214.0, 178.0, 93.0, 150.0, 172.0, 169.0, 147....                       0   \n",
      "7                                      [115.0, 102.0]                       1   \n",
      "8   [145.0, 145.0, 189.0, 189.0, 196.0, 196.0, 156...                       0   \n",
      "9   [108.0, 104.0, 104.0, 108.0, 204.0, nan, 240.0...                       1   \n",
      "10  [169.0, 169.0, 186.0, 140.0, 140.0, 109.0, 180...                       1   \n",
      "11  [147.0, 131.0, 153.0, 127.0, 123.0, 144.0, 141...                       0   \n",
      "12  [129.0, 140.0, 144.0, 158.0, 125.0, 100.0, 144...                       0   \n",
      "13  [75.0, 71.0, 70.0, 70.0, 89.0, 86.0, 79.0, 96....                       0   \n",
      "14  [344.0, 322.0, 323.0, 312.0, 276.0, 221.0, 171...                       1   \n",
      "15  [204.0, 204.0, 204.0, 184.0, 170.0, 170.0, 173...                       1   \n",
      "16                                     [174.0, 122.0]                       1   \n",
      "17  [385.0, 431.0, 365.0, 216.0, 145.0, 126.0, 47....                       1   \n",
      "18  [245.0, 124.0, 112.0, 128.0, 148.0, 128.0, 112...                       1   \n",
      "19  [184.0, 189.0, 150.0, 139.0, 135.0, 116.0, 254...                       1   \n",
      "20  [187.0, 187.0, 136.0, 180.0, 180.0, 116.0, 155...                       1   \n",
      "21  [184.0, 120.0, 132.0, 188.0, 118.0, 137.0, 139...                       1   \n",
      "22  [137.0, 181.0, 181.0, 117.0, 78.0, 86.0, 131.0...                       1   \n",
      "23  [329.0, 309.0, 219.0, 168.0, 186.0, 221.0, 224...                       1   \n",
      "24  [158.0, 158.0, 301.0, 301.0, 299.0, 299.0, 306...                       0   \n",
      "\n",
      "   diagnosis_tokenized  \n",
      "0                  [1]  \n",
      "1                  [4]  \n",
      "2                   []  \n",
      "3                 [16]  \n",
      "4              [73, 1]  \n",
      "5                [103]  \n",
      "6          [16, 59, 1]  \n",
      "7                   []  \n",
      "8           [2, 12, 1]  \n",
      "9                 [56]  \n",
      "10                [98]  \n",
      "11          [2, 11, 1]  \n",
      "12          [2, 11, 1]  \n",
      "13          [2, 11, 1]  \n",
      "14                  []  \n",
      "15                [19]  \n",
      "16                [65]  \n",
      "17               [115]  \n",
      "18                [18]  \n",
      "19                  []  \n",
      "20             [22, 9]  \n",
      "21                [32]  \n",
      "22            [18, 31]  \n",
      "23            [10, 35]  \n",
      "24                  []  \n"
     ]
    }
   ],
   "source": [
    "print(tokenizer.word_index)\n",
    "print(finalDF.head(25))"
   ]
  },
  {
   "cell_type": "code",
   "execution_count": 155,
   "metadata": {},
   "outputs": [],
   "source": [
    "glucose_count = {}\n",
    "for index,row in finalDF.iterrows():\n",
    "    glucose_list = row['glucose']\n",
    "    glucose_count[index] = 0\n",
    "    for num in glucose_list:\n",
    "        glucose_count[index] += 1"
   ]
  },
  {
   "cell_type": "code",
   "execution_count": 156,
   "metadata": {},
   "outputs": [],
   "source": [
    "num_readings = {}\n",
    "\n",
    "for key,value in glucose_count.items():\n",
    "    if(value in num_readings):        \n",
    "        num_readings[value] += 1\n",
    "    else:\n",
    "        num_readings[value] = 1\n",
    "    "
   ]
  },
  {
   "cell_type": "code",
   "execution_count": 157,
   "metadata": {},
   "outputs": [],
   "source": [
    "num = []\n",
    "occur = []\n",
    "\n",
    "for key,value in num_readings.items():\n",
    "    if(value > 30):\n",
    "        num.append(key)\n",
    "        occur.append(value)   "
   ]
  },
  {
   "cell_type": "code",
   "execution_count": 158,
   "metadata": {},
   "outputs": [
    {
     "data": {
      "image/png": "[encoded data removed]",
      "text/plain": [
       "<Figure size 1152x432 with 1 Axes>"
      ]
     },
     "metadata": {
      "needs_background": "light"
     },
     "output_type": "display_data"
    }
   ],
   "source": [
    "plt.figure(figsize=(16, 6))\n",
    "ax = sns.barplot(x=num, y=occur)"
   ]
  },
  {
   "cell_type": "code",
   "execution_count": 159,
   "metadata": {},
   "outputs": [],
   "source": [
    "glucose_dict = {}\n",
    "for index,row in finalDF.iterrows():\n",
    "    glucose_list = row['glucose']\n",
    "    num = index\n",
    "    if (len(glucose_list) <= 25): \n",
    "        for glu in reversed(glucose_list):        \n",
    "            glucose_dict.setdefault(num, []).append(glu)  \n",
    "    else:\n",
    "        for i in range(1,26):\n",
    "            glucose_dict.setdefault(num, []).append(glucose_list[(len(glucose_list)-i)])"
   ]
  },
  {
   "cell_type": "code",
   "execution_count": 160,
   "metadata": {},
   "outputs": [],
   "source": [
    "#print(glucose_dict)"
   ]
  },
  {
   "cell_type": "code",
   "execution_count": 161,
   "metadata": {},
   "outputs": [],
   "source": [
    "glucoseDF = pd.DataFrame.from_dict(glucose_dict, orient='index')"
   ]
  },
  {
   "cell_type": "code",
   "execution_count": 162,
   "metadata": {},
   "outputs": [],
   "source": [
    "finalDF = finalDF.join(glucoseDF)"
   ]
  },
  {
   "cell_type": "code",
   "execution_count": 163,
   "metadata": {},
   "outputs": [],
   "source": [
    "diagnosis_dict = {}\n",
    "for index,row in finalDF.iterrows():\n",
    "    diagnosis_list = row['diagnosis_tokenized']\n",
    "    num = index\n",
    "    if(len(diagnosis_list) == 0):\n",
    "        diagnosis_dict.setdefault(num, []).append(-1)  \n",
    "    for dia in diagnosis_list:        \n",
    "        diagnosis_dict.setdefault(num, []).append(int(dia))  "
   ]
  },
  {
   "cell_type": "code",
   "execution_count": 164,
   "metadata": {},
   "outputs": [],
   "source": [
    "diagnosisDF = pd.DataFrame.from_dict(diagnosis_dict, orient='index')"
   ]
  },
  {
   "cell_type": "code",
   "execution_count": 165,
   "metadata": {},
   "outputs": [],
   "source": [
    "diagnosisDF.columns = ['a','b','c','d','e','f','g']"
   ]
  },
  {
   "cell_type": "code",
   "execution_count": 166,
   "metadata": {},
   "outputs": [],
   "source": [
    "finalDF = finalDF.join(diagnosisDF)"
   ]
  },
  {
   "cell_type": "code",
   "execution_count": 167,
   "metadata": {},
   "outputs": [],
   "source": [
    "finalDF = finalDF.drop(columns=['c','d','e','f','g'])"
   ]
  },
  {
   "cell_type": "code",
   "execution_count": 168,
   "metadata": {},
   "outputs": [],
   "source": [
    "def Average(lst): \n",
    "    return sum(lst) / len(lst)"
   ]
  },
  {
   "cell_type": "code",
   "execution_count": 170,
   "metadata": {},
   "outputs": [],
   "source": [
    "for index,row in finalDF.iterrows():\n",
    "    glucose_list = row['glucose']\n",
    "    glucose_list = np.array(glucose_list)\n",
    "    glucose_list = glucose_list[np.logical_not(np.isnan(glucose_list))]\n",
    "    if(glucose_list.size<=0):\n",
    "        #finalDF.loc[index,'mean'] = 0\n",
    "        finalDF.loc[index,'range'] = 0\n",
    "    else:\n",
    "        glucose_list = glucose_list.astype(int)\n",
    "        #mean = Average(glucose_list)\n",
    "        maxval = max(glucose_list)\n",
    "        minval = min(glucose_list)\n",
    "        #finalDF.loc[index,'mean'] = int(mean)\n",
    "        finalDF.loc[index,'range'] = (maxval - minval)\n",
    "\n",
    "for index,row in finalDF.iterrows():\n",
    "    if(row['range'] == 0):\n",
    "        finalDF.drop([index])\n",
    "    "
   ]
  },
  {
   "cell_type": "code",
   "execution_count": 171,
   "metadata": {},
   "outputs": [],
   "source": [
    "finalDF = finalDF.fillna(0)"
   ]
  },
  {
   "cell_type": "code",
   "execution_count": 172,
   "metadata": {},
   "outputs": [
    {
     "name": "stdout",
     "output_type": "stream",
     "text": [
      "     hadm_id  subject_id  expire_flag  \\\n",
      "0     137275        9319            0   \n",
      "1     125380       31585            0   \n",
      "2     132722        1426            0   \n",
      "3     101422       71582            0   \n",
      "4     139687       68501            0   \n",
      "5     148291        9299            0   \n",
      "6     116534       46467            0   \n",
      "7     193449       60763            0   \n",
      "8     133497       20374            0   \n",
      "9     184844       29851            0   \n",
      "10    179804       28857            0   \n",
      "11    165465       41822            0   \n",
      "12    113948       67984            0   \n",
      "13    142977       61378            0   \n",
      "14    157271       86102            0   \n",
      "15    121811       27583            0   \n",
      "16    140337       76715            0   \n",
      "17    171643       76547            1   \n",
      "18    144033       67248            0   \n",
      "19    108386       86786            1   \n",
      "20    141747       26355            0   \n",
      "21    185232       46467            0   \n",
      "22    126010       22841            1   \n",
      "23    113177       73286            0   \n",
      "24    112631        6597            0   \n",
      "25    112812        6155            0   \n",
      "26    143858       30875            0   \n",
      "27    123095       13988            0   \n",
      "28    145378       64919            0   \n",
      "29    161940       85860            0   \n",
      "..       ...         ...          ...   \n",
      "193   100263       54120            0   \n",
      "194   143945       32296            0   \n",
      "195   161180       23878            0   \n",
      "196   110021        1206            0   \n",
      "197   132469       11701            0   \n",
      "198   104068       19002            0   \n",
      "199   126807       60985            0   \n",
      "200   109012        3616            0   \n",
      "201   102272       63130            0   \n",
      "202   168225       92147            0   \n",
      "203   198775       16934            0   \n",
      "204   184780       95821            0   \n",
      "205   126773       64262            0   \n",
      "206   153670        5078            0   \n",
      "207   156170        6576            0   \n",
      "208   157300       88306            0   \n",
      "209   102018       77804            0   \n",
      "210   168300       15183            0   \n",
      "211   182771       81719            1   \n",
      "212   185008       18744            0   \n",
      "213   113163       17083            0   \n",
      "214   182965       12073            0   \n",
      "215   145659       16678            0   \n",
      "216   137817       72314            0   \n",
      "217   118849        6725            0   \n",
      "218   169847       13523            0   \n",
      "219   179270       52484            0   \n",
      "220   187156       71225            0   \n",
      "221   160588       25859            0   \n",
      "222   132911       46067            0   \n",
      "\n",
      "                                             diagnosis admission_type  age  \\\n",
      "0                                    LEFT RENAL CA/SDA       ELECTIVE   82   \n",
      "1                                            PNEUMONIA      EMERGENCY  300   \n",
      "2                              LEFT FRONTAL HEMORRHAGE      EMERGENCY   80   \n",
      "3                                      AORTIC STENOSIS      EMERGENCY   76   \n",
      "4                                 CAROTID STENOSIS/SDA       ELECTIVE   86   \n",
      "5                                           HEMOPTYSIS      EMERGENCY   62   \n",
      "6        AORTIC STENOSIS\\AORTIC VALVE REPLACEMENT /SDA       ELECTIVE   82   \n",
      "7                              LIKELY THROMBOCYTOPENIA      EMERGENCY   38   \n",
      "8    CORONARY ARTERY DISEASE\\CORONARY ARTERY BYPASS...       ELECTIVE   56   \n",
      "9                         UPPER GASTROINTESTINAL BLEED      EMERGENCY  300   \n",
      "10                                      BRAIN MASS/SDH      EMERGENCY   58   \n",
      "11   CORONARY ARTERY DISEASE\\CORONARY ARTERY BYPASS...       ELECTIVE   67   \n",
      "12   CORONARY ARTERY DISEASE\\CORONARY ARTERY BYPASS...       ELECTIVE   53   \n",
      "13   CORONARY ARTERY DISEASE\\CORONARY ARTERY BYPASS...       ELECTIVE   63   \n",
      "14                                    AORTIC OCCLUSION      EMERGENCY  300   \n",
      "15                                      UPPER GI BLEED      EMERGENCY   47   \n",
      "16   ATRIAL FIBRILLATION\\CARDIOVERSION;TRANSESOPHAG...      EMERGENCY   70   \n",
      "17                         INTRAPARENCHYMAL HEMORRHAGE      EMERGENCY   79   \n",
      "18                                         STROKE; TIA      EMERGENCY   76   \n",
      "19                                            T10 MASS      EMERGENCY   83   \n",
      "20                          MYOCARDIAL INFARCTION\\CATH      EMERGENCY   69   \n",
      "21                                          CELLULITIS      EMERGENCY   82   \n",
      "22                    STROKE-TRANSIENT ISCHEMIC ATTACK      EMERGENCY  300   \n",
      "23                                            S/P FALL      EMERGENCY   50   \n",
      "24                                  ISCHEMIC RIGHT LEG       ELECTIVE   72   \n",
      "25                               SEIZURES,HYPOGLYCEMIA      EMERGENCY   60   \n",
      "26                                    CLAUDICATION/SDA       ELECTIVE   72   \n",
      "27                                   AORTIC DISSECTION      EMERGENCY   74   \n",
      "28   CORONARY ARTERY DISEASE\\CORONARY ARTERY BYPASS...       ELECTIVE   62   \n",
      "29   AORTIC STENOSIS\\REDO STERNOTOMY W/ AORTIC VALV...       ELECTIVE   66   \n",
      "..                                                 ...            ...  ...   \n",
      "193                            RENAL FAILURE;PNEUMONIA      EMERGENCY   47   \n",
      "194                                    PANCREATIC MASS      EMERGENCY   71   \n",
      "195                                        CHOLANGITIS      EMERGENCY   71   \n",
      "196                                             SEPSIS      EMERGENCY   56   \n",
      "197  CORONARY ARTERY DISEASE\\CORONARY ARTERY BYPASS...       ELECTIVE   72   \n",
      "198                               PERICARDIAL EFFUSION      EMERGENCY   61   \n",
      "199                            CORONARY ARTERY DISEASE      EMERGENCY   59   \n",
      "200                      CONGESTIVE HEART FAILURE\\CATH      EMERGENCY   54   \n",
      "201                            SUBARACHNOID HEMORRHAGE      EMERGENCY   77   \n",
      "202                                 PULMONARY EMBOLISM      EMERGENCY   63   \n",
      "203                             GASTROINTESTINAL BLEED      EMERGENCY   73   \n",
      "204                              PERICARDIAL TAMPONADE      EMERGENCY   72   \n",
      "205                                          UROSEPSIS      EMERGENCY   63   \n",
      "206               CORONARY ARTERY DISEASE/CARDIAC CATH      EMERGENCY   66   \n",
      "207                                        BRADYCARDIA      EMERGENCY  300   \n",
      "208                              ALTERED MENTAL STATUS      EMERGENCY  300   \n",
      "209                            END STAGE LIVER DISEASE      EMERGENCY   47   \n",
      "210                               BACK PAIN-DISSECTION      EMERGENCY   70   \n",
      "211  EPIGASTRIC DISCOMFORT/ RULE OUT MYOCARDIAL INF...      EMERGENCY   89   \n",
      "212                                  HYPOGLYCEMIA/MSDS      EMERGENCY   44   \n",
      "213           RULE-OUT MYOCARDIAL INFARCTION;TELEMETRY      EMERGENCY   73   \n",
      "214                     S/P FALL;SUBARACHNOID HEMATOMA      EMERGENCY   85   \n",
      "215                              DIABETIC KETOACIDOSIS      EMERGENCY   27   \n",
      "216                                   RENAL HEMORRHAGE      EMERGENCY   74   \n",
      "217                                        BRADYCARDIA      EMERGENCY   81   \n",
      "218                                       GLOTTIC MASS      EMERGENCY   76   \n",
      "219                                   THROMBOCYTOPENIA      EMERGENCY   76   \n",
      "220                           ESOPHAGEAL CARCINOMA/SDA       ELECTIVE   60   \n",
      "221            TRANSIENT ISCHEMIC ATTACK\\CAROTID STENT      EMERGENCY  300   \n",
      "222                              PARCREATIC TRANSPLANT      EMERGENCY   46   \n",
      "\n",
      "                                               glucose  \\\n",
      "0    [167.0, 157.0, 157.0, 143.0, 143.0, 113.0, 113...   \n",
      "1    [127.0, 127.0, 127.0, 113.0, 113.0, 113.0, 133...   \n",
      "2    [172.0, 165.0, 165.0, 154.0, 154.0, 205.0, 205...   \n",
      "3    [140.0, 164.0, 178.0, 109.0, 158.0, 157.0, 139...   \n",
      "4                  [251.0, 163.0, 121.0, 180.0, 162.0]   \n",
      "5    [85.0, 87.0, 87.0, 77.0, 85.0, 97.0, 101.0, 10...   \n",
      "6    [214.0, 178.0, 93.0, 150.0, 172.0, 169.0, 147....   \n",
      "7                                       [115.0, 102.0]   \n",
      "8    [145.0, 145.0, 189.0, 189.0, 196.0, 196.0, 156...   \n",
      "9    [108.0, 104.0, 104.0, 108.0, 204.0, nan, 240.0...   \n",
      "10   [169.0, 169.0, 186.0, 140.0, 140.0, 109.0, 180...   \n",
      "11   [147.0, 131.0, 153.0, 127.0, 123.0, 144.0, 141...   \n",
      "12   [129.0, 140.0, 144.0, 158.0, 125.0, 100.0, 144...   \n",
      "13   [75.0, 71.0, 70.0, 70.0, 89.0, 86.0, 79.0, 96....   \n",
      "14   [344.0, 322.0, 323.0, 312.0, 276.0, 221.0, 171...   \n",
      "15   [204.0, 204.0, 204.0, 184.0, 170.0, 170.0, 173...   \n",
      "16                                      [174.0, 122.0]   \n",
      "17   [385.0, 431.0, 365.0, 216.0, 145.0, 126.0, 47....   \n",
      "18   [245.0, 124.0, 112.0, 128.0, 148.0, 128.0, 112...   \n",
      "19   [184.0, 189.0, 150.0, 139.0, 135.0, 116.0, 254...   \n",
      "20   [187.0, 187.0, 136.0, 180.0, 180.0, 116.0, 155...   \n",
      "21   [184.0, 120.0, 132.0, 188.0, 118.0, 137.0, 139...   \n",
      "22   [137.0, 181.0, 181.0, 117.0, 78.0, 86.0, 131.0...   \n",
      "23   [329.0, 309.0, 219.0, 168.0, 186.0, 221.0, 224...   \n",
      "24   [158.0, 158.0, 301.0, 301.0, 299.0, 299.0, 306...   \n",
      "25   [63.0, 331.0, 351.0, 351.0, 52.0, 140.0, 220.0...   \n",
      "26   [91.0, 91.0, 116.0, 116.0, 101.0, 101.0, 120.0...   \n",
      "27   [347.0, 339.0, 374.0, 296.0, 323.0, 197.0, 245...   \n",
      "28   [191.0, 198.0, 169.0, 139.0, 146.0, 138.0, 110...   \n",
      "29   [97.0, 112.0, 146.0, 142.0, 140.0, 140.0, 136....   \n",
      "..                                                 ...   \n",
      "193  [180.0, 319.0, 197.0, 118.0, 116.0, 155.0, 157...   \n",
      "194  [66.0, 89.0, 89.0, 89.0, 120.0, 108.0, 108.0, ...   \n",
      "195  [327.0, 327.0, 367.0, 231.0, 206.0, 204.0, 131...   \n",
      "196  [135.0, 154.0, 135.0, 128.0, 128.0, 157.0, 157...   \n",
      "197  [198.0, 198.0, 133.0, 133.0, 157.0, 157.0, 164...   \n",
      "198  [150.0, 136.0, 148.0, 155.0, 130.0, 130.0, 117...   \n",
      "199  [139.0, 194.0, 161.0, 120.0, 120.0, 160.0, 190...   \n",
      "200  [69.0, 69.0, 89.0, 118.0, 118.0, 106.0, 150.0,...   \n",
      "201  [192.0, 288.0, 206.0, 171.0, 98.0, 198.0, 126....   \n",
      "202  [111.0, 104.0, 102.0, 102.0, 112.0, 145.0, 138...   \n",
      "203  [110.0, 110.0, 82.0, 82.0, 73.0, 73.0, 80.0, 8...   \n",
      "204  [148.0, 173.0, 170.0, 165.0, 215.0, 226.0, 272...   \n",
      "205  [149.0, 124.0, 120.0, 164.0, 152.0, 150.0, 139...   \n",
      "206  [81.0, 81.0, 110.0, 110.0, 142.0, 142.0, 158.0...   \n",
      "207  [160.0, 188.0, 185.0, 185.0, 201.0, 185.0, 156...   \n",
      "208  [93.0, 91.0, 130.0, 137.0, 156.0, 126.0, 142.0...   \n",
      "209  [251.0, 326.0, 213.0, 235.0, 164.0, 140.0, 164...   \n",
      "210  [144.0, 171.0, 113.0, 113.0, 118.0, 156.0, 133...   \n",
      "211  [160.0, 157.0, 191.0, 180.0, 195.0, 210.0, 155...   \n",
      "212  [145.0, 131.0, 149.0, 134.0, 143.0, 176.0, 156...   \n",
      "213  [83.0, 83.0, 79.0, 79.0, 84.0, 84.0, 81.0, 206.0]   \n",
      "214                              [209.0, 128.0, 128.0]   \n",
      "215  [397.0, 415.0, 328.0, 192.0, 338.0, 364.0, 344...   \n",
      "216                                [87.0, 94.0, 107.0]   \n",
      "217  [211.0, 211.0, 247.0, 127.0, 106.0, 106.0, 112...   \n",
      "218  [159.0, 157.0, 163.0, 163.0, 144.0, 144.0, 189...   \n",
      "219  [184.0, 216.0, 180.0, 137.0, 158.0, 103.0, 103...   \n",
      "220                       [204.0, 245.0, 195.0, 199.0]   \n",
      "221  [77.0, 77.0, 148.0, 148.0, 183.0, 183.0, 179.0...   \n",
      "222  [76.0, 89.0, 107.0, 124.0, 104.0, 117.0, 109.0...   \n",
      "\n",
      "     admission_type_encoded diagnosis_tokenized      0  ...       18     19  \\\n",
      "0                         0                 [1]  118.0  ...    115.0  115.0   \n",
      "1                         1                 [4]  118.0  ...      0.0    0.0   \n",
      "2                         1                  []  104.0  ...      0.0    0.0   \n",
      "3                         1                [16]  106.0  ...    178.0  164.0   \n",
      "4                         0             [73, 1]  162.0  ...      0.0    0.0   \n",
      "5                         1               [103]  222.0  ...     81.0   91.0   \n",
      "6                         0         [16, 59, 1]  235.0  ...    119.0  177.0   \n",
      "7                         1                  []  102.0  ...      0.0    0.0   \n",
      "8                         0          [2, 12, 1]   89.0  ...    143.0  135.0   \n",
      "9                         1                [56]  122.0  ...    104.0  108.0   \n",
      "10                        1                [98]  175.0  ...    159.0  139.0   \n",
      "11                        0          [2, 11, 1]  168.0  ...    127.0  153.0   \n",
      "12                        0          [2, 11, 1]  146.0  ...    158.0  144.0   \n",
      "13                        0          [2, 11, 1]   99.0  ...      0.0    0.0   \n",
      "14                        1                  []  237.0  ...    103.0  142.0   \n",
      "15                        1                [19]  177.0  ...      0.0    0.0   \n",
      "16                        1                [65]  122.0  ...      0.0    0.0   \n",
      "17                        1               [115]  112.0  ...    187.0  250.0   \n",
      "18                        1                [18]  116.0  ...      0.0    0.0   \n",
      "19                        1                  []  258.0  ...      0.0    0.0   \n",
      "20                        1             [22, 9]  193.0  ...    157.0  152.0   \n",
      "21                        1                [32]  114.0  ...      0.0    0.0   \n",
      "22                        1            [18, 31]  162.0  ...    131.0  131.0   \n",
      "23                        1            [10, 35]  100.0  ...    146.0   97.0   \n",
      "24                        0                  []  136.0  ...    102.0  111.0   \n",
      "25                        1           [140, 41]  301.0  ...    509.0  483.0   \n",
      "26                        0            [133, 1]   99.0  ...     99.0   76.0   \n",
      "27                        1               [166]  324.0  ...    295.0  204.0   \n",
      "28                        0          [2, 11, 1]  163.0  ...    207.0  207.0   \n",
      "29                        0             [16, 1]  196.0  ...    136.0  121.0   \n",
      "..                      ...                 ...    ...  ...      ...    ...   \n",
      "193                       1             [37, 4]  113.0  ...      0.0    0.0   \n",
      "194                       1               [121]  204.0  ...    154.0  181.0   \n",
      "195                       1                [70]  116.0  ...      0.0    0.0   \n",
      "196                       1                 [8]  256.0  ...    154.0  135.0   \n",
      "197                       0          [2, 79, 1]  194.0  ...    138.0  150.0   \n",
      "198                       1               [122]  173.0  ...      0.0    0.0   \n",
      "199                       1                 [2]   80.0  ...    113.0  111.0   \n",
      "200                       1              [3, 9]  125.0  ...    155.0  150.0   \n",
      "201                       1                [50]  146.0  ...    245.0  179.0   \n",
      "202                       1               [146]  169.0  ...      0.0    0.0   \n",
      "203                       1                [17]  198.0  ...     73.0   73.0   \n",
      "204                       1                  []  334.0  ...      0.0    0.0   \n",
      "205                       1                [75]  156.0  ...      0.0    0.0   \n",
      "206                       1             [2, 28]  222.0  ...    115.0   90.0   \n",
      "207                       1                [53]  151.0  ...      0.0    0.0   \n",
      "208                       1                [13]  192.0  ...      0.0    0.0   \n",
      "209                       1               [168]  202.0  ...      0.0    0.0   \n",
      "210                       1               [160]  178.0  ...    118.0  113.0   \n",
      "211                       1                  []   75.0  ...    120.0  106.0   \n",
      "212                       1                [41]  181.0  ...      0.0    0.0   \n",
      "213                       1         [54, 60, 7]  206.0  ...      0.0    0.0   \n",
      "214                       1       [10, 35, 251]  128.0  ...      0.0    0.0   \n",
      "215                       1                 [6]  315.0  ...    293.0  335.0   \n",
      "216                       1                  []  107.0  ...      0.0    0.0   \n",
      "217                       1                [53]  184.0  ...      0.0    0.0   \n",
      "218                       1                  []  253.0  ...      0.0    0.0   \n",
      "219                       1               [252]  171.0  ...      0.0    0.0   \n",
      "220                       0                 [1]  199.0  ...      0.0    0.0   \n",
      "221                       1                [31]  148.0  ...    161.0  161.0   \n",
      "222                       1                  []  125.0  ...    119.0  127.0   \n",
      "\n",
      "        20     21     22     23     24    a     b  range  \n",
      "0    133.0  133.0  142.0  142.0   99.0    1   0.0   82.0  \n",
      "1      0.0    0.0    0.0    0.0    0.0    4   0.0   20.0  \n",
      "2      0.0    0.0    0.0    0.0    0.0   -1   0.0  101.0  \n",
      "3    140.0    0.0    0.0    0.0    0.0   16   0.0   88.0  \n",
      "4      0.0    0.0    0.0    0.0    0.0   73   1.0  130.0  \n",
      "5    101.0  101.0   97.0   85.0   77.0  103   0.0  145.0  \n",
      "6    148.0  134.0  112.0   91.0   83.0   16  59.0  228.0  \n",
      "7      0.0    0.0    0.0    0.0    0.0   -1   0.0   13.0  \n",
      "8    156.0  156.0  196.0  196.0  189.0    2  12.0  122.0  \n",
      "9      0.0    0.0    0.0    0.0    0.0   56   0.0  656.0  \n",
      "10   139.0  137.0  137.0  192.0  156.0   98   0.0   88.0  \n",
      "11   131.0  147.0    0.0    0.0    0.0    2  11.0   78.0  \n",
      "12   140.0  129.0    0.0    0.0    0.0    2  11.0   59.0  \n",
      "13     0.0    0.0    0.0    0.0    0.0    2  11.0   30.0  \n",
      "14   171.0  221.0  276.0  312.0  323.0   -1   0.0  265.0  \n",
      "15     0.0    0.0    0.0    0.0    0.0   19   0.0   34.0  \n",
      "16     0.0    0.0    0.0    0.0    0.0   65   0.0   52.0  \n",
      "17    96.0   83.0   62.0  284.0  235.0  115   0.0  497.0  \n",
      "18     0.0    0.0    0.0    0.0    0.0   18   0.0  139.0  \n",
      "19     0.0    0.0    0.0    0.0    0.0   -1   0.0  142.0  \n",
      "20   152.0  157.0  155.0  155.0  116.0   22   9.0  103.0  \n",
      "21     0.0    0.0    0.0    0.0    0.0   32   0.0  134.0  \n",
      "22    86.0   78.0  117.0  181.0  181.0   18  31.0  137.0  \n",
      "23   133.0  193.0  193.0  170.0  141.0   10  35.0  267.0  \n",
      "24   102.0  111.0  111.0  108.0  140.0   -1   0.0  306.0  \n",
      "25   483.0  346.0  251.0  220.0  140.0  140  41.0  457.0  \n",
      "26    76.0   78.0   78.0   81.0   81.0  133   1.0   77.0  \n",
      "27   120.0   75.0   47.0  164.0   81.0  166   0.0  327.0  \n",
      "28   181.0  171.0  173.0  189.0  175.0    2  11.0  145.0  \n",
      "29   100.0   91.0   95.0   95.0  105.0   16   1.0  324.0  \n",
      "..     ...    ...    ...    ...    ...  ...   ...    ...  \n",
      "193    0.0    0.0    0.0    0.0    0.0   37   4.0  221.0  \n",
      "194  123.0  108.0  108.0  120.0   89.0  121   0.0  138.0  \n",
      "195    0.0    0.0    0.0    0.0    0.0   70   0.0  296.0  \n",
      "196    0.0    0.0    0.0    0.0    0.0    8   0.0  204.0  \n",
      "197  150.0  116.0  116.0   89.0   89.0    2  79.0  133.0  \n",
      "198    0.0    0.0    0.0    0.0    0.0  122   0.0  100.0  \n",
      "199  119.0  161.0  166.0  190.0  160.0    2   0.0  144.0  \n",
      "200  106.0  118.0  118.0   89.0   69.0    3   9.0  156.0  \n",
      "201  115.0   80.0   80.0   88.0   99.0   50   0.0  314.0  \n",
      "202    0.0    0.0    0.0    0.0    0.0  146   0.0   67.0  \n",
      "203   82.0   82.0  110.0  110.0    0.0   17   0.0  131.0  \n",
      "204    0.0    0.0    0.0    0.0    0.0   -1   0.0  186.0  \n",
      "205    0.0    0.0    0.0    0.0    0.0   75   0.0   44.0  \n",
      "206  104.0  128.0  180.0  180.0  156.0    2  28.0  153.0  \n",
      "207    0.0    0.0    0.0    0.0    0.0   53   0.0   50.0  \n",
      "208    0.0    0.0    0.0    0.0    0.0   13   0.0  118.0  \n",
      "209    0.0    0.0    0.0    0.0    0.0  168   0.0  187.0  \n",
      "210  113.0  171.0  144.0    0.0    0.0  160   0.0   81.0  \n",
      "211  131.0  101.0  128.0  160.0  141.0   -1   0.0  147.0  \n",
      "212    0.0    0.0    0.0    0.0    0.0   41   0.0   84.0  \n",
      "213    0.0    0.0    0.0    0.0    0.0   54  60.0  127.0  \n",
      "214    0.0    0.0    0.0    0.0    0.0   10  35.0   81.0  \n",
      "215  334.0  392.0  362.0  374.0  344.0    6   0.0  313.0  \n",
      "216    0.0    0.0    0.0    0.0    0.0   -1   0.0   20.0  \n",
      "217    0.0    0.0    0.0    0.0    0.0   53   0.0  176.0  \n",
      "218    0.0    0.0    0.0    0.0    0.0   -1   0.0  111.0  \n",
      "219    0.0    0.0    0.0    0.0    0.0  252   0.0  116.0  \n",
      "220    0.0    0.0    0.0    0.0    0.0    1   0.0   50.0  \n",
      "221  150.0  146.0  142.0  147.0  154.0   31   0.0  125.0  \n",
      "222  100.0   90.0  130.0  117.0  125.0   -1   0.0   60.0  \n",
      "\n",
      "[223 rows x 37 columns]\n"
     ]
    }
   ],
   "source": [
    "print(finalDF.head(223))"
   ]
  },
  {
   "cell_type": "code",
   "execution_count": 173,
   "metadata": {},
   "outputs": [],
   "source": [
    "finalDF.to_csv('finalDF.csv', mode='w')"
   ]
  },
  {
   "cell_type": "code",
   "execution_count": 174,
   "metadata": {},
   "outputs": [
    {
     "name": "stdout",
     "output_type": "stream",
     "text": [
      "full:  6120\n",
      "not_full:  7540\n"
     ]
    }
   ],
   "source": [
    "full = 0\n",
    "not_full = 0\n",
    "for index,row in finalDF.iterrows():\n",
    "    if(row[32] == 0):\n",
    "        not_full += 1\n",
    "    else:\n",
    "        full += 1\n",
    "print('full: ',full)\n",
    "print('not_full: ',not_full)\n",
    "        "
   ]
  },
  {
   "cell_type": "code",
   "execution_count": null,
   "metadata": {},
   "outputs": [],
   "source": []
  }
 ],
 "metadata": {
  "kernelspec": {
   "display_name": "Python 3",
   "language": "python",
   "name": "python3"
  },
  "language_info": {
   "codemirror_mode": {
    "name": "ipython",
    "version": 3
   },
   "file_extension": ".py",
   "mimetype": "text/x-python",
   "name": "python",
   "nbconvert_exporter": "python",
   "pygments_lexer": "ipython3",
   "version": "3.6.1"
  }
 },
 "nbformat": 4,
 "nbformat_minor": 2
}
