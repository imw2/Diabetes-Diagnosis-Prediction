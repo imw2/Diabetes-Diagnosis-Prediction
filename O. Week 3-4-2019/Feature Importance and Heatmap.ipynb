{
 "cells": [
  {
   "cell_type": "markdown",
   "metadata": {},
   "source": [
    "# Analyzing Features"
   ]
  },
  {
   "cell_type": "code",
   "execution_count": 1,
   "metadata": {},
   "outputs": [],
   "source": [
    "import pandas as pd\n",
    "import seaborn as sns\n",
    "import matplotlib.pyplot as plt\n",
    "import json\n",
    "import numpy as np\n",
    "from sklearn.model_selection import train_test_split\n",
    "import itertools"
   ]
  },
  {
   "cell_type": "code",
   "execution_count": 16,
   "metadata": {},
   "outputs": [
    {
     "data": {
      "text/html": [
       "<div>\n",
       "<style scoped>\n",
       "    .dataframe tbody tr th:only-of-type {\n",
       "        vertical-align: middle;\n",
       "    }\n",
       "\n",
       "    .dataframe tbody tr th {\n",
       "        vertical-align: top;\n",
       "    }\n",
       "\n",
       "    .dataframe thead th {\n",
       "        text-align: right;\n",
       "    }\n",
       "</style>\n",
       "<table border=\"1\" class=\"dataframe\">\n",
       "  <thead>\n",
       "    <tr style=\"text-align: right;\">\n",
       "      <th></th>\n",
       "      <th>hadm_id</th>\n",
       "      <th>subject_id</th>\n",
       "      <th>expire_flag</th>\n",
       "      <th>diagnosis</th>\n",
       "      <th>admission_type</th>\n",
       "      <th>age</th>\n",
       "      <th>admission_type_encoded</th>\n",
       "      <th>0</th>\n",
       "      <th>1</th>\n",
       "      <th>2</th>\n",
       "      <th>...</th>\n",
       "      <th>18</th>\n",
       "      <th>19</th>\n",
       "      <th>20</th>\n",
       "      <th>21</th>\n",
       "      <th>22</th>\n",
       "      <th>23</th>\n",
       "      <th>24</th>\n",
       "      <th>a</th>\n",
       "      <th>b</th>\n",
       "      <th>range</th>\n",
       "    </tr>\n",
       "  </thead>\n",
       "  <tbody>\n",
       "    <tr>\n",
       "      <th>0</th>\n",
       "      <td>137275</td>\n",
       "      <td>9319</td>\n",
       "      <td>0</td>\n",
       "      <td>LEFT RENAL CA/SDA</td>\n",
       "      <td>ELECTIVE</td>\n",
       "      <td>82</td>\n",
       "      <td>0</td>\n",
       "      <td>118.0</td>\n",
       "      <td>97.0</td>\n",
       "      <td>97.0</td>\n",
       "      <td>...</td>\n",
       "      <td>115.0</td>\n",
       "      <td>115.0</td>\n",
       "      <td>133.0</td>\n",
       "      <td>133.0</td>\n",
       "      <td>142.0</td>\n",
       "      <td>142.0</td>\n",
       "      <td>99.0</td>\n",
       "      <td>1</td>\n",
       "      <td>0.0</td>\n",
       "      <td>82.0</td>\n",
       "    </tr>\n",
       "    <tr>\n",
       "      <th>1</th>\n",
       "      <td>125380</td>\n",
       "      <td>31585</td>\n",
       "      <td>0</td>\n",
       "      <td>PNEUMONIA</td>\n",
       "      <td>EMERGENCY</td>\n",
       "      <td>300</td>\n",
       "      <td>1</td>\n",
       "      <td>118.0</td>\n",
       "      <td>127.0</td>\n",
       "      <td>113.0</td>\n",
       "      <td>...</td>\n",
       "      <td>0.0</td>\n",
       "      <td>0.0</td>\n",
       "      <td>0.0</td>\n",
       "      <td>0.0</td>\n",
       "      <td>0.0</td>\n",
       "      <td>0.0</td>\n",
       "      <td>0.0</td>\n",
       "      <td>4</td>\n",
       "      <td>0.0</td>\n",
       "      <td>20.0</td>\n",
       "    </tr>\n",
       "    <tr>\n",
       "      <th>2</th>\n",
       "      <td>132722</td>\n",
       "      <td>1426</td>\n",
       "      <td>0</td>\n",
       "      <td>LEFT FRONTAL HEMORRHAGE</td>\n",
       "      <td>EMERGENCY</td>\n",
       "      <td>80</td>\n",
       "      <td>1</td>\n",
       "      <td>104.0</td>\n",
       "      <td>104.0</td>\n",
       "      <td>205.0</td>\n",
       "      <td>...</td>\n",
       "      <td>0.0</td>\n",
       "      <td>0.0</td>\n",
       "      <td>0.0</td>\n",
       "      <td>0.0</td>\n",
       "      <td>0.0</td>\n",
       "      <td>0.0</td>\n",
       "      <td>0.0</td>\n",
       "      <td>-1</td>\n",
       "      <td>0.0</td>\n",
       "      <td>101.0</td>\n",
       "    </tr>\n",
       "    <tr>\n",
       "      <th>3</th>\n",
       "      <td>101422</td>\n",
       "      <td>71582</td>\n",
       "      <td>0</td>\n",
       "      <td>AORTIC STENOSIS</td>\n",
       "      <td>EMERGENCY</td>\n",
       "      <td>76</td>\n",
       "      <td>1</td>\n",
       "      <td>106.0</td>\n",
       "      <td>134.0</td>\n",
       "      <td>132.0</td>\n",
       "      <td>...</td>\n",
       "      <td>178.0</td>\n",
       "      <td>164.0</td>\n",
       "      <td>140.0</td>\n",
       "      <td>0.0</td>\n",
       "      <td>0.0</td>\n",
       "      <td>0.0</td>\n",
       "      <td>0.0</td>\n",
       "      <td>16</td>\n",
       "      <td>0.0</td>\n",
       "      <td>88.0</td>\n",
       "    </tr>\n",
       "    <tr>\n",
       "      <th>4</th>\n",
       "      <td>139687</td>\n",
       "      <td>68501</td>\n",
       "      <td>0</td>\n",
       "      <td>CAROTID STENOSIS/SDA</td>\n",
       "      <td>ELECTIVE</td>\n",
       "      <td>86</td>\n",
       "      <td>0</td>\n",
       "      <td>162.0</td>\n",
       "      <td>180.0</td>\n",
       "      <td>121.0</td>\n",
       "      <td>...</td>\n",
       "      <td>0.0</td>\n",
       "      <td>0.0</td>\n",
       "      <td>0.0</td>\n",
       "      <td>0.0</td>\n",
       "      <td>0.0</td>\n",
       "      <td>0.0</td>\n",
       "      <td>0.0</td>\n",
       "      <td>73</td>\n",
       "      <td>1.0</td>\n",
       "      <td>130.0</td>\n",
       "    </tr>\n",
       "  </tbody>\n",
       "</table>\n",
       "<p>5 rows × 35 columns</p>\n",
       "</div>"
      ],
      "text/plain": [
       "   hadm_id  subject_id  expire_flag                diagnosis admission_type  \\\n",
       "0   137275        9319            0        LEFT RENAL CA/SDA       ELECTIVE   \n",
       "1   125380       31585            0                PNEUMONIA      EMERGENCY   \n",
       "2   132722        1426            0  LEFT FRONTAL HEMORRHAGE      EMERGENCY   \n",
       "3   101422       71582            0          AORTIC STENOSIS      EMERGENCY   \n",
       "4   139687       68501            0     CAROTID STENOSIS/SDA       ELECTIVE   \n",
       "\n",
       "   age  admission_type_encoded      0      1      2  ...       18     19  \\\n",
       "0   82                       0  118.0   97.0   97.0  ...    115.0  115.0   \n",
       "1  300                       1  118.0  127.0  113.0  ...      0.0    0.0   \n",
       "2   80                       1  104.0  104.0  205.0  ...      0.0    0.0   \n",
       "3   76                       1  106.0  134.0  132.0  ...    178.0  164.0   \n",
       "4   86                       0  162.0  180.0  121.0  ...      0.0    0.0   \n",
       "\n",
       "      20     21     22     23    24   a    b  range  \n",
       "0  133.0  133.0  142.0  142.0  99.0   1  0.0   82.0  \n",
       "1    0.0    0.0    0.0    0.0   0.0   4  0.0   20.0  \n",
       "2    0.0    0.0    0.0    0.0   0.0  -1  0.0  101.0  \n",
       "3  140.0    0.0    0.0    0.0   0.0  16  0.0   88.0  \n",
       "4    0.0    0.0    0.0    0.0   0.0  73  1.0  130.0  \n",
       "\n",
       "[5 rows x 35 columns]"
      ]
     },
     "metadata": {},
     "output_type": "display_data"
    }
   ],
   "source": [
    "df = pd.read_csv('finalDF.csv',index_col=0)\n",
    "df = df.drop(columns=['glucose','diagnosis_tokenized'])\n",
    "display(df.head())"
   ]
  },
  {
   "cell_type": "code",
   "execution_count": 17,
   "metadata": {},
   "outputs": [],
   "source": [
    "overfitting = df.loc[df['expire_flag'] == 1]\n",
    "\n",
    "df = df.append(overfitting,ignore_index=True)\n",
    "df = df.append(overfitting,ignore_index=True)\n",
    "df = df.append(overfitting,ignore_index=True)\n",
    "df = df.append(overfitting,ignore_index=True)\n",
    "df = df.append(overfitting,ignore_index=True)"
   ]
  },
  {
   "cell_type": "code",
   "execution_count": 24,
   "metadata": {},
   "outputs": [
    {
     "name": "stdout",
     "output_type": "stream",
     "text": [
      "(20875, 35)\n"
     ]
    }
   ],
   "source": [
    "features = df.drop(columns=['hadm_id','subject_id','expire_flag',\n",
    "                            'diagnosis','admission_type'])\n",
    "pydf = df.values\n",
    "print(pydf.shape)\n",
    "X = pydf[:,5:35]\n",
    "y = pydf[:,2]"
   ]
  },
  {
   "cell_type": "markdown",
   "metadata": {},
   "source": [
    "# Feature Importance"
   ]
  },
  {
   "cell_type": "code",
   "execution_count": 27,
   "metadata": {},
   "outputs": [
    {
     "name": "stdout",
     "output_type": "stream",
     "text": [
      "Feature ranking:\n",
      "1. feature 0 (0.089984)\n",
      "2. feature 2 (0.062334)\n",
      "3. feature 29 (0.054738)\n",
      "4. feature 3 (0.052631)\n",
      "5. feature 4 (0.050901)\n",
      "6. feature 27 (0.049681)\n",
      "7. feature 5 (0.049257)\n",
      "8. feature 6 (0.042442)\n",
      "9. feature 7 (0.040007)\n",
      "10. feature 8 (0.035235)\n",
      "11. feature 9 (0.033478)\n",
      "12. feature 1 (0.032154)\n",
      "13. feature 10 (0.029984)\n",
      "14. feature 11 (0.029218)\n",
      "15. feature 28 (0.027424)\n",
      "16. feature 12 (0.025987)\n",
      "17. feature 14 (0.025971)\n",
      "18. feature 13 (0.024685)\n",
      "19. feature 16 (0.023977)\n",
      "20. feature 15 (0.023288)\n",
      "21. feature 17 (0.022086)\n",
      "22. feature 21 (0.021582)\n",
      "23. feature 18 (0.020971)\n",
      "24. feature 19 (0.020262)\n",
      "25. feature 25 (0.019573)\n",
      "26. feature 22 (0.019359)\n",
      "27. feature 20 (0.018967)\n",
      "28. feature 23 (0.018820)\n",
      "29. feature 24 (0.017558)\n",
      "30. feature 26 (0.017446)\n"
     ]
    },
    {
     "data": {
      "image/png": "[encoded data removed]",
      "text/plain": [
       "<Figure size 432x288 with 1 Axes>"
      ]
     },
     "metadata": {
      "needs_background": "light"
     },
     "output_type": "display_data"
    }
   ],
   "source": [
    "from sklearn.ensemble import ExtraTreesClassifier\n",
    "\n",
    "XImp = pydf[:,5:35]\n",
    "yImp = pydf[:,2]\n",
    "xImp = np.asarray(XImp,dtype=np.float64)\n",
    "yImp = np.asarray(yImp,dtype=np.float64)\n",
    "forest = ExtraTreesClassifier()\n",
    "forest.fit(XImp,yImp)\n",
    "importances = forest.feature_importances_\n",
    "std = np.std([tree.feature_importances_ for tree in forest.estimators_],\n",
    "             axis=0)\n",
    "indices = np.argsort(importances)[::-1]\n",
    "\n",
    "# Print the feature ranking\n",
    "print(\"Feature ranking:\")\n",
    "\n",
    "for f in range(30):\n",
    "    print(\"%d. feature %d (%f)\" % (f + 1, indices[f], importances[indices[f]]))\n",
    "\n",
    "# Plot the feature importances of the forest\n",
    "plt.figure()\n",
    "plt.title(\"Feature importances\")\n",
    "plt.bar(range(X.shape[1]), importances[indices],\n",
    "       color=\"r\", yerr=std[indices], align=\"center\")\n",
    "plt.xticks(range(X.shape[1]), indices)\n",
    "plt.xlim([-1, 30])\n",
    "plt.show()"
   ]
  },
  {
   "cell_type": "markdown",
   "metadata": {},
   "source": [
    "# Feature Correlation via Heatmap"
   ]
  },
  {
   "cell_type": "code",
   "execution_count": 29,
   "metadata": {},
   "outputs": [
    {
     "data": {
      "text/plain": [
       "<matplotlib.axes._subplots.AxesSubplot at 0x1e0fee71f60>"
      ]
     },
     "execution_count": 29,
     "metadata": {},
     "output_type": "execute_result"
    },
    {
     "data": {
      "image/png": "[encoded data removed]",
      "text/plain": [
       "<Figure size 792x648 with 2 Axes>"
      ]
     },
     "metadata": {
      "needs_background": "light"
     },
     "output_type": "display_data"
    }
   ],
   "source": [
    "import seaborn as sns\n",
    "d = df[['age','admission_type_encoded','0','1','2','3','16','17','18','a','b','range']].copy()\n",
    "corr = d.corr()\n",
    "mask = np.zeros_like(corr, dtype=np.bool)\n",
    "mask[np.triu_indices_from(mask)] = True\n",
    "f, ax = plt.subplots(figsize=(11, 9))\n",
    "cmap = sns.diverging_palette(220, 10, as_cmap=True)\n",
    "sns.heatmap(corr, mask=mask, cmap=cmap, vmax=.3, center=0,\n",
    "            square=True, linewidths=.5, cbar_kws={\"shrink\": .5})"
   ]
  },
  {
   "cell_type": "code",
   "execution_count": null,
   "metadata": {},
   "outputs": [],
   "source": []
  }
 ],
 "metadata": {
  "kernelspec": {
   "display_name": "Python 3",
   "language": "python",
   "name": "python3"
  },
  "language_info": {
   "codemirror_mode": {
    "name": "ipython",
    "version": 3
   },
   "file_extension": ".py",
   "mimetype": "text/x-python",
   "name": "python",
   "nbconvert_exporter": "python",
   "pygments_lexer": "ipython3",
   "version": "3.6.1"
  }
 },
 "nbformat": 4,
 "nbformat_minor": 2
}
