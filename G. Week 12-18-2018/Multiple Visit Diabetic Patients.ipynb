{
 "cells": [
  {
   "cell_type": "code",
   "execution_count": 1,
   "metadata": {},
   "outputs": [],
   "source": [
    "import pandas as pd\n",
    "import seaborn as sns"
   ]
  },
  {
   "cell_type": "code",
   "execution_count": 2,
   "metadata": {},
   "outputs": [],
   "source": [
    "diagnoses = pd.read_csv('DIAGNOSES_ICD.csv')"
   ]
  },
  {
   "cell_type": "code",
   "execution_count": 3,
   "metadata": {},
   "outputs": [],
   "source": [
    "DM2codes = ['25000','25002','25010','25012','25020','25022','25030','25032',\n",
    "         '25040','25042','25050','25052','25060','25062','25070','25072',\n",
    "         '25080','25082''25090','25092']"
   ]
  },
  {
   "cell_type": "code",
   "execution_count": 4,
   "metadata": {},
   "outputs": [],
   "source": [
    "DM2patients = []\n",
    "for index,row in diagnoses.iterrows():\n",
    "    if(row['ICD9_CODE'] in DM2codes):\n",
    "        DM2patients.append(row['SUBJECT_ID'])\n",
    "DM2patients = list(set(DM2patients))"
   ]
  },
  {
   "cell_type": "code",
   "execution_count": 5,
   "metadata": {},
   "outputs": [
    {
     "name": "stdout",
     "output_type": "stream",
     "text": [
      "9439\n"
     ]
    }
   ],
   "source": [
    "print(len(DM2patients))"
   ]
  },
  {
   "cell_type": "code",
   "execution_count": 6,
   "metadata": {},
   "outputs": [],
   "source": [
    "admissions = pd.read_csv('ADMISSIONS.csv')"
   ]
  },
  {
   "cell_type": "code",
   "execution_count": 7,
   "metadata": {},
   "outputs": [],
   "source": [
    "allPatients = []\n",
    "multipleVisits = []\n",
    "for index,row in admissions.iterrows():\n",
    "    if(row['SUBJECT_ID'] in allPatients):\n",
    "        multipleVisits.append(row['SUBJECT_ID'])\n",
    "    else:\n",
    "        allPatients.append(row['SUBJECT_ID'])\n",
    "multipleVisits = list(set(multipleVisits))"
   ]
  },
  {
   "cell_type": "code",
   "execution_count": 8,
   "metadata": {},
   "outputs": [
    {
     "name": "stdout",
     "output_type": "stream",
     "text": [
      "7537\n"
     ]
    }
   ],
   "source": [
    "print(len(multipleVisits))"
   ]
  },
  {
   "cell_type": "code",
   "execution_count": 9,
   "metadata": {},
   "outputs": [],
   "source": [
    "DM2multiVisits = []\n",
    "for patient in multipleVisits:\n",
    "    if patient in DM2patients:\n",
    "        DM2multiVisits.append(patient)"
   ]
  },
  {
   "cell_type": "code",
   "execution_count": 10,
   "metadata": {},
   "outputs": [
    {
     "name": "stdout",
     "output_type": "stream",
     "text": [
      "2498\n"
     ]
    }
   ],
   "source": [
    "print(len(DM2multiVisits))"
   ]
  },
  {
   "cell_type": "code",
   "execution_count": 11,
   "metadata": {},
   "outputs": [],
   "source": [
    "Num_Visits_Lib = {}\n",
    "for index, row in admissions.iterrows():\n",
    "    if(row['SUBJECT_ID'] in DM2multiVisits):\n",
    "        if(row['SUBJECT_ID'] in Num_Visits_Lib):\n",
    "            Num_Visits_Lib[row['SUBJECT_ID']] += 1;\n",
    "        else:\n",
    "            Num_Visits_Lib[row['SUBJECT_ID']] = 1; \n",
    "    "
   ]
  },
  {
   "cell_type": "code",
   "execution_count": 12,
   "metadata": {},
   "outputs": [],
   "source": [
    "df = pd.DataFrame(columns=['patient','times_visited'])\n",
    "for patient,visits in Num_Visits_Lib.items():\n",
    "    new_row = pd.DataFrame([[patient,visits]],columns=['patient','times_visited'])\n",
    "    df = df.append(new_row)    "
   ]
  },
  {
   "cell_type": "code",
   "execution_count": 13,
   "metadata": {},
   "outputs": [
    {
     "data": {
      "image/png": "[encoded data removed]",
      "text/plain": [
       "<Figure size 432x288 with 1 Axes>"
      ]
     },
     "metadata": {},
     "output_type": "display_data"
    }
   ],
   "source": [
    "sns.set(style=\"whitegrid\")\n",
    "ax = sns.countplot(x=\"times_visited\", data=df)"
   ]
  },
  {
   "cell_type": "code",
   "execution_count": 14,
   "metadata": {},
   "outputs": [],
   "source": [
    "Hadm_Lib = {}\n",
    "for index,row in admissions.iterrows():\n",
    "    if(row['SUBJECT_ID'] in DM2multiVisits):\n",
    "        Hadm_Lib.setdefault(row['SUBJECT_ID'], []).append(row['HADM_ID'])"
   ]
  },
  {
   "cell_type": "code",
   "execution_count": 15,
   "metadata": {},
   "outputs": [],
   "source": [
    "def common_member(a, b): \n",
    "    a_set = set(a) \n",
    "    b_set = set(b) \n",
    "    if (a_set & b_set): \n",
    "        return True \n",
    "    else: \n",
    "        return False"
   ]
  },
  {
   "cell_type": "code",
   "execution_count": 16,
   "metadata": {},
   "outputs": [],
   "source": [
    "all_hadm = []\n",
    "for patient,hadm in Hadm_Lib.items():\n",
    "    for x in hadm:\n",
    "        all_hadm.append(x)  "
   ]
  },
  {
   "cell_type": "code",
   "execution_count": 17,
   "metadata": {},
   "outputs": [],
   "source": [
    "All_Hadm_Lib = {}\n",
    "for index,row in diagnoses.iterrows():\n",
    "    if(row['HADM_ID'] in all_hadm):\n",
    "        All_Hadm_Lib.setdefault(row['HADM_ID'], []).append(row['ICD9_CODE'])"
   ]
  },
  {
   "cell_type": "code",
   "execution_count": 18,
   "metadata": {},
   "outputs": [],
   "source": [
    "masterDF = pd.DataFrame(columns=['hadm_id','diabeties code'])\n",
    "for hadm,codes in All_Hadm_Lib.items():\n",
    "    code_list = []\n",
    "    for code in codes:\n",
    "        code_list.append(code)\n",
    "    new_row = pd.DataFrame([[hadm,(common_member(code_list,DM2codes))]],columns=['hadm_id','diabeties code'])\n",
    "    masterDF = masterDF.append(new_row)       "
   ]
  },
  {
   "cell_type": "code",
   "execution_count": 19,
   "metadata": {},
   "outputs": [],
   "source": [
    "#print(masterDF)"
   ]
  },
  {
   "cell_type": "code",
   "execution_count": 20,
   "metadata": {},
   "outputs": [],
   "source": [
    "no_diabetes = []\n",
    "yes_diabetes = []\n",
    "for index,row in masterDF.iterrows():\n",
    "    if (row['diabeties code'] == False):\n",
    "        no_diabetes.append(row['hadm_id'])\n",
    "    else:\n",
    "        yes_diabetes.append(row['hadm_id'])"
   ]
  },
  {
   "cell_type": "code",
   "execution_count": 21,
   "metadata": {},
   "outputs": [
    {
     "name": "stdout",
     "output_type": "stream",
     "text": [
      "1658\n",
      "5505\n"
     ]
    }
   ],
   "source": [
    "print(len(no_diabetes))\n",
    "print(len(yes_diabetes))"
   ]
  },
  {
   "cell_type": "code",
   "execution_count": 22,
   "metadata": {},
   "outputs": [],
   "source": [
    "masterDF['SUBJECT_ID'] = 0\n",
    "masterDF = masterDF.reset_index(drop=True)"
   ]
  },
  {
   "cell_type": "code",
   "execution_count": 24,
   "metadata": {},
   "outputs": [],
   "source": [
    "for patient,hadm in Hadm_Lib.items():\n",
    "    for index,row in masterDF.iterrows():\n",
    "        if row['hadm_id'] in hadm:\n",
    "            masterDF.at[index, 'SUBJECT_ID'] = patient"
   ]
  },
  {
   "cell_type": "code",
   "execution_count": 31,
   "metadata": {},
   "outputs": [
    {
     "name": "stdout",
     "output_type": "stream",
     "text": [
      "  hadm_id diabeties code  SUBJECT_ID\n",
      "0  140784           True         117\n",
      "1  164853           True         117\n",
      "2  113323           True         130\n",
      "3  198214           True         130\n",
      "4  192180          False         135\n"
     ]
    }
   ],
   "source": [
    "print(masterDF.head(5))"
   ]
  },
  {
   "cell_type": "code",
   "execution_count": 28,
   "metadata": {},
   "outputs": [],
   "source": [
    "POI = []\n",
    "for index,row in masterDF.iterrows():\n",
    "    if(row['diabeties code'] == False):\n",
    "        POI.append(row['SUBJECT_ID'])\n",
    "POI = list(set(POI))"
   ]
  },
  {
   "cell_type": "code",
   "execution_count": 30,
   "metadata": {},
   "outputs": [
    {
     "name": "stdout",
     "output_type": "stream",
     "text": [
      "1009\n"
     ]
    }
   ],
   "source": [
    "print(len(POI))"
   ]
  },
  {
   "cell_type": "code",
   "execution_count": null,
   "metadata": {},
   "outputs": [],
   "source": []
  }
 ],
 "metadata": {
  "kernelspec": {
   "display_name": "Python 3",
   "language": "python",
   "name": "python3"
  },
  "language_info": {
   "codemirror_mode": {
    "name": "ipython",
    "version": 3
   },
   "file_extension": ".py",
   "mimetype": "text/x-python",
   "name": "python",
   "nbconvert_exporter": "python",
   "pygments_lexer": "ipython3",
   "version": "3.6.1"
  }
 },
 "nbformat": 4,
 "nbformat_minor": 2
}
