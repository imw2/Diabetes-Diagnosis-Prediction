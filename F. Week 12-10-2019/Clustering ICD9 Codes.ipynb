{
 "cells": [
  {
   "cell_type": "markdown",
   "metadata": {},
   "source": [
    "# Clustering ICD9 Codes"
   ]
  },
  {
   "cell_type": "code",
   "execution_count": 1,
   "metadata": {},
   "outputs": [],
   "source": [
    "import pandas as pd\n",
    "from sklearn.preprocessing import LabelEncoder, OneHotEncoder\n",
    "import numpy as np\n",
    "np.set_printoptions(threshold=np.nan)\n",
    "from sklearn import random_projection\n",
    "from kmodes.kmodes import KModes"
   ]
  },
  {
   "cell_type": "code",
   "execution_count": null,
   "metadata": {},
   "outputs": [],
   "source": [
    "df = pd.read_csv('DIAGNOSES_ICD.csv',usecols=['HADM_ID','ICD9_CODE'])\n",
    "df['ICD9_CODE'] = df['ICD9_CODE'].astype(str)\n",
    "#df = df.head(1000)"
   ]
  },
  {
   "cell_type": "code",
   "execution_count": null,
   "metadata": {},
   "outputs": [],
   "source": [
    "le = LabelEncoder()\n",
    "le.fit(df['ICD9_CODE'])\n",
    "le_name_mapping = dict(zip(le.classes_, le.transform(le.classes_)))\n",
    "#print(le_name_mapping)\n",
    "\n",
    "labelencoder = LabelEncoder()\n",
    "df['ICD9_CODE'] = labelencoder.fit_transform(df['ICD9_CODE'])\n",
    "#print(df)"
   ]
  },
  {
   "cell_type": "code",
   "execution_count": null,
   "metadata": {},
   "outputs": [],
   "source": [
    "patient_list = []\n",
    "for index, row in df.iterrows():\n",
    "    if(row['ICD9_CODE'] == 824):\n",
    "        patient_list.append(row['HADM_ID'])\n",
    "#print(patient_list)"
   ]
  },
  {
   "cell_type": "code",
   "execution_count": null,
   "metadata": {},
   "outputs": [],
   "source": [
    "Patient_lib = {}\n",
    "for index, row in df.iterrows():\n",
    "    code = row['ICD9_CODE']\n",
    "    patient = row['HADM_ID']\n",
    "    if(patient in patient_list):\n",
    "        Patient_lib.setdefault(patient, []).append(code)\n",
    "#print(Patient_lib)"
   ]
  },
  {
   "cell_type": "code",
   "execution_count": null,
   "metadata": {},
   "outputs": [],
   "source": [
    "hot_df = pd.read_csv('hot_df.csv')\n",
    "'''\n",
    "hot_df = pd.DataFrame()\n",
    "for patient, code_list in Patient_lib.items():\n",
    "    patient_codes = {}\n",
    "    for code in code_list:\n",
    "        patient_codes[code] = 1\n",
    "    hot_df = hot_df.append(patient_codes,ignore_index=True)\n",
    "    print(patient)\n",
    "hot_df.to_csv('hot_df.csv')\n",
    "'''\n",
    "print(hot_df.shape)"
   ]
  },
  {
   "cell_type": "code",
   "execution_count": null,
   "metadata": {},
   "outputs": [],
   "source": [
    "hot_df.fillna(0)\n",
    "hot_df = hot_df.drop(columns=['patients'])\n",
    "code_list = list(hot_df)\n",
    "for code in code_list:  \n",
    "    hot_df.at['Total',code] = hot_df[code].sum()\n",
    "    #print(code)\n",
    "#print(hot_df)"
   ]
  },
  {
   "cell_type": "code",
   "execution_count": null,
   "metadata": {
    "scrolled": true
   },
   "outputs": [],
   "source": [
    "#print(hot_df)\n",
    "for code in code_list:\n",
    "    if((hot_df.at['Total',code]) < 100):\n",
    "        hot_df = hot_df.drop(columns=[code])\n",
    "        #print(code)\n",
    "print(hot_df.shape)"
   ]
  },
  {
   "cell_type": "code",
   "execution_count": null,
   "metadata": {},
   "outputs": [],
   "source": [
    "hot_df.to_csv('min_hot_df.csv')"
   ]
  },
  {
   "cell_type": "code",
   "execution_count": 2,
   "metadata": {},
   "outputs": [],
   "source": [
    "min_hot_df = pd.read_csv('min_hot_df.csv')"
   ]
  },
  {
   "cell_type": "code",
   "execution_count": 3,
   "metadata": {},
   "outputs": [
    {
     "name": "stdout",
     "output_type": "stream",
     "text": [
      "(9058, 105)\n"
     ]
    }
   ],
   "source": [
    "min_hot_df.fillna(0)\n",
    "min_hot_df = min_hot_df.drop(columns=['patients'])\n",
    "code_list = list(min_hot_df)\n",
    "for code in code_list:\n",
    "    if((min_hot_df.at[9057,code]) < 200):\n",
    "        min_hot_df = min_hot_df.drop(columns=[code])\n",
    "        #print(code)\n",
    "print(min_hot_df.shape)"
   ]
  },
  {
   "cell_type": "code",
   "execution_count": 4,
   "metadata": {},
   "outputs": [],
   "source": [
    "min_hot_df.to_csv('min_hot_df.csv')"
   ]
  },
  {
   "cell_type": "code",
   "execution_count": 6,
   "metadata": {},
   "outputs": [],
   "source": [
    "min_hot_df = pd.read_csv('min_hot_df.csv')\n",
    "#print(min_hot_df)\n",
    "min_hot_df = min_hot_df.drop(columns=['patients','824'])"
   ]
  },
  {
   "cell_type": "code",
   "execution_count": 7,
   "metadata": {},
   "outputs": [
    {
     "name": "stdout",
     "output_type": "stream",
     "text": [
      "(9058, 104)\n"
     ]
    }
   ],
   "source": [
    "#print(hot_df.shape)\n",
    "np_min_hot_df = min_hot_df.values\n",
    "np_min_hot_df = np.nan_to_num(np_min_hot_df)\n",
    "#transformer = random_projection.SparseRandomProjection(eps=.4)\n",
    "#new_hot_df = transformer.fit_transform(np_hot_df)\n",
    "print(np_min_hot_df.shape)\n"
   ]
  },
  {
   "cell_type": "code",
   "execution_count": 10,
   "metadata": {
    "scrolled": true
   },
   "outputs": [
    {
     "name": "stdout",
     "output_type": "stream",
     "text": [
      "Initialization method and algorithm are deterministic. Setting n_init to 1.\n",
      "Init: initializing centroids\n",
      "Init: initializing clusters\n",
      "Starting iterations...\n",
      "Run 1, iteration: 1/100, moves: 484, cost: 62764.0\n",
      "Run 1, iteration: 2/100, moves: 34, cost: 62764.0\n"
     ]
    }
   ],
   "source": [
    "km = KModes(n_clusters=2, init='Cao',n_init=5,verbose=1)\n",
    "clusters=km.fit_predict(np_min_hot_df)"
   ]
  },
  {
   "cell_type": "code",
   "execution_count": 11,
   "metadata": {},
   "outputs": [
    {
     "name": "stdout",
     "output_type": "stream",
     "text": [
      "[[0. 0. 1. 0. 0. 0. 0. 0. 0. 0. 0. 0. 0. 0. 0. 0. 0. 0. 0. 0. 0. 0. 0. 0.\n",
      "  0. 0. 0. 0. 0. 0. 0. 0. 0. 0. 0. 0. 0. 0. 0. 0. 0. 0. 0. 0. 0. 0. 0. 0.\n",
      "  0. 0. 0. 0. 0. 0. 0. 0. 0. 0. 0. 0. 0. 0. 0. 0. 0. 0. 0. 0. 0. 0. 0. 0.\n",
      "  0. 0. 0. 0. 0. 0. 0. 0. 0. 0. 0. 0. 0. 0. 0. 0. 0. 0. 0. 0. 0. 0. 0. 0.\n",
      "  0. 0. 0. 0. 0. 0. 0. 0.]\n",
      " [0. 0. 0. 1. 0. 1. 0. 0. 0. 0. 0. 1. 1. 0. 0. 0. 1. 0. 0. 0. 0. 0. 0. 0.\n",
      "  0. 0. 0. 0. 0. 0. 0. 0. 0. 0. 0. 0. 0. 0. 0. 0. 0. 0. 0. 0. 1. 0. 0. 0.\n",
      "  0. 0. 0. 0. 0. 0. 0. 0. 0. 0. 0. 0. 0. 1. 0. 0. 0. 0. 0. 0. 0. 0. 0. 0.\n",
      "  0. 0. 0. 0. 0. 0. 0. 0. 0. 0. 0. 0. 0. 0. 0. 0. 0. 0. 0. 0. 0. 0. 0. 0.\n",
      "  0. 0. 0. 0. 0. 0. 0. 0.]]\n"
     ]
    }
   ],
   "source": [
    "print(km.cluster_centroids_)"
   ]
  },
  {
   "cell_type": "markdown",
   "metadata": {},
   "source": [
    "icd9code:\n",
    "1st cluster - 1962 -> 401.9 - unspecified essential hypertension\n",
    "\n",
    "2nd cluster - 2109 -> 428.1 - left heart failure\n",
    "              88   -> 038.9 - unspecified septicemia\n",
    "              2957 -> 584.9 - acute kidney failure, unspecified\n",
    "              5873 -> 995.92 - severe sepsis -> caused by sig deop in bp\n",
    "              2098 -> 427.31 - atrail fibrillation -> irregular heartbeat\n",
    "              4451 -> 785.52 - septic shock -> symptom low bp"
   ]
  },
  {
   "cell_type": "code",
   "execution_count": null,
   "metadata": {},
   "outputs": [],
   "source": []
  }
 ],
 "metadata": {
  "kernelspec": {
   "display_name": "Python 3",
   "language": "python",
   "name": "python3"
  },
  "language_info": {
   "codemirror_mode": {
    "name": "ipython",
    "version": 3
   },
   "file_extension": ".py",
   "mimetype": "text/x-python",
   "name": "python",
   "nbconvert_exporter": "python",
   "pygments_lexer": "ipython3",
   "version": "3.6.1"
  }
 },
 "nbformat": 4,
 "nbformat_minor": 2
}
