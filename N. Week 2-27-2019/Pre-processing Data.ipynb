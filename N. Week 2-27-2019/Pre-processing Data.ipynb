{
 "cells": [
  {
   "cell_type": "markdown",
   "metadata": {},
   "source": [
    "# Pre-processing Data"
   ]
  },
  {
   "cell_type": "markdown",
   "metadata": {},
   "source": [
    "Address overfitting concerns"
   ]
  },
  {
   "cell_type": "code",
   "execution_count": 2,
   "metadata": {},
   "outputs": [],
   "source": [
    "import pandas as pd\n",
    "import seaborn as sns\n",
    "import matplotlib.pyplot as plt\n",
    "import json\n",
    "from datetime import datetime\n",
    "import numpy as np"
   ]
  },
  {
   "cell_type": "code",
   "execution_count": 45,
   "metadata": {},
   "outputs": [],
   "source": [
    "DM = pd.read_csv('DMChartEvents.csv',usecols=[\"hadm_id\", \"subject_id\", \"itemid\", \"charttime\",\"valuenum\"])\n",
    "DM = DM.sort_values(by=['charttime'])\n",
    "Admissions = pd.read_csv('Admissions.csv',index_col=2)\n",
    "Patients = pd.read_csv('Patients.csv',index_col=1)"
   ]
  },
  {
   "cell_type": "code",
   "execution_count": 4,
   "metadata": {},
   "outputs": [],
   "source": [
    "hadm_id = []\n",
    "subject_id = []\n",
    "for index,row in DM.iterrows():\n",
    "    if(row['hadm_id'] not in hadm_id):\n",
    "        hadm_id.append(row['hadm_id'])\n",
    "        subject_id.append(row['subject_id'])"
   ]
  },
  {
   "cell_type": "code",
   "execution_count": 46,
   "metadata": {},
   "outputs": [],
   "source": [
    "d = {'hadm_id': hadm_id, 'subject_id': subject_id}\n",
    "finalDF = pd.DataFrame(data=d)\n",
    "finalDF['expire_flag'] = 0"
   ]
  },
  {
   "cell_type": "code",
   "execution_count": 47,
   "metadata": {},
   "outputs": [],
   "source": [
    "for index,row in finalDF.iterrows():\n",
    "    expire_flag = Admissions.loc[row['hadm_id'],'HOSPITAL_EXPIRE_FLAG']\n",
    "    finalDF.at[index,'expire_flag'] = expire_flag"
   ]
  },
  {
   "cell_type": "code",
   "execution_count": 48,
   "metadata": {},
   "outputs": [
    {
     "data": {
      "image/png": "[encoded data removed]",
      "text/plain": [
       "<Figure size 432x288 with 1 Axes>"
      ]
     },
     "metadata": {},
     "output_type": "display_data"
    },
    {
     "name": "stdout",
     "output_type": "stream",
     "text": [
      "Alive:  12217\n",
      "Not Alive:  1443\n"
     ]
    }
   ],
   "source": [
    "alive = 0\n",
    "dead = 0\n",
    "for index,row in finalDF.iterrows():\n",
    "    if(row['expire_flag'] == 1):\n",
    "        dead = dead+1\n",
    "    else:\n",
    "        alive = alive+1\n",
    "        \n",
    "labels = 'Alive', 'Not Alive'\n",
    "sizes = [alive,dead]\n",
    "\n",
    "fig1, ax1 = plt.subplots()\n",
    "ax1.pie(sizes, labels=labels, autopct='%1.1f%%',\n",
    "        shadow=True, startangle=90)\n",
    "ax1.axis('equal')  \n",
    "\n",
    "plt.show()\n",
    "print(\"Alive: \", alive)\n",
    "print(\"Not Alive: \", dead)"
   ]
  },
  {
   "cell_type": "code",
   "execution_count": 49,
   "metadata": {},
   "outputs": [],
   "source": [
    "finalDF['diagnosis'] = ''\n",
    "for index,row in finalDF.iterrows():\n",
    "    diagnosis = Admissions.loc[row['hadm_id'],'DIAGNOSIS']\n",
    "    finalDF.at[index,'diagnosis'] = diagnosis"
   ]
  },
  {
   "cell_type": "code",
   "execution_count": 50,
   "metadata": {},
   "outputs": [],
   "source": [
    "finalDF['admission_type'] = ''\n",
    "for index,row in finalDF.iterrows():\n",
    "    admission_type = Admissions.loc[row['hadm_id'],'ADMISSION_TYPE']\n",
    "    finalDF.at[index,'admission_type'] = admission_type"
   ]
  },
  {
   "cell_type": "code",
   "execution_count": 51,
   "metadata": {},
   "outputs": [],
   "source": [
    "finalDF['age'] = 0\n",
    "for index,row in finalDF.iterrows():\n",
    "    birth = Patients.loc[row['subject_id'],'DOB']\n",
    "    birth = datetime.strptime(birth, '%Y-%m-%d %H:%M:%S')\n",
    "    birth_year = birth.year\n",
    "    current = Admissions.loc[row['hadm_id'],'ADMITTIME']\n",
    "    current = datetime.strptime(current, '%Y-%m-%d %H:%M:%S')\n",
    "    current_year = current.year\n",
    "    age = current_year-birth_year\n",
    "    finalDF.at[index,'age'] = age"
   ]
  },
  {
   "cell_type": "code",
   "execution_count": 52,
   "metadata": {},
   "outputs": [],
   "source": [
    "glucoseNumbers = {}\n",
    "for index,row in DM.iterrows():\n",
    "    glucoseNumbers.setdefault(row['hadm_id'], []).append(row['valuenum'])"
   ]
  },
  {
   "cell_type": "code",
   "execution_count": 53,
   "metadata": {},
   "outputs": [],
   "source": [
    "finalDF['glucose'] = np.array\n",
    "for index,row in finalDF.iterrows():\n",
    "    glucose = glucoseNumbers[row['hadm_id']]\n",
    "    finalDF.at[index,'glucose'] = glucose"
   ]
  },
  {
   "cell_type": "code",
   "execution_count": 54,
   "metadata": {},
   "outputs": [],
   "source": [
    "from sklearn.preprocessing import LabelEncoder"
   ]
  },
  {
   "cell_type": "code",
   "execution_count": 55,
   "metadata": {},
   "outputs": [],
   "source": [
    "le_admission_type = LabelEncoder()\n",
    "finalDF['admission_type_encoded'] = le_admission_type.fit_transform(finalDF.admission_type)"
   ]
  },
  {
   "cell_type": "code",
   "execution_count": 56,
   "metadata": {},
   "outputs": [],
   "source": [
    "from keras.preprocessing.text import Tokenizer"
   ]
  },
  {
   "cell_type": "code",
   "execution_count": 57,
   "metadata": {},
   "outputs": [
    {
     "name": "stdout",
     "output_type": "stream",
     "text": [
      "   hadm_id  subject_id  expire_flag                diagnosis admission_type  \\\n",
      "0   137275        9319            0        LEFT RENAL CA/SDA       ELECTIVE   \n",
      "1   125380       31585            0                PNEUMONIA      EMERGENCY   \n",
      "2   132722        1426            0  LEFT FRONTAL HEMORRHAGE      EMERGENCY   \n",
      "3   101422       71582            0          AORTIC STENOSIS      EMERGENCY   \n",
      "4   139687       68501            0     CAROTID STENOSIS/SDA       ELECTIVE   \n",
      "\n",
      "   age                                            glucose  \\\n",
      "0   82  [167.0, 157.0, 157.0, 143.0, 143.0, 113.0, 113...   \n",
      "1  300  [127.0, 127.0, 127.0, 113.0, 113.0, 113.0, 133...   \n",
      "2   80  [172.0, 165.0, 165.0, 154.0, 154.0, 205.0, 205...   \n",
      "3   76  [140.0, 164.0, 178.0, 109.0, 158.0, 157.0, 139...   \n",
      "4   86                [251.0, 163.0, 121.0, 180.0, 162.0]   \n",
      "\n",
      "   admission_type_encoded  \n",
      "0                       0  \n",
      "1                       1  \n",
      "2                       1  \n",
      "3                       1  \n",
      "4                       0  \n"
     ]
    }
   ],
   "source": [
    "print(finalDF.head())"
   ]
  },
  {
   "cell_type": "code",
   "execution_count": 58,
   "metadata": {},
   "outputs": [],
   "source": [
    "finalDF.diagnosis = finalDF.diagnosis.astype(str)\n",
    "tokenizer = Tokenizer(num_words=150)\n",
    "tokenizer.fit_on_texts(finalDF['diagnosis'])\n",
    "finalDF['diagnosis_tokenized'] = tokenizer.texts_to_sequences(finalDF['diagnosis'])"
   ]
  },
  {
   "cell_type": "code",
   "execution_count": 59,
   "metadata": {},
   "outputs": [],
   "source": [
    "#tokenizer.word_index\n",
    "#print(finalDF.head())"
   ]
  },
  {
   "cell_type": "code",
   "execution_count": 60,
   "metadata": {},
   "outputs": [],
   "source": [
    "glucose_count = {}\n",
    "for index,row in finalDF.iterrows():\n",
    "    glucose_list = row['glucose']\n",
    "    glucose_count[index] = 0\n",
    "    for num in glucose_list:\n",
    "        glucose_count[index] += 1"
   ]
  },
  {
   "cell_type": "code",
   "execution_count": 61,
   "metadata": {},
   "outputs": [],
   "source": [
    "num_readings = {}\n",
    "\n",
    "for key,value in glucose_count.items():\n",
    "    if(value in num_readings):        \n",
    "        num_readings[value] += 1\n",
    "    else:\n",
    "        num_readings[value] = 1\n",
    "    "
   ]
  },
  {
   "cell_type": "code",
   "execution_count": 62,
   "metadata": {},
   "outputs": [],
   "source": [
    "num = []\n",
    "occur = []\n",
    "\n",
    "for key,value in num_readings.items():\n",
    "    if(value > 30):\n",
    "        num.append(key)\n",
    "        occur.append(value)   "
   ]
  },
  {
   "cell_type": "code",
   "execution_count": 63,
   "metadata": {},
   "outputs": [
    {
     "data": {
      "image/png": "[encoded data removed]",
      "text/plain": [
       "<Figure size 1152x432 with 1 Axes>"
      ]
     },
     "metadata": {
      "needs_background": "light"
     },
     "output_type": "display_data"
    }
   ],
   "source": [
    "plt.figure(figsize=(16, 6))\n",
    "ax = sns.barplot(x=num, y=occur)"
   ]
  },
  {
   "cell_type": "code",
   "execution_count": 64,
   "metadata": {},
   "outputs": [],
   "source": [
    "glucose_dict = {}\n",
    "for index,row in finalDF.iterrows():\n",
    "    glucose_list = row['glucose']\n",
    "    num = index\n",
    "    if (len(glucose_list) < 10):\n",
    "        for glu in reversed(glucose_list):        \n",
    "            glucose_dict.setdefault(num, []).append(glu)  \n",
    "    else:\n",
    "        for i in range(1,11):\n",
    "            glucose_dict.setdefault(num, []).append(glucose_list[(len(glucose_list)-i)])"
   ]
  },
  {
   "cell_type": "code",
   "execution_count": 81,
   "metadata": {},
   "outputs": [],
   "source": [
    "#print(glucose_dict)"
   ]
  },
  {
   "cell_type": "code",
   "execution_count": 66,
   "metadata": {},
   "outputs": [],
   "source": [
    "glucoseDF = pd.DataFrame.from_dict(glucose_dict, orient='index')"
   ]
  },
  {
   "cell_type": "code",
   "execution_count": 67,
   "metadata": {},
   "outputs": [],
   "source": [
    "finalDF = finalDF.join(glucoseDF)"
   ]
  },
  {
   "cell_type": "code",
   "execution_count": 68,
   "metadata": {},
   "outputs": [],
   "source": [
    "diagnosis_dict = {}\n",
    "for index,row in finalDF.iterrows():\n",
    "    diagnosis_list = row['diagnosis_tokenized']\n",
    "    num = index\n",
    "    if(len(diagnosis_list) == 0):\n",
    "        diagnosis_dict.setdefault(num, []).append(-1)  \n",
    "    for dia in diagnosis_list:        \n",
    "        diagnosis_dict.setdefault(num, []).append(dia)  "
   ]
  },
  {
   "cell_type": "code",
   "execution_count": 69,
   "metadata": {},
   "outputs": [],
   "source": [
    "diagnosisDF = pd.DataFrame.from_dict(diagnosis_dict, orient='index')"
   ]
  },
  {
   "cell_type": "code",
   "execution_count": 70,
   "metadata": {},
   "outputs": [],
   "source": [
    "diagnosisDF.columns = ['a','b','c','d','e','f','g','h','i','j','k','l','m','n','o','p']"
   ]
  },
  {
   "cell_type": "code",
   "execution_count": 71,
   "metadata": {},
   "outputs": [],
   "source": [
    "finalDF = finalDF.join(diagnosisDF)"
   ]
  },
  {
   "cell_type": "code",
   "execution_count": 72,
   "metadata": {},
   "outputs": [],
   "source": [
    "finalDF = finalDF.drop(columns=['e','f','g','h','i','j','k','l','m','n','o','p'])"
   ]
  },
  {
   "cell_type": "code",
   "execution_count": 73,
   "metadata": {},
   "outputs": [],
   "source": [
    "finalDF = finalDF.fillna(0)"
   ]
  },
  {
   "cell_type": "code",
   "execution_count": 74,
   "metadata": {},
   "outputs": [
    {
     "name": "stdout",
     "output_type": "stream",
     "text": [
      "   hadm_id  subject_id  expire_flag                diagnosis admission_type  \\\n",
      "0   137275        9319            0        LEFT RENAL CA/SDA       ELECTIVE   \n",
      "1   125380       31585            0                PNEUMONIA      EMERGENCY   \n",
      "2   132722        1426            0  LEFT FRONTAL HEMORRHAGE      EMERGENCY   \n",
      "3   101422       71582            0          AORTIC STENOSIS      EMERGENCY   \n",
      "4   139687       68501            0     CAROTID STENOSIS/SDA       ELECTIVE   \n",
      "\n",
      "   age                                            glucose  \\\n",
      "0   82  [167.0, 157.0, 157.0, 143.0, 143.0, 113.0, 113...   \n",
      "1  300  [127.0, 127.0, 127.0, 113.0, 113.0, 113.0, 133...   \n",
      "2   80  [172.0, 165.0, 165.0, 154.0, 154.0, 205.0, 205...   \n",
      "3   76  [140.0, 164.0, 178.0, 109.0, 158.0, 157.0, 139...   \n",
      "4   86                [251.0, 163.0, 121.0, 180.0, 162.0]   \n",
      "\n",
      "   admission_type_encoded diagnosis_tokenized      0 ...       4      5  \\\n",
      "0                       0     [26, 24, 85, 4]  118.0 ...    90.0   88.0   \n",
      "1                       1                [13]  118.0 ...   113.0  113.0   \n",
      "2                       1            [26, 32]  104.0 ...   154.0  154.0   \n",
      "3                       1            [17, 23]  106.0 ...    92.0  106.0   \n",
      "4                       0         [67, 23, 4]  162.0 ...   251.0    0.0   \n",
      "\n",
      "       6      7      8      9   a     b     c    d  \n",
      "0   93.0   93.0  109.0  109.0  26  24.0  85.0  4.0  \n",
      "1  113.0  127.0  127.0  127.0  13   0.0   0.0  0.0  \n",
      "2  165.0  165.0  172.0    0.0  26  32.0   0.0  0.0  \n",
      "3  115.0  114.0  159.0  161.0  17  23.0   0.0  0.0  \n",
      "4    0.0    0.0    0.0    0.0  67  23.0   4.0  0.0  \n",
      "\n",
      "[5 rows x 23 columns]\n"
     ]
    }
   ],
   "source": [
    "print(finalDF.head())"
   ]
  },
  {
   "cell_type": "code",
   "execution_count": 75,
   "metadata": {},
   "outputs": [],
   "source": [
    "finalDF.to_csv('finalDF.csv', mode='w')"
   ]
  },
  {
   "cell_type": "code",
   "execution_count": 80,
   "metadata": {},
   "outputs": [
    {
     "name": "stdout",
     "output_type": "stream",
     "text": [
      "full:  9105\n",
      "not_full:  4555\n"
     ]
    }
   ],
   "source": [
    "full = 0\n",
    "not_full = 0\n",
    "for index,row in finalDF.iterrows():\n",
    "    if(row[20] == 0):\n",
    "        not_full += 1\n",
    "    else:\n",
    "        full += 1\n",
    "print('full: ',full)\n",
    "print('not_full: ',not_full)\n",
    "        "
   ]
  },
  {
   "cell_type": "code",
   "execution_count": null,
   "metadata": {},
   "outputs": [],
   "source": []
  }
 ],
 "metadata": {
  "kernelspec": {
   "display_name": "Python 3",
   "language": "python",
   "name": "python3"
  },
  "language_info": {
   "codemirror_mode": {
    "name": "ipython",
    "version": 3
   },
   "file_extension": ".py",
   "mimetype": "text/x-python",
   "name": "python",
   "nbconvert_exporter": "python",
   "pygments_lexer": "ipython3",
   "version": "3.6.1"
  }
 },
 "nbformat": 4,
 "nbformat_minor": 2
}
