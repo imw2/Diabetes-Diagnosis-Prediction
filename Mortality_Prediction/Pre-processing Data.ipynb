{
 "cells": [
  {
   "cell_type": "markdown",
   "metadata": {},
   "source": [
    "# Pre-processing Data"
   ]
  },
  {
   "cell_type": "code",
   "execution_count": 1,
   "metadata": {},
   "outputs": [],
   "source": [
    "import pandas as pd\n",
    "import seaborn as sns\n",
    "import matplotlib.pyplot as plt\n",
    "import json\n",
    "from datetime import datetime\n",
    "import numpy as np"
   ]
  },
  {
   "cell_type": "code",
   "execution_count": 169,
   "metadata": {},
   "outputs": [],
   "source": [
    "CM_SCORE = pd.read_csv('elix_score.csv',index_col=0)\n",
    "DM = pd.read_csv('DMChartEvents.csv',usecols=[\"hadm_id\", \"subject_id\", \"itemid\", \"charttime\",\"valuenum\"])\n",
    "DM = DM.sort_values(by=['charttime'])\n",
    "Admissions = pd.read_csv('Admissions.csv',index_col=2)\n",
    "Patients = pd.read_csv('Patients.csv',index_col=1)"
   ]
  },
  {
   "cell_type": "code",
   "execution_count": 3,
   "metadata": {},
   "outputs": [],
   "source": [
    "hadm_id = []\n",
    "subject_id = []\n",
    "for index,row in DM.iterrows():\n",
    "    if(row['hadm_id'] not in hadm_id):\n",
    "        hadm_id.append(row['hadm_id'])\n",
    "        subject_id.append(row['subject_id'])"
   ]
  },
  {
   "cell_type": "code",
   "execution_count": 170,
   "metadata": {},
   "outputs": [],
   "source": [
    "d = {'hadm_id': hadm_id, 'subject_id': subject_id}\n",
    "finalDF = pd.DataFrame(data=d)\n",
    "finalDF['expire_flag'] = 0"
   ]
  },
  {
   "cell_type": "code",
   "execution_count": 171,
   "metadata": {},
   "outputs": [],
   "source": [
    "for index,row in finalDF.iterrows():\n",
    "    expire_flag = Admissions.loc[row['hadm_id'],'HOSPITAL_EXPIRE_FLAG']\n",
    "    finalDF.at[index,'expire_flag'] = expire_flag"
   ]
  },
  {
   "cell_type": "code",
   "execution_count": 172,
   "metadata": {},
   "outputs": [
    {
     "data": {
      "image/png": "[encoded data removed]",
      "text/plain": [
       "<Figure size 432x288 with 1 Axes>"
      ]
     },
     "metadata": {},
     "output_type": "display_data"
    },
    {
     "name": "stdout",
     "output_type": "stream",
     "text": [
      "Alive:  12217\n",
      "Not Alive:  1443\n"
     ]
    },
    {
     "data": {
      "text/plain": [
       "<Figure size 432x288 with 0 Axes>"
      ]
     },
     "metadata": {},
     "output_type": "display_data"
    }
   ],
   "source": [
    "alive = 0\n",
    "dead = 0\n",
    "for index,row in finalDF.iterrows():\n",
    "    if(row['expire_flag'] == 1):\n",
    "        dead = dead+1\n",
    "    else:\n",
    "        alive = alive+1\n",
    "        \n",
    "labels = 'Alive', 'Not Alive'\n",
    "sizes = [alive,dead]\n",
    "\n",
    "fig1, ax1 = plt.subplots()\n",
    "ax1.pie(sizes, labels=labels, autopct='%1.1f%%',\n",
    "        shadow=True, startangle=90)\n",
    "ax1.axis('equal')  \n",
    "\n",
    "plt.show()\n",
    "print(\"Alive: \", alive)\n",
    "print(\"Not Alive: \", dead)\n",
    "plt.savefig('mortality_distribution.png')"
   ]
  },
  {
   "cell_type": "code",
   "execution_count": 174,
   "metadata": {},
   "outputs": [],
   "source": [
    "finalDF['admission_type'] = ''\n",
    "for index,row in finalDF.iterrows():\n",
    "    admission_type = Admissions.loc[row['hadm_id'],'ADMISSION_TYPE']\n",
    "    finalDF.at[index,'admission_type'] = admission_type"
   ]
  },
  {
   "cell_type": "code",
   "execution_count": 175,
   "metadata": {},
   "outputs": [],
   "source": [
    "finalDF['elix_score'] = 0\n",
    "for index,row in finalDF.iterrows():\n",
    "    elix_score = CM_SCORE.loc[row['hadm_id'],'elixhauser_vanwalraven']\n",
    "    if(np.isnan(elix_score)):\n",
    "        elix_score = 0\n",
    "    finalDF.at[index,'elix_score'] = elix_score"
   ]
  },
  {
   "cell_type": "code",
   "execution_count": 176,
   "metadata": {},
   "outputs": [],
   "source": [
    "finalDF['age'] = 0\n",
    "for index,row in finalDF.iterrows():\n",
    "    birth = Patients.loc[row['subject_id'],'DOB']\n",
    "    birth = datetime.strptime(birth, '%Y-%m-%d %H:%M:%S')\n",
    "    birth_year = birth.year\n",
    "    current = Admissions.loc[row['hadm_id'],'ADMITTIME']\n",
    "    current = datetime.strptime(current, '%Y-%m-%d %H:%M:%S')\n",
    "    current_year = current.year\n",
    "    age = current_year-birth_year\n",
    "    finalDF.at[index,'age'] = age"
   ]
  },
  {
   "cell_type": "code",
   "execution_count": 177,
   "metadata": {},
   "outputs": [],
   "source": [
    "glucoseNumbers = {}\n",
    "for index,row in DM.iterrows():\n",
    "    glucoseNumbers.setdefault(row['hadm_id'], []).append(row['valuenum'])"
   ]
  },
  {
   "cell_type": "code",
   "execution_count": 178,
   "metadata": {},
   "outputs": [],
   "source": [
    "finalDF['glucose'] = np.array\n",
    "for index,row in finalDF.iterrows():\n",
    "    glucose = glucoseNumbers[row['hadm_id']]\n",
    "    finalDF.at[index,'glucose'] = glucose"
   ]
  },
  {
   "cell_type": "code",
   "execution_count": 179,
   "metadata": {},
   "outputs": [],
   "source": [
    "from sklearn.preprocessing import LabelEncoder"
   ]
  },
  {
   "cell_type": "code",
   "execution_count": 180,
   "metadata": {},
   "outputs": [],
   "source": [
    "le_admission_type = LabelEncoder()\n",
    "finalDF['admission_type_encoded'] = le_admission_type.fit_transform(finalDF.admission_type)\n"
   ]
  },
  {
   "cell_type": "code",
   "execution_count": 185,
   "metadata": {},
   "outputs": [],
   "source": [
    "glucose_count_A = {}\n",
    "glucose_count_D = {}\n",
    "for index,row in finalDF.iterrows():\n",
    "    glucose_list = row['glucose']\n",
    "    if(row['expire_flag'] == 0):\n",
    "        glucose_count_A[index] = 0\n",
    "        for num in glucose_list:\n",
    "            glucose_count_A[index] += 1\n",
    "    else:\n",
    "        glucose_count_D[index] = 0\n",
    "        for num in glucose_list:\n",
    "            glucose_count_D[index] += 1"
   ]
  },
  {
   "cell_type": "code",
   "execution_count": 186,
   "metadata": {},
   "outputs": [],
   "source": [
    "num_readings_A = {}\n",
    "num_readings_D = {}\n",
    "\n",
    "for key,value in glucose_count_A.items():\n",
    "    if(value in num_readings_A):        \n",
    "        num_readings_A[value] += 1\n",
    "    else:\n",
    "        num_readings_A[value] = 1\n",
    "        \n",
    "for key,value in glucose_count_D.items():\n",
    "    if(value in num_readings_D):        \n",
    "        num_readings_D[value] += 1\n",
    "    else:\n",
    "        num_readings_D[value] = 1\n",
    "    "
   ]
  },
  {
   "cell_type": "code",
   "execution_count": 187,
   "metadata": {},
   "outputs": [],
   "source": [
    "#N will change the max amount of numbers for visual purposes\n",
    "N=60\n",
    "num=np.arange(N)\n",
    "occurA = []\n",
    "occurD = []\n",
    "\n",
    "for x in num:\n",
    "    if x in num_readings_A:\n",
    "        occurA.append(num_readings_A[x])\n",
    "    else:\n",
    "        occurA.append(0)\n",
    "\n",
    "for x in num:\n",
    "    if x in num_readings_D:\n",
    "        occurD.append(num_readings_D[x])\n",
    "    else:\n",
    "        occurD.append(0)"
   ]
  },
  {
   "cell_type": "code",
   "execution_count": 188,
   "metadata": {},
   "outputs": [
    {
     "data": {
      "image/png": "[encoded data removed]",
      "text/plain": [
       "<Figure size 1152x432 with 1 Axes>"
      ]
     },
     "metadata": {
      "needs_background": "light"
     },
     "output_type": "display_data"
    }
   ],
   "source": [
    "plt.figure(figsize=(16, 6))\n",
    "plt.rcParams.update({'font.size':12})\n",
    "plt.ylabel('Number of Patients')\n",
    "plt.xlabel('Total Glucose Measurements per Stay')\n",
    "plt.rc('xtick', labelsize=14) \n",
    "plt.rc('ytick', labelsize=14)\n",
    "plt.xticks(rotation=270)\n",
    "p1 = plt.bar(num,occurD,color='black')\n",
    "p2 = plt.bar(num,occurA,bottom=occurD,color='tan')\n",
    "plt.legend((p1[0], p2[0]), ('Dead', 'Alive'))\n",
    "plt.savefig('glucose_distribution.png')\n",
    "plt.show()\n"
   ]
  },
  {
   "cell_type": "code",
   "execution_count": 189,
   "metadata": {},
   "outputs": [],
   "source": [
    "finalDF['glucose_readings'] = 0\n",
    "glucose_dict = {}\n",
    "for index,row in finalDF.iterrows():\n",
    "    glucose_list = row['glucose']\n",
    "    glucose_readings = len(glucose_list)\n",
    "    finalDF.at[index,'glucose_readings'] = glucose_readings\n",
    "    num = index\n",
    "    if (len(glucose_list) < 30): \n",
    "        for glu in reversed(glucose_list):        \n",
    "            glucose_dict.setdefault(num, []).append(glu)  \n",
    "    else:\n",
    "        for i in range(1,31):\n",
    "            glucose_dict.setdefault(num, []).append(glucose_list[(len(glucose_list)-i)])"
   ]
  },
  {
   "cell_type": "code",
   "execution_count": 191,
   "metadata": {},
   "outputs": [],
   "source": [
    "glucoseDF = pd.DataFrame.from_dict(glucose_dict, orient='index')"
   ]
  },
  {
   "cell_type": "code",
   "execution_count": 192,
   "metadata": {},
   "outputs": [],
   "source": [
    "finalDF = finalDF.join(glucoseDF)"
   ]
  },
  {
   "cell_type": "code",
   "execution_count": 198,
   "metadata": {},
   "outputs": [],
   "source": [
    "def Average(lst): \n",
    "    return sum(lst) / len(lst)"
   ]
  },
  {
   "cell_type": "code",
   "execution_count": 199,
   "metadata": {},
   "outputs": [],
   "source": [
    "for index,row in finalDF.iterrows():\n",
    "    glucose_list = row['glucose']\n",
    "    glucose_list = np.array(glucose_list)\n",
    "    glucose_list = glucose_list[np.logical_not(np.isnan(glucose_list))]\n",
    "    if(glucose_list.size<=0):\n",
    "        #finalDF.loc[index,'mean'] = 0\n",
    "        finalDF.loc[index,'range'] = 0\n",
    "    else:\n",
    "        glucose_list = glucose_list.astype(int)\n",
    "        #mean = Average(glucose_list)\n",
    "        maxval = max(glucose_list)\n",
    "        minval = min(glucose_list)\n",
    "        #finalDF.loc[index,'mean'] = int(mean)\n",
    "        finalDF.loc[index,'range'] = (maxval - minval)\n",
    "\n",
    "for index,row in finalDF.iterrows():\n",
    "    if(row['range'] == 0):\n",
    "        finalDF.drop([index])\n",
    "    "
   ]
  },
  {
   "cell_type": "code",
   "execution_count": 200,
   "metadata": {},
   "outputs": [],
   "source": [
    "finalDF = finalDF.fillna(0)"
   ]
  },
  {
   "cell_type": "code",
   "execution_count": 202,
   "metadata": {},
   "outputs": [
    {
     "name": "stdout",
     "output_type": "stream",
     "text": [
      "full:  7556\n",
      "not_full:  6104\n"
     ]
    }
   ],
   "source": [
    "#Can determine how many patients are completely full with glucose readings\n",
    "full = 0\n",
    "not_full = 0\n",
    "for index,row in finalDF.iterrows():\n",
    "    if(row[17] == 0):\n",
    "        not_full += 1\n",
    "    else:\n",
    "        full += 1\n",
    "print('full: ',full)\n",
    "print('not_full: ',not_full)\n",
    "        "
   ]
  },
  {
   "cell_type": "code",
   "execution_count": 204,
   "metadata": {},
   "outputs": [],
   "source": [
    "finalDF.to_csv('finalDF.csv', mode='w')"
   ]
  },
  {
   "cell_type": "code",
   "execution_count": null,
   "metadata": {},
   "outputs": [],
   "source": []
  }
 ],
 "metadata": {
  "kernelspec": {
   "display_name": "Python 3",
   "language": "python",
   "name": "python3"
  },
  "language_info": {
   "codemirror_mode": {
    "name": "ipython",
    "version": 3
   },
   "file_extension": ".py",
   "mimetype": "text/x-python",
   "name": "python",
   "nbconvert_exporter": "python",
   "pygments_lexer": "ipython3",
   "version": "3.6.1"
  }
 },
 "nbformat": 4,
 "nbformat_minor": 2
}
