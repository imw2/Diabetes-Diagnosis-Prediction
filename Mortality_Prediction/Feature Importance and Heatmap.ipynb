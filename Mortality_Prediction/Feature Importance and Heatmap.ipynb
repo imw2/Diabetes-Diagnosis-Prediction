{
 "cells": [
  {
   "cell_type": "markdown",
   "metadata": {},
   "source": [
    "# Analyzing Features"
   ]
  },
  {
   "cell_type": "code",
   "execution_count": 1,
   "metadata": {},
   "outputs": [],
   "source": [
    "import pandas as pd\n",
    "import seaborn as sns\n",
    "import matplotlib.pyplot as plt\n",
    "import json\n",
    "import numpy as np\n",
    "from sklearn.model_selection import train_test_split\n",
    "import itertools"
   ]
  },
  {
   "cell_type": "code",
   "execution_count": 2,
   "metadata": {},
   "outputs": [
    {
     "data": {
      "text/html": [
       "<div>\n",
       "<style scoped>\n",
       "    .dataframe tbody tr th:only-of-type {\n",
       "        vertical-align: middle;\n",
       "    }\n",
       "\n",
       "    .dataframe tbody tr th {\n",
       "        vertical-align: top;\n",
       "    }\n",
       "\n",
       "    .dataframe thead th {\n",
       "        text-align: right;\n",
       "    }\n",
       "</style>\n",
       "<table border=\"1\" class=\"dataframe\">\n",
       "  <thead>\n",
       "    <tr style=\"text-align: right;\">\n",
       "      <th></th>\n",
       "      <th>hadm_id</th>\n",
       "      <th>subject_id</th>\n",
       "      <th>expire_flag</th>\n",
       "      <th>admission_type</th>\n",
       "      <th>elix_score</th>\n",
       "      <th>age</th>\n",
       "      <th>admission_type_encoded</th>\n",
       "      <th>glucose_readings</th>\n",
       "      <th>0</th>\n",
       "      <th>1</th>\n",
       "      <th>...</th>\n",
       "      <th>21</th>\n",
       "      <th>22</th>\n",
       "      <th>23</th>\n",
       "      <th>24</th>\n",
       "      <th>25</th>\n",
       "      <th>26</th>\n",
       "      <th>27</th>\n",
       "      <th>28</th>\n",
       "      <th>29</th>\n",
       "      <th>range</th>\n",
       "    </tr>\n",
       "  </thead>\n",
       "  <tbody>\n",
       "    <tr>\n",
       "      <th>0</th>\n",
       "      <td>137275</td>\n",
       "      <td>9319</td>\n",
       "      <td>0</td>\n",
       "      <td>ELECTIVE</td>\n",
       "      <td>12</td>\n",
       "      <td>82</td>\n",
       "      <td>0</td>\n",
       "      <td>45</td>\n",
       "      <td>118.0</td>\n",
       "      <td>97.0</td>\n",
       "      <td>...</td>\n",
       "      <td>133.0</td>\n",
       "      <td>142.0</td>\n",
       "      <td>142.0</td>\n",
       "      <td>99.0</td>\n",
       "      <td>99.0</td>\n",
       "      <td>98.0</td>\n",
       "      <td>126.0</td>\n",
       "      <td>109.0</td>\n",
       "      <td>109.0</td>\n",
       "      <td>82.0</td>\n",
       "    </tr>\n",
       "    <tr>\n",
       "      <th>1</th>\n",
       "      <td>125380</td>\n",
       "      <td>31585</td>\n",
       "      <td>0</td>\n",
       "      <td>EMERGENCY</td>\n",
       "      <td>7</td>\n",
       "      <td>300</td>\n",
       "      <td>1</td>\n",
       "      <td>10</td>\n",
       "      <td>118.0</td>\n",
       "      <td>127.0</td>\n",
       "      <td>...</td>\n",
       "      <td>0.0</td>\n",
       "      <td>0.0</td>\n",
       "      <td>0.0</td>\n",
       "      <td>0.0</td>\n",
       "      <td>0.0</td>\n",
       "      <td>0.0</td>\n",
       "      <td>0.0</td>\n",
       "      <td>0.0</td>\n",
       "      <td>0.0</td>\n",
       "      <td>20.0</td>\n",
       "    </tr>\n",
       "    <tr>\n",
       "      <th>2</th>\n",
       "      <td>132722</td>\n",
       "      <td>1426</td>\n",
       "      <td>0</td>\n",
       "      <td>EMERGENCY</td>\n",
       "      <td>5</td>\n",
       "      <td>80</td>\n",
       "      <td>1</td>\n",
       "      <td>9</td>\n",
       "      <td>104.0</td>\n",
       "      <td>104.0</td>\n",
       "      <td>...</td>\n",
       "      <td>0.0</td>\n",
       "      <td>0.0</td>\n",
       "      <td>0.0</td>\n",
       "      <td>0.0</td>\n",
       "      <td>0.0</td>\n",
       "      <td>0.0</td>\n",
       "      <td>0.0</td>\n",
       "      <td>0.0</td>\n",
       "      <td>0.0</td>\n",
       "      <td>101.0</td>\n",
       "    </tr>\n",
       "    <tr>\n",
       "      <th>3</th>\n",
       "      <td>101422</td>\n",
       "      <td>71582</td>\n",
       "      <td>0</td>\n",
       "      <td>EMERGENCY</td>\n",
       "      <td>0</td>\n",
       "      <td>76</td>\n",
       "      <td>1</td>\n",
       "      <td>21</td>\n",
       "      <td>106.0</td>\n",
       "      <td>134.0</td>\n",
       "      <td>...</td>\n",
       "      <td>0.0</td>\n",
       "      <td>0.0</td>\n",
       "      <td>0.0</td>\n",
       "      <td>0.0</td>\n",
       "      <td>0.0</td>\n",
       "      <td>0.0</td>\n",
       "      <td>0.0</td>\n",
       "      <td>0.0</td>\n",
       "      <td>0.0</td>\n",
       "      <td>88.0</td>\n",
       "    </tr>\n",
       "    <tr>\n",
       "      <th>4</th>\n",
       "      <td>139687</td>\n",
       "      <td>68501</td>\n",
       "      <td>0</td>\n",
       "      <td>ELECTIVE</td>\n",
       "      <td>10</td>\n",
       "      <td>86</td>\n",
       "      <td>0</td>\n",
       "      <td>5</td>\n",
       "      <td>162.0</td>\n",
       "      <td>180.0</td>\n",
       "      <td>...</td>\n",
       "      <td>0.0</td>\n",
       "      <td>0.0</td>\n",
       "      <td>0.0</td>\n",
       "      <td>0.0</td>\n",
       "      <td>0.0</td>\n",
       "      <td>0.0</td>\n",
       "      <td>0.0</td>\n",
       "      <td>0.0</td>\n",
       "      <td>0.0</td>\n",
       "      <td>130.0</td>\n",
       "    </tr>\n",
       "  </tbody>\n",
       "</table>\n",
       "<p>5 rows × 39 columns</p>\n",
       "</div>"
      ],
      "text/plain": [
       "   hadm_id  subject_id  expire_flag admission_type  elix_score  age  \\\n",
       "0   137275        9319            0       ELECTIVE          12   82   \n",
       "1   125380       31585            0      EMERGENCY           7  300   \n",
       "2   132722        1426            0      EMERGENCY           5   80   \n",
       "3   101422       71582            0      EMERGENCY           0   76   \n",
       "4   139687       68501            0       ELECTIVE          10   86   \n",
       "\n",
       "   admission_type_encoded  glucose_readings      0      1  ...       21  \\\n",
       "0                       0                45  118.0   97.0  ...    133.0   \n",
       "1                       1                10  118.0  127.0  ...      0.0   \n",
       "2                       1                 9  104.0  104.0  ...      0.0   \n",
       "3                       1                21  106.0  134.0  ...      0.0   \n",
       "4                       0                 5  162.0  180.0  ...      0.0   \n",
       "\n",
       "      22     23    24    25    26     27     28     29  range  \n",
       "0  142.0  142.0  99.0  99.0  98.0  126.0  109.0  109.0   82.0  \n",
       "1    0.0    0.0   0.0   0.0   0.0    0.0    0.0    0.0   20.0  \n",
       "2    0.0    0.0   0.0   0.0   0.0    0.0    0.0    0.0  101.0  \n",
       "3    0.0    0.0   0.0   0.0   0.0    0.0    0.0    0.0   88.0  \n",
       "4    0.0    0.0   0.0   0.0   0.0    0.0    0.0    0.0  130.0  \n",
       "\n",
       "[5 rows x 39 columns]"
      ]
     },
     "metadata": {},
     "output_type": "display_data"
    }
   ],
   "source": [
    "df = pd.read_csv('finalDF.csv',index_col=0)\n",
    "df = df.drop(columns=['glucose'])\n",
    "display(df.head())\n",
    "df = df[df.range < 500]"
   ]
  },
  {
   "cell_type": "code",
   "execution_count": 3,
   "metadata": {},
   "outputs": [],
   "source": [
    "from sklearn.utils import resample\n",
    "df_majority = df[df.expire_flag==0]\n",
    "df_minority = df[df.expire_flag==1]\n",
    "\n",
    "df_minority_upsampled = resample(df_minority, \n",
    "                                 replace=True,   \n",
    "                                 n_samples=3000,     \n",
    "                                 random_state=123) \n",
    "\n",
    "df_majority_downsampled = resample(df_majority, \n",
    "                                 replace=False, \n",
    "                                 n_samples=5000,     \n",
    "                                 random_state=123) \n",
    "\n",
    "df_resampled = pd.concat([df_minority_upsampled, df_majority_downsampled])"
   ]
  },
  {
   "cell_type": "code",
   "execution_count": 8,
   "metadata": {},
   "outputs": [
    {
     "name": "stdout",
     "output_type": "stream",
     "text": [
      "(8000, 39)\n"
     ]
    }
   ],
   "source": [
    "pydf = df_resampled.values\n",
    "print(pydf.shape)\n",
    "X = pydf[:,4:39]\n",
    "y = df_resampled['expire_flag']"
   ]
  },
  {
   "cell_type": "markdown",
   "metadata": {},
   "source": [
    "# Feature Importance"
   ]
  },
  {
   "cell_type": "code",
   "execution_count": 10,
   "metadata": {},
   "outputs": [
    {
     "name": "stdout",
     "output_type": "stream",
     "text": [
      "Feature ranking:\n",
      "1. feature 0 (0.096655)\n",
      "2. feature 1 (0.070946)\n",
      "3. feature 4 (0.055291)\n",
      "4. feature 34 (0.053272)\n",
      "5. feature 6 (0.047040)\n",
      "6. feature 5 (0.044235)\n",
      "7. feature 7 (0.040838)\n",
      "8. feature 3 (0.040271)\n",
      "9. feature 8 (0.037829)\n",
      "10. feature 9 (0.034185)\n",
      "11. feature 11 (0.029804)\n",
      "12. feature 10 (0.029714)\n",
      "13. feature 2 (0.027794)\n",
      "14. feature 12 (0.027614)\n",
      "15. feature 13 (0.024833)\n",
      "16. feature 14 (0.024716)\n",
      "17. feature 15 (0.024074)\n",
      "18. feature 17 (0.020935)\n",
      "19. feature 18 (0.020031)\n",
      "20. feature 16 (0.019638)\n",
      "21. feature 23 (0.018569)\n",
      "22. feature 19 (0.018562)\n",
      "23. feature 20 (0.017988)\n",
      "24. feature 21 (0.017546)\n",
      "25. feature 22 (0.017447)\n",
      "26. feature 25 (0.015813)\n",
      "27. feature 33 (0.014995)\n",
      "28. feature 24 (0.014979)\n",
      "29. feature 28 (0.014909)\n",
      "30. feature 32 (0.014756)\n",
      "31. feature 31 (0.014391)\n",
      "32. feature 29 (0.013781)\n",
      "33. feature 27 (0.012989)\n",
      "34. feature 26 (0.011963)\n",
      "35. feature 30 (0.011599)\n"
     ]
    },
    {
     "data": {
      "image/png": "[encoded data removed]",
      "text/plain": [
       "<Figure size 432x288 with 1 Axes>"
      ]
     },
     "metadata": {
      "needs_background": "light"
     },
     "output_type": "display_data"
    }
   ],
   "source": [
    "from sklearn.ensemble import ExtraTreesClassifier\n",
    "\n",
    "XImp = pydf[:,4:39]\n",
    "yImp = pydf[:,2]\n",
    "xImp = np.asarray(XImp,dtype=np.float64)\n",
    "yImp = np.asarray(yImp,dtype=np.float64)\n",
    "forest = ExtraTreesClassifier()\n",
    "forest.fit(XImp,yImp)\n",
    "importances = forest.feature_importances_\n",
    "std = np.std([tree.feature_importances_ for tree in forest.estimators_],\n",
    "             axis=0)\n",
    "indices = np.argsort(importances)[::-1]\n",
    "\n",
    "# Print the feature ranking\n",
    "print(\"Feature ranking:\")\n",
    "\n",
    "for f in range(35):\n",
    "    print(\"%d. feature %d (%f)\" % (f + 1, indices[f], importances[indices[f]]))\n",
    "\n",
    "# Plot the feature importances of the forest\n",
    "plt.figure()\n",
    "plt.title(\"Feature Importances\")\n",
    "plt.bar(range(X.shape[1]), importances[indices],\n",
    "       color=\"r\", yerr=std[indices], align=\"center\")\n",
    "plt.xticks(range(X.shape[1]), indices)\n",
    "plt.xlim([-.5, 9.5])\n",
    "plt.savefig('feature_importance.png')\n",
    "plt.show()"
   ]
  },
  {
   "cell_type": "markdown",
   "metadata": {},
   "source": [
    "# Feature Correlation via Heatmap"
   ]
  },
  {
   "cell_type": "code",
   "execution_count": null,
   "metadata": {
    "scrolled": true
   },
   "outputs": [
    {
     "data": {
      "text/plain": [
       "<matplotlib.axes._subplots.AxesSubplot at 0x22cab749668>"
      ]
     },
     "execution_count": 12,
     "metadata": {},
     "output_type": "execute_result"
    }
   ],
   "source": [
    "import seaborn as sns\n",
    "d = df[['0','1','2','3','4','5','6','7','8','9','10','11','12','13',\n",
    "       '14','15','16','17','18','19','20','21','22','23','24','25','26','27',\n",
    "        '28','29']].copy()\n",
    "corr = d.corr()\n",
    "mask = np.zeros_like(corr, dtype=np.bool)\n",
    "mask[np.triu_indices_from(mask)] = True\n",
    "f, ax = plt.subplots(figsize=(11, 9))\n",
    "cmap = sns.diverging_palette(220, 10, as_cmap=True)\n",
    "sns.heatmap(corr, mask=mask, cmap=cmap, vmax=.3, center=0,\n",
    "            square=True, linewidths=.5, cbar_kws={\"shrink\": .5})"
   ]
  },
  {
   "cell_type": "code",
   "execution_count": 17,
   "metadata": {},
   "outputs": [
    {
     "data": {
      "image/png": "[encoded data removed]",
      "text/plain": [
       "<Figure size 360x360 with 6 Axes>"
      ]
     },
     "metadata": {
      "needs_background": "light"
     },
     "output_type": "display_data"
    }
   ],
   "source": [
    "a = df[['expire_flag','range']].copy()\n",
    "g = sns.pairplot(a)"
   ]
  },
  {
   "cell_type": "code",
   "execution_count": 9,
   "metadata": {},
   "outputs": [],
   "source": [
    "pd.options.display.max_rows = 4000"
   ]
  },
  {
   "cell_type": "code",
   "execution_count": 13,
   "metadata": {
    "scrolled": true
   },
   "outputs": [
    {
     "data": {
      "image/png": "[encoded data removed]",
      "text/plain": [
       "<Figure size 792x648 with 2 Axes>"
      ]
     },
     "metadata": {
      "needs_background": "light"
     },
     "output_type": "display_data"
    }
   ],
   "source": [
    "import seaborn as sns\n",
    "d = df[['elix_score','age','admission_type_encoded','range','0']].copy()\n",
    "corr = d.corr()\n",
    "mask = np.zeros_like(corr, dtype=np.bool)\n",
    "mask[np.triu_indices_from(mask)] = True\n",
    "f, ax = plt.subplots(figsize=(11, 9))\n",
    "cmap = sns.diverging_palette(220, 10, as_cmap=True)\n",
    "sns_plot = sns.heatmap(corr, mask=mask, cmap=cmap, vmax=.3, center=0,\n",
    "            square=True, linewidths=.5, cbar_kws={\"shrink\": .5})\n",
    "\n",
    "sns_plot.figure.savefig(\"heatmap.png\")"
   ]
  },
  {
   "cell_type": "code",
   "execution_count": null,
   "metadata": {},
   "outputs": [],
   "source": []
  }
 ],
 "metadata": {
  "kernelspec": {
   "display_name": "Python 3",
   "language": "python",
   "name": "python3"
  },
  "language_info": {
   "codemirror_mode": {
    "name": "ipython",
    "version": 3
   },
   "file_extension": ".py",
   "mimetype": "text/x-python",
   "name": "python",
   "nbconvert_exporter": "python",
   "pygments_lexer": "ipython3",
   "version": "3.6.1"
  }
 },
 "nbformat": 4,
 "nbformat_minor": 2
}
