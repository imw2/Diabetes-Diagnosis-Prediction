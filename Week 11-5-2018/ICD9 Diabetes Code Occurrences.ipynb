{
 "cells": [
  {
   "cell_type": "markdown",
   "metadata": {},
   "source": [
    "# ICD9 Diabetes Code Occurrences\n"
   ]
  },
  {
   "cell_type": "markdown",
   "metadata": {},
   "source": [
    "The goal of this notebook is to find the occurrences for diabetes related codes (both diabetes and prediabetes code).\n",
    "\n",
    "Results: each code and the number of occurrences was found. This can be used in the socail network to find related diagnoses. Additionally it hints towards whether using a certain code is practical in a model. "
   ]
  },
  {
   "cell_type": "code",
   "execution_count": 1,
   "metadata": {},
   "outputs": [],
   "source": [
    "import json\n",
    "import matplotlib.pyplot as plt\n",
    "import numpy as np\n",
    "import pandas as pd"
   ]
  },
  {
   "cell_type": "markdown",
   "metadata": {},
   "source": [
    "Import txt files that contain library of icd codes and associated number of occurances, this file was generated from Plot_ICD9_Occurances.py"
   ]
  },
  {
   "cell_type": "code",
   "execution_count": 2,
   "metadata": {},
   "outputs": [],
   "source": [
    "    with open(\"icd_occurrences.txt\") as f:\n",
    "        ICD_lib = json.load(f)\n",
    "\n",
    "    with open(\"icd_V_occurrences.txt\") as f:\n",
    "        ICD_V_lib = json.load(f)"
   ]
  },
  {
   "cell_type": "markdown",
   "metadata": {},
   "source": [
    "Create a list of diabetes related codes and search for their total occurences. These codes are taken from Common ICD Relating to Diabetes Word file. Descriptions are taken from D_ICD_DIAGNOSES.csv file."
   ]
  },
  {
   "cell_type": "code",
   "execution_count": 3,
   "metadata": {},
   "outputs": [],
   "source": [
    "diabetes_codes = [\"250.0\", \"250.02\",\"250.1\",\"250.12\",\"250.2\",\"250.22\",\n",
    "                  \"250.3\",\"250.32\",\"250.4\",\"250.42\",\"250.5\",\"250.52\",\n",
    "                  \"250.6\",\"250.62\",\"250.7\",\"250.72\",\"250.8\",\"250.82\",\n",
    "                  \"250.9\",\"250.92\", \"790.22\", \"278.01\", \"278.0\",\n",
    "                  ]\n",
    "diabetes_V_codes = [\"85.30\",\"85.31\",\"85.32\",\"85.33\",\"85.34\",\n",
    "                    \"85.35\",\"85.36\",\"85.37\",\"85.38\",\"85.39\",\"85.41\",\n",
    "                    \"85.42\",\"85.43\",\"85.44\",\"85.45\"]\n",
    "icd_codes = []\n",
    "num_codes = []\n"
   ]
  },
  {
   "cell_type": "code",
   "execution_count": 4,
   "metadata": {},
   "outputs": [],
   "source": [
    "for code in diabetes_codes:    \n",
    "    for key,val in ICD_lib.items():\n",
    "        if(code == str(key)):\n",
    "            icd_codes.append(key)\n",
    "            num_codes.append(val)\n",
    "            \n",
    "for code in diabetes_V_codes:\n",
    "    for key,val in ICD_V_lib.items():   \n",
    "        if(code == str(key)):\n",
    "            icd_codes.append(\"V\" + str(key))\n",
    "            num_codes.append(val)\n",
    "\n",
    "        \n",
    "    "
   ]
  },
  {
   "cell_type": "code",
   "execution_count": 5,
   "metadata": {},
   "outputs": [],
   "source": [
    "ICD_DEF = pd.read_csv(\"D_ICD_DIAGNOSES.csv\")\n",
    "\n",
    "code_search = [\"250.00\", \"250.02\",\"250.10\",\"250.12\",\"250.20\",\"250.22\",\n",
    "            \"250.30\",\"250.32\",\"250.40\",\"250.42\",\"250.50\",\"250.52\",\n",
    "            \"250.60\",\"250.62\",\"250.70\",\"250.72\",\"250.80\",\"250.82\",\n",
    "            \"250.90\",\"250.92\", \"790.22\", \"278.01\", \"278.00\",\n",
    "            \"V85.31\",\"V85.32\",\"V85.33\",\"V85.34\",\n",
    "            \"V85.35\",\"V85.36\",\"V85.37\",\"V85.38\",\"V85.39\",\"V85.41\",\n",
    "            \"V85.42\",\"V85.43\",\"V85.44\",\"V85.45\"]\n",
    "    \n",
    "i=0\n",
    "for code in code_search:\n",
    "    code_search[i] = code.replace(\".\",\"\")\n",
    "    i += 1\n",
    "    "
   ]
  },
  {
   "cell_type": "code",
   "execution_count": 6,
   "metadata": {},
   "outputs": [],
   "source": [
    "codes_description = []\n",
    "\n",
    "for code in code_search:\n",
    "    for index,row in ICD_DEF.iterrows():  \n",
    "        if(code == str(row[\"ICD9_CODE\"])):\n",
    "            codes_description.append(row[\"LONG_TITLE\"])"
   ]
  },
  {
   "cell_type": "markdown",
   "metadata": {},
   "source": [
    "Plotting the above information in a var graph will give a quick visualization on which icd codes are commonly used and vice versa."
   ]
  },
  {
   "cell_type": "code",
   "execution_count": 7,
   "metadata": {
    "scrolled": true
   },
   "outputs": [
    {
     "data": {
      "image/png": "[encoded data removed]",
      "text/plain": [
       "<Figure size 432x288 with 1 Axes>"
      ]
     },
     "metadata": {
      "needs_background": "light"
     },
     "output_type": "display_data"
    }
   ],
   "source": [
    "    index = np.arange(len(icd_codes))\n",
    "    plt.bar(index, num_codes)\n",
    "    plt.xlabel('ICD Diagnose Code', fontsize=10)\n",
    "    plt.ylabel('Number of Occurrences', fontsize=10)\n",
    "    plt.xticks(index, icd_codes, fontsize=8, rotation=80)\n",
    "    plt.title('MIMIC-iii ICD_Diagnose Diabetes Code Occurrences')\n",
    "    plt.show()"
   ]
  },
  {
   "cell_type": "markdown",
   "metadata": {},
   "source": [
    "The table below shows the specific count along with each code description, to better understand the graph above. It should be noted that each diagnosis of diabetes in the table is assumed to be type II. "
   ]
  },
  {
   "cell_type": "code",
   "execution_count": 8,
   "metadata": {
    "scrolled": true
   },
   "outputs": [
    {
     "name": "stdout",
     "output_type": "stream",
     "text": [
      "[['250.0' '9058'\n",
      "  'Diabetes mellitus without mention of complication, type II or unspecified type, not stated as uncontrolled']\n",
      " ['250.02' '454'\n",
      "  'Diabetes mellitus without mention of complication, type II or unspecified type, uncontrolled']\n",
      " ['250.1' '48'\n",
      "  'Diabetes with ketoacidosis, type II or unspecified type, not stated as uncontrolled']\n",
      " ['250.12' '201'\n",
      "  'Diabetes with ketoacidosis, type II or unspecified type, uncontrolled']\n",
      " ['250.2' '32'\n",
      "  'Diabetes with hyperosmolarity, type II or unspecified type, not stated as uncontrolled']\n",
      " ['250.22' '44'\n",
      "  'Diabetes with hyperosmolarity, type II or unspecified type, uncontrolled']\n",
      " ['250.3' '10'\n",
      "  'Diabetes with other coma, type II or unspecified type, not stated as uncontrolled']\n",
      " ['250.32' '5'\n",
      "  'Diabetes with other coma, type II or unspecified type, uncontrolled']\n",
      " ['250.4' '954'\n",
      "  'Diabetes with renal manifestations, type II or unspecified type, not stated as uncontrolled']\n",
      " ['250.42' '130'\n",
      "  'Diabetes with renal manifestations, type II or unspecified type, uncontrolled']\n",
      " ['250.5' '445'\n",
      "  'Diabetes with ophthalmic manifestations, type II or unspecified type, not stated as uncontrolled']\n",
      " ['250.52' '85'\n",
      "  'Diabetes with ophthalmic manifestations, type II or unspecified type, uncontrolled']\n",
      " ['250.6' '1138'\n",
      "  'Diabetes with neurological manifestations, type II or unspecified type, not stated as uncontrolled']\n",
      " ['250.62' '198'\n",
      "  'Diabetes with neurological manifestations, type II or unspecified type, uncontrolled']\n",
      " ['250.7' '121'\n",
      "  'Diabetes with peripheral circulatory disorders, type II or unspecified type, not stated as uncontrolled']\n",
      " ['250.72' '31'\n",
      "  'Diabetes with peripheral circulatory disorders, type II or unspecified type, uncontrolled']\n",
      " ['250.8' '447'\n",
      "  'Diabetes with other specified manifestations, type II or unspecified type, not stated as uncontrolled']\n",
      " ['250.82' '115'\n",
      "  'Diabetes with other specified manifestations, type II or unspecified type, uncontrolled']\n",
      " ['250.9' '19'\n",
      "  'Diabetes with unspecified complication, type II or unspecified type, not stated as uncontrolled']\n",
      " ['250.92' '71'\n",
      "  'Diabetes with unspecified complication, type II or unspecified type, uncontrolled']\n",
      " ['790.22' '6' 'Impaired glucose tolerance test (oral)']\n",
      " ['278.01' '1170' 'Morbid obesity']\n",
      " ['278.0' '1511' 'Obesity, unspecified']\n",
      " ['V85.31' '17' 'Body Mass Index 31.0-31.9, adult']\n",
      " ['V85.32' '19' 'Body Mass Index 32.0-32.9, adult']\n",
      " ['V85.33' '16' 'Body Mass Index 33.0-33.9, adult']\n",
      " ['V85.34' '19' 'Body Mass Index 34.0-34.9, adult']\n",
      " ['V85.35' '14' 'Body Mass Index 35.0-35.9, adult']\n",
      " ['V85.36' '23' 'Body Mass Index 36.0-36.9, adult']\n",
      " ['V85.37' '17' 'Body Mass Index 37.0-37.9, adult']\n",
      " ['V85.38' '20' 'Body Mass Index 38.0-38.9, adult']\n",
      " ['V85.39' '19' 'Body Mass Index 39.0-39.9, adult']\n",
      " ['V85.41' '84' 'Body Mass Index 40.0-44.9, adult']\n",
      " ['V85.42' '45' 'Body Mass Index 45.0-49.9, adult']\n",
      " ['V85.43' '50' 'Body Mass Index 50.0-59.9, adult']\n",
      " ['V85.44' '18' 'Body Mass Index 60.0-69.9, adult']\n",
      " ['V85.45' '11' 'Body Mass Index 70 and over, adult']]\n",
      "37 37\n"
     ]
    }
   ],
   "source": [
    "table_form = [icd_codes,num_codes,codes_description]\n",
    "print(np.transpose(table_form))\n",
    "print(len(icd_codes),len(codes_description))\n"
   ]
  },
  {
   "cell_type": "markdown",
   "metadata": {},
   "source": [
    "From the table it is seen which icd9 diabetes related codes are more common occurrences. Some codes relative to the data size are hardly used, such as 790.22 - Imparied glucose tolerance test. Other are used often, such as obesity (both 278.01 and 278.00) along with 250.00 (general diabetes) and some associated varaitions. Using this information, it makes creating a model for diabetes prediction better, since the potential for specifying the type of diabetes is possible. Yet, trying to model something with only 6 occurrances may potentially not be reliable/significant enough."
   ]
  }
 ],
 "metadata": {
  "kernelspec": {
   "display_name": "Python 3",
   "language": "python",
   "name": "python3"
  },
  "language_info": {
   "codemirror_mode": {
    "name": "ipython",
    "version": 3
   },
   "file_extension": ".py",
   "mimetype": "text/x-python",
   "name": "python",
   "nbconvert_exporter": "python",
   "pygments_lexer": "ipython3",
   "version": "3.6.1"
  }
 },
 "nbformat": 4,
 "nbformat_minor": 2
}
