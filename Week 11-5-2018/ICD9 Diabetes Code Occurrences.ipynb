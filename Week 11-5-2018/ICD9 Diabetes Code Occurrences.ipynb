{
 "cells": [
  {
   "cell_type": "markdown",
   "metadata": {},
   "source": [
    "# ICD9 Diabetes Code Occurrences"
   ]
  },
  {
   "cell_type": "markdown",
   "metadata": {},
   "source": [
    "The goal of this notebook is to find the occurrences for diabetes related codes (both diabetes and prediabetes code)"
   ]
  },
  {
   "cell_type": "code",
   "execution_count": 1,
   "metadata": {},
   "outputs": [],
   "source": [
    "import json\n",
    "import matplotlib.pyplot as plt\n",
    "import numpy as np"
   ]
  },
  {
   "cell_type": "markdown",
   "metadata": {},
   "source": [
    "Import txt files that contain library of icd codes and associated number of occurances, this file was generated from Plot_ICD9_Occurances.py"
   ]
  },
  {
   "cell_type": "code",
   "execution_count": 2,
   "metadata": {},
   "outputs": [],
   "source": [
    "    with open(\"icd_occurrences.txt\") as f:\n",
    "        ICD_lib = json.load(f)\n",
    "\n",
    "    with open(\"icd_V_occurrences.txt\") as f:\n",
    "        ICD_V_lib = json.load(f)"
   ]
  },
  {
   "cell_type": "markdown",
   "metadata": {},
   "source": [
    "Create a list of diabetes related codes and search for their total occurences"
   ]
  },
  {
   "cell_type": "code",
   "execution_count": 3,
   "metadata": {},
   "outputs": [],
   "source": [
    "diabetes_codes = [\"250.0\", \"250.02\",\"250.10\",\"250.12\",\"250.20\",\"250.22\",\n",
    "                  \"250.30\",\"250.32\",\"250.40\",\"250.42\",\"250.50\",\"250.52\",\n",
    "                  \"250.60\",\"250.62\",\"250.70\",\"250.72\",\"250.80\",\"250.82\",\n",
    "                  \"250.90\",\"250.92\", \"790.22\", \"278.01\", \"278.0\",\n",
    "                  ]\n",
    "diabetes_V_codes = [\"77.1\",\"85.30\",\"85.31\",\"85.32\",\"85.33\",\"85.34\",\n",
    "                    \"85.35\",\"85.36\",\"85.37\",\"85.38\",\"85.39\",\"85.41\",\n",
    "                    \"85.42\",\"85.43\",\"85.44\",\"85.45\"]\n",
    "icd_codes = []\n",
    "num_codes = []\n",
    "\n",
    "codes_description = [\"Diabetes mellitus without mention of complication\",\"Morbid Obesity\",\n",
    "                     \"Diabetes mellitus without mention of complication\",\n",
    "                     \"Obesity (NOS)\",\"Diabetes with other specified manifestations\",\n",
    "                     \"Diabetes with neurological manifestations\", \"Diabetes with ketoacidosis\",\n",
    "                     \"Diabetes with unspecified complication\", \"Diabetes with renal manifestations\",\n",
    "                     \"Diabetes with peripheral circulatory disorders\",\"Diabetes with ophthalmic manifestations\",\n",
    "                     \"Diabetes with hyperosmolarity,\",\"Diabetes with other coma\",\n",
    "                     \"Impaired glucose tolerance (oral)\", \"Body mass indexes 30.0-39.9 (adult)\",\n",
    "                     \"Body mass indexes 30.0-39.9 (adult)\",\"Body mass indexes 30.0-39.9 (adult)\",\n",
    "                     \"Body mass indexes 30.0-39.9 (adult)\",\"Body mass indexes 30.0-39.9 (adult)\",\n",
    "                     \"Body mass indexes 30.0-39.9 (adult)\",\"Body mass indexes 30.0-39.9 (adult)\",\n",
    "                     \"Body mass indexes 30.0-39.9 (adult)\",\"Body mass indexes 30.0-39.9 (adult)\",\n",
    "                     \"Body mass indexes 30.0-39.9 (adult)\",\"Body mass indexes 30.0-39.9 (adult)\",\n",
    "                     \"Body mass indexes 30.0-39.9 (adult)\",\"Body mass indexes 30.0-39.9 (adult)\",\n",
    "                     \"Body mass indexes 30.0-39.9 (adult)\"]"
   ]
  },
  {
   "cell_type": "code",
   "execution_count": 4,
   "metadata": {},
   "outputs": [],
   "source": [
    "for key,val in ICD_lib.items():\n",
    "    for code in diabetes_codes:\n",
    "        if(code == str(key)):\n",
    "            icd_codes.append(key)\n",
    "            num_codes.append(val)\n",
    "            \n",
    "for key,val in ICD_V_lib.items():\n",
    "    for code in diabetes_V_codes:\n",
    "        if(code == str(key)):\n",
    "            icd_codes.append(\"V\" + str(key))\n",
    "            num_codes.append(val)\n",
    "\n",
    "        \n",
    "    "
   ]
  },
  {
   "cell_type": "markdown",
   "metadata": {},
   "source": [
    "Plot bar graph"
   ]
  },
  {
   "cell_type": "code",
   "execution_count": 5,
   "metadata": {
    "scrolled": true
   },
   "outputs": [
    {
     "data": {
      "image/png": "[encoded data removed]",
      "text/plain": [
       "<Figure size 432x288 with 1 Axes>"
      ]
     },
     "metadata": {
      "needs_background": "light"
     },
     "output_type": "display_data"
    }
   ],
   "source": [
    "    index = np.arange(len(icd_codes))\n",
    "    plt.bar(index, num_codes)\n",
    "    plt.xlabel('ICD Diagnose Code', fontsize=10)\n",
    "    plt.ylabel('Number of Occurrences', fontsize=10)\n",
    "    plt.xticks(index, icd_codes, fontsize=8, rotation=80)\n",
    "    plt.title('MIMIC-iii ICD_Diagnose Diabetes Code Occurrences')\n",
    "    plt.show()"
   ]
  },
  {
   "cell_type": "markdown",
   "metadata": {},
   "source": [
    "The above bar graph shows the occurances of each diabetes related code. The table below shows the specific count along with each code description. It should be noted that each diagnosis of diabetes in the table is assumed to be type II. "
   ]
  },
  {
   "cell_type": "code",
   "execution_count": 6,
   "metadata": {
    "scrolled": true
   },
   "outputs": [
    {
     "name": "stdout",
     "output_type": "stream",
     "text": [
      "[['250.0' '9058' 'Diabetes mellitus without mention of complication']\n",
      " ['278.01' '1170' 'Morbid Obesity']\n",
      " ['250.02' '454' 'Diabetes mellitus without mention of complication']\n",
      " ['278.0' '1511' 'Obesity (NOS)']\n",
      " ['250.82' '115' 'Diabetes with other specified manifestations']\n",
      " ['250.62' '198' 'Diabetes with neurological manifestations']\n",
      " ['250.12' '201' 'Diabetes with ketoacidosis']\n",
      " ['250.92' '71' 'Diabetes with unspecified complication']\n",
      " ['250.42' '130' 'Diabetes with renal manifestations']\n",
      " ['250.72' '31' 'Diabetes with peripheral circulatory disorders']\n",
      " ['250.52' '85' 'Diabetes with ophthalmic manifestations']\n",
      " ['250.22' '44' 'Diabetes with hyperosmolarity,']\n",
      " ['250.32' '5' 'Diabetes with other coma']\n",
      " ['790.22' '6' 'Impaired glucose tolerance (oral)']\n",
      " ['V85.35' '14' 'Body mass indexes 30.0-39.9 (adult)']\n",
      " ['V85.43' '50' 'Body mass indexes 30.0-39.9 (adult)']\n",
      " ['V85.41' '84' 'Body mass indexes 30.0-39.9 (adult)']\n",
      " ['V85.37' '17' 'Body mass indexes 30.0-39.9 (adult)']\n",
      " ['V85.34' '19' 'Body mass indexes 30.0-39.9 (adult)']\n",
      " ['V85.42' '45' 'Body mass indexes 30.0-39.9 (adult)']\n",
      " ['V85.45' '11' 'Body mass indexes 30.0-39.9 (adult)']\n",
      " ['V85.38' '20' 'Body mass indexes 30.0-39.9 (adult)']\n",
      " ['V85.36' '23' 'Body mass indexes 30.0-39.9 (adult)']\n",
      " ['V85.39' '19' 'Body mass indexes 30.0-39.9 (adult)']\n",
      " ['V85.44' '18' 'Body mass indexes 30.0-39.9 (adult)']\n",
      " ['V85.33' '16' 'Body mass indexes 30.0-39.9 (adult)']\n",
      " ['V85.32' '19' 'Body mass indexes 30.0-39.9 (adult)']\n",
      " ['V85.31' '17' 'Body mass indexes 30.0-39.9 (adult)']]\n"
     ]
    }
   ],
   "source": [
    "table_form = [icd_codes,num_codes,codes_description]\n",
    "print(np.transpose(table_form))"
   ]
  },
  {
   "cell_type": "code",
   "execution_count": null,
   "metadata": {},
   "outputs": [],
   "source": []
  }
 ],
 "metadata": {
  "kernelspec": {
   "display_name": "Python 3",
   "language": "python",
   "name": "python3"
  },
  "language_info": {
   "codemirror_mode": {
    "name": "ipython",
    "version": 3
   },
   "file_extension": ".py",
   "mimetype": "text/x-python",
   "name": "python",
   "nbconvert_exporter": "python",
   "pygments_lexer": "ipython3",
   "version": "3.6.1"
  }
 },
 "nbformat": 4,
 "nbformat_minor": 2
}
