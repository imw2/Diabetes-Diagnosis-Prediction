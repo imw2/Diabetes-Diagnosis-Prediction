{
 "cells": [
  {
   "cell_type": "markdown",
   "metadata": {},
   "source": [
    "# NoteEvent Distribution"
   ]
  },
  {
   "cell_type": "markdown",
   "metadata": {},
   "source": [
    "NoteEvent is a table that contains all notes taken regarding patients during their ICU stays. These notes can be used to improve the diabetes prediction model along with many other posibilities. \n",
    "\n",
    "The goal of this notebook is to become introduced to the NoteEvent table by simply counting how many occurrences happen for each type of note\n",
    "\n",
    "Results: all notes were counted for 1/15 categories"
   ]
  },
  {
   "cell_type": "code",
   "execution_count": 29,
   "metadata": {},
   "outputs": [],
   "source": [
    "import pandas as pd\n",
    "import numpy as np\n",
    "import json\n",
    "import matplotlib.pyplot as plt\n",
    "import operator"
   ]
  },
  {
   "cell_type": "code",
   "execution_count": null,
   "metadata": {},
   "outputs": [],
   "source": [
    "NOTEEVENTS = pd.read_csv(\"NOTEEVENTS.csv\")\n",
    "\n",
    "Note_lib = {}\n",
    "\n",
    "for index, row in NOTEEVENTS.iterrows():\n",
    "    note_category = row['CATEGORY']\n",
    "    if note_category in Note_lib:\n",
    "        Note_lib[note_category] += 1\n",
    "    else:\n",
    "        Note_lib[note_category] = 1"
   ]
  },
  {
   "cell_type": "markdown",
   "metadata": {},
   "source": [
    "For potential reuse of note library, export to a txt file"
   ]
  },
  {
   "cell_type": "code",
   "execution_count": 7,
   "metadata": {},
   "outputs": [],
   "source": [
    "with open('note_lib.txt', 'w') as f:\n",
    "        json.dump(Note_lib, f)"
   ]
  },
  {
   "cell_type": "code",
   "execution_count": 37,
   "metadata": {},
   "outputs": [
    {
     "name": "stdout",
     "output_type": "stream",
     "text": [
      "('Nursing/other', 822497)\n",
      "('Radiology', 522279)\n",
      "('Nursing', 223556)\n",
      "('ECG', 209051)\n",
      "('Physician ', 141624)\n",
      "('Discharge summary', 59652)\n",
      "('Echo', 45794)\n",
      "('Respiratory ', 31739)\n",
      "('Nutrition', 9418)\n",
      "('General', 8301)\n",
      "('Rehab Services', 5431)\n",
      "('Social Work', 2670)\n",
      "('Case Management ', 967)\n",
      "('Pharmacy', 103)\n",
      "('Consult', 98)\n"
     ]
    }
   ],
   "source": [
    "note_category = []\n",
    "\n",
    "for key,val in Note_lib.items():\n",
    "    note_category.append((key,val))\n",
    "\n",
    "note_table = sorted(note_category,key=lambda x:(-x[1],x[0]))\n",
    "for note in note_table:\n",
    "    print(note)\n",
    "    \n",
    "    \n"
   ]
  },
  {
   "cell_type": "markdown",
   "metadata": {},
   "source": [
    "As can be seen above the most common note types are Nursing and Radiaology. Nursing seems to make alot of sense since the majority of patient care is done by nurses. The least common note type is Consult."
   ]
  },
  {
   "cell_type": "code",
   "execution_count": null,
   "metadata": {},
   "outputs": [],
   "source": []
  }
 ],
 "metadata": {
  "kernelspec": {
   "display_name": "Python 3",
   "language": "python",
   "name": "python3"
  },
  "language_info": {
   "codemirror_mode": {
    "name": "ipython",
    "version": 3
   },
   "file_extension": ".py",
   "mimetype": "text/x-python",
   "name": "python",
   "nbconvert_exporter": "python",
   "pygments_lexer": "ipython3",
   "version": "3.6.1"
  }
 },
 "nbformat": 4,
 "nbformat_minor": 2
}
