{
 "cells": [
  {
   "cell_type": "markdown",
   "metadata": {},
   "source": [
    "# Find Patients with DM2, Multiple Visits, and a Change in DM2 Diagnoses Over Time"
   ]
  },
  {
   "cell_type": "code",
   "execution_count": 1,
   "metadata": {},
   "outputs": [],
   "source": [
    "import pandas as pd\n",
    "import seaborn as sns\n",
    "import matplotlib.pyplot as plt\n",
    "import json"
   ]
  },
  {
   "cell_type": "code",
   "execution_count": 2,
   "metadata": {},
   "outputs": [],
   "source": [
    "diagnoses = pd.read_csv('DIAGNOSES_ICD.csv')"
   ]
  },
  {
   "cell_type": "markdown",
   "metadata": {},
   "source": [
    "Any of the following ICD9 Codes would indicate that a patient has DM2"
   ]
  },
  {
   "cell_type": "code",
   "execution_count": 3,
   "metadata": {},
   "outputs": [],
   "source": [
    "DM2codes = ['25000','25002','25010','25012','25020','25022','25030','25032',\n",
    "         '25040','25042','25050','25052','25060','25062','25070','25072',\n",
    "         '25080','25082''25090','25092','V5867']"
   ]
  },
  {
   "cell_type": "code",
   "execution_count": 4,
   "metadata": {},
   "outputs": [],
   "source": [
    "DM2patients = []\n",
    "for index,row in diagnoses.iterrows():\n",
    "    if(row['ICD9_CODE'] in DM2codes):\n",
    "        DM2patients.append(row['SUBJECT_ID'])\n",
    "DM2patients = list(set(DM2patients))"
   ]
  },
  {
   "cell_type": "markdown",
   "metadata": {},
   "source": [
    "The following length represents how many time all the above DM2codes are diagnosed - 9785"
   ]
  },
  {
   "cell_type": "code",
   "execution_count": 5,
   "metadata": {},
   "outputs": [
    {
     "name": "stdout",
     "output_type": "stream",
     "text": [
      "9785\n"
     ]
    }
   ],
   "source": [
    "print(len(DM2patients))"
   ]
  },
  {
   "cell_type": "code",
   "execution_count": 6,
   "metadata": {},
   "outputs": [],
   "source": [
    "admissions = pd.read_csv('ADMISSIONS.csv')"
   ]
  },
  {
   "cell_type": "code",
   "execution_count": 7,
   "metadata": {},
   "outputs": [],
   "source": [
    "allPatients = []\n",
    "multipleVisits = []\n",
    "for index,row in admissions.iterrows():\n",
    "    if(row['SUBJECT_ID'] in allPatients):\n",
    "        multipleVisits.append(row['SUBJECT_ID'])\n",
    "    else:\n",
    "        allPatients.append(row['SUBJECT_ID'])\n",
    "multipleVisits = list(set(multipleVisits))"
   ]
  },
  {
   "cell_type": "markdown",
   "metadata": {},
   "source": [
    "The following list length represents how many patients have had multiple visits to the ICU - 7537"
   ]
  },
  {
   "cell_type": "code",
   "execution_count": 8,
   "metadata": {},
   "outputs": [
    {
     "name": "stdout",
     "output_type": "stream",
     "text": [
      "7537\n"
     ]
    }
   ],
   "source": [
    "print(len(multipleVisits))"
   ]
  },
  {
   "cell_type": "code",
   "execution_count": 9,
   "metadata": {},
   "outputs": [],
   "source": [
    "DM2multiVisits = []\n",
    "for patient in multipleVisits:\n",
    "    if patient in DM2patients:\n",
    "        DM2multiVisits.append(patient)"
   ]
  },
  {
   "cell_type": "markdown",
   "metadata": {},
   "source": [
    "The following list length represents how many of te multiple visit patients also have been diagnosed with DM2 - 2634"
   ]
  },
  {
   "cell_type": "code",
   "execution_count": 10,
   "metadata": {},
   "outputs": [
    {
     "name": "stdout",
     "output_type": "stream",
     "text": [
      "2634\n"
     ]
    }
   ],
   "source": [
    "print(len(DM2multiVisits))"
   ]
  },
  {
   "cell_type": "markdown",
   "metadata": {},
   "source": [
    "---\n",
    "\n",
    "The purpose of the following section is to show the distribution of multiple visit patients"
   ]
  },
  {
   "cell_type": "code",
   "execution_count": 11,
   "metadata": {},
   "outputs": [],
   "source": [
    "Num_Visits_Lib = {}\n",
    "for index, row in admissions.iterrows():\n",
    "    if(row['SUBJECT_ID'] in DM2multiVisits):\n",
    "        if(row['SUBJECT_ID'] in Num_Visits_Lib):\n",
    "            Num_Visits_Lib[row['SUBJECT_ID']] += 1;\n",
    "        else:\n",
    "            Num_Visits_Lib[row['SUBJECT_ID']] = 1; \n",
    "    "
   ]
  },
  {
   "cell_type": "code",
   "execution_count": 12,
   "metadata": {},
   "outputs": [],
   "source": [
    "with open('num_visits_lib.txt', 'w') as f:\n",
    "    json.dump(Num_Visits_Lib, f)"
   ]
  },
  {
   "cell_type": "code",
   "execution_count": 13,
   "metadata": {},
   "outputs": [],
   "source": [
    "df = pd.DataFrame(columns=['patient','times_visited'])\n",
    "for patient,visits in Num_Visits_Lib.items():\n",
    "    new_row = pd.DataFrame([[patient,visits]],columns=['patient','times_visited'])\n",
    "    df = df.append(new_row)    "
   ]
  },
  {
   "cell_type": "code",
   "execution_count": 14,
   "metadata": {},
   "outputs": [
    {
     "data": {
      "image/png": "[encoded data removed]",
      "text/plain": [
       "<Figure size 432x288 with 1 Axes>"
      ]
     },
     "metadata": {},
     "output_type": "display_data"
    }
   ],
   "source": [
    "sns.set(style=\"whitegrid\")\n",
    "ax = sns.countplot(x=\"times_visited\", data=df)"
   ]
  },
  {
   "cell_type": "markdown",
   "metadata": {},
   "source": [
    "-----\n",
    "The following code find all patients who meet the above criteria (DM2 and  multiple visits) and places them in a dataframe named masterDF"
   ]
  },
  {
   "cell_type": "code",
   "execution_count": 15,
   "metadata": {},
   "outputs": [],
   "source": [
    "Hadm_Lib = {}\n",
    "for index,row in admissions.iterrows():\n",
    "    if(row['SUBJECT_ID'] in DM2multiVisits):\n",
    "        Hadm_Lib.setdefault(row['SUBJECT_ID'], []).append(row['HADM_ID'])"
   ]
  },
  {
   "cell_type": "code",
   "execution_count": 17,
   "metadata": {},
   "outputs": [],
   "source": [
    "all_hadm = []\n",
    "for patient,hadm in Hadm_Lib.items():\n",
    "    for x in hadm:\n",
    "        all_hadm.append(x)  "
   ]
  },
  {
   "cell_type": "code",
   "execution_count": 18,
   "metadata": {},
   "outputs": [],
   "source": [
    "All_Hadm_Lib = {}\n",
    "for index,row in diagnoses.iterrows():\n",
    "    if(row['HADM_ID'] in all_hadm):\n",
    "        All_Hadm_Lib.setdefault(row['HADM_ID'], []).append(row['ICD9_CODE'])"
   ]
  },
  {
   "cell_type": "code",
   "execution_count": 16,
   "metadata": {},
   "outputs": [],
   "source": [
    "def common_member(a, b): \n",
    "    a_set = set(a) \n",
    "    b_set = set(b) \n",
    "    if (a_set & b_set): \n",
    "        return True \n",
    "    else: \n",
    "        return False"
   ]
  },
  {
   "cell_type": "code",
   "execution_count": 19,
   "metadata": {},
   "outputs": [],
   "source": [
    "masterDF = pd.DataFrame(columns=['hadm_id','diabeties code'])\n",
    "for hadm,codes in All_Hadm_Lib.items():\n",
    "    code_list = []\n",
    "    for code in codes:\n",
    "        code_list.append(code)\n",
    "    new_row = pd.DataFrame([[hadm,(common_member(code_list,DM2codes))]],columns=['hadm_id','diabeties code'])\n",
    "    masterDF = masterDF.append(new_row)       "
   ]
  },
  {
   "cell_type": "markdown",
   "metadata": {},
   "source": [
    "Blow is an example of the masterDF dataframe"
   ]
  },
  {
   "cell_type": "code",
   "execution_count": 20,
   "metadata": {},
   "outputs": [
    {
     "name": "stdout",
     "output_type": "stream",
     "text": [
      "  hadm_id diabeties code\n",
      "0  140784           True\n",
      "0  164853           True\n",
      "0  113323           True\n",
      "0  198214           True\n",
      "0  192180          False\n"
     ]
    }
   ],
   "source": [
    "print(masterDF.head(5))"
   ]
  },
  {
   "cell_type": "markdown",
   "metadata": {},
   "source": [
    "----\n",
    "The purpose of the following section is to add time of visit to the masterDF dataframe."
   ]
  },
  {
   "cell_type": "code",
   "execution_count": 23,
   "metadata": {},
   "outputs": [],
   "source": [
    "masterDF['SUBJECT_ID'] = 0\n",
    "masterDF = masterDF.reset_index(drop=True)"
   ]
  },
  {
   "cell_type": "code",
   "execution_count": 24,
   "metadata": {},
   "outputs": [],
   "source": [
    "for patient,hadm in Hadm_Lib.items():\n",
    "    for index,row in masterDF.iterrows():\n",
    "        if row['hadm_id'] in hadm:\n",
    "            masterDF.at[index, 'SUBJECT_ID'] = patient"
   ]
  },
  {
   "cell_type": "code",
   "execution_count": 25,
   "metadata": {},
   "outputs": [],
   "source": [
    "timeDF = pd.DataFrame(columns=['hadm_id','time'])\n",
    "\n",
    "for index,row in admissions.iterrows():\n",
    "    if(row['HADM_ID'] in all_hadm):\n",
    "        new_row = pd.DataFrame([[row['HADM_ID'],row['ADMITTIME']]],columns=['hadm_id','time'])\n",
    "        timeDF = timeDF.append(new_row) "
   ]
  },
  {
   "cell_type": "code",
   "execution_count": 26,
   "metadata": {},
   "outputs": [
    {
     "name": "stdout",
     "output_type": "stream",
     "text": [
      "  hadm_id                 time\n",
      "0  174486  2197-12-06 07:13:00\n",
      "0  145674  2198-08-02 04:49:00\n",
      "0  122609  2198-11-01 22:36:00\n",
      "0  101651  2199-10-20 12:05:00\n",
      "0  117876  2199-12-21 22:37:00\n"
     ]
    }
   ],
   "source": [
    "print(timeDF.head(5))"
   ]
  },
  {
   "cell_type": "code",
   "execution_count": 27,
   "metadata": {},
   "outputs": [],
   "source": [
    "masterDF = pd.merge(left=masterDF,right=timeDF, left_on='hadm_id', right_on='hadm_id')"
   ]
  },
  {
   "cell_type": "code",
   "execution_count": 28,
   "metadata": {},
   "outputs": [],
   "source": [
    "#print(masterDF)"
   ]
  },
  {
   "cell_type": "markdown",
   "metadata": {},
   "source": [
    "---\n",
    "THe remaining section does two things:\n",
    "1. Finds only patients who have had a change in their DM2 status over multiple visits\n",
    "2. Prepare the dataframe for the scatter plot graph (adding point color and the visit number for each patients visit"
   ]
  },
  {
   "cell_type": "code",
   "execution_count": 29,
   "metadata": {},
   "outputs": [],
   "source": [
    "POI = []\n",
    "for index,row in masterDF.iterrows():\n",
    "    if(row['diabeties code'] == False):\n",
    "        POI.append(row['SUBJECT_ID'])\n",
    "POI = list(set(POI))\n",
    "\n"
   ]
  },
  {
   "cell_type": "code",
   "execution_count": 30,
   "metadata": {},
   "outputs": [],
   "source": [
    "masterDF['time']=pd.to_datetime(masterDF['time'])\n",
    "masterDF = masterDF.sort_values(by=['time'])"
   ]
  },
  {
   "cell_type": "code",
   "execution_count": 31,
   "metadata": {},
   "outputs": [],
   "source": [
    "def pointColor (row):\n",
    "    if row['diabeties code'] == True:\n",
    "        return 'red'\n",
    "    if row['diabeties code'] == False:\n",
    "        return 'green'\n",
    "    return 'error'"
   ]
  },
  {
   "cell_type": "code",
   "execution_count": 32,
   "metadata": {},
   "outputs": [],
   "source": [
    "masterDF['DiagnosesColor'] = masterDF.apply (lambda row: pointColor (row),axis=1)"
   ]
  },
  {
   "cell_type": "code",
   "execution_count": 34,
   "metadata": {},
   "outputs": [],
   "source": [
    "masterDF = pd.read_csv('masterPatient.csv')\n",
    "#masterDF = masterDF.drop(['Unnamed: 0'],axis=1)\n",
    "masterDF = masterDF.set_index('hadm_id')\n",
    "masterDF['visit_num'] = 0"
   ]
  },
  {
   "cell_type": "code",
   "execution_count": 35,
   "metadata": {},
   "outputs": [
    {
     "name": "stderr",
     "output_type": "stream",
     "text": [
      "c:\\users\\ian\\appdata\\local\\programs\\python\\python36\\lib\\site-packages\\ipykernel_launcher.py:3: SettingWithCopyWarning: \n",
      "A value is trying to be set on a copy of a slice from a DataFrame.\n",
      "Try using .loc[row_indexer,col_indexer] = value instead\n",
      "\n",
      "See the caveats in the documentation: http://pandas.pydata.org/pandas-docs/stable/indexing.html#indexing-view-versus-copy\n",
      "  This is separate from the ipykernel package so we can avoid doing imports until\n"
     ]
    }
   ],
   "source": [
    "for patient in POI:\n",
    "    df = masterDF.loc[masterDF['SUBJECT_ID'] == patient]\n",
    "    df['hadm_id'] = df.index\n",
    "    df = df.reset_index(drop=True)\n",
    "    for index,row in df.iterrows():                \n",
    "        masterDF.at[row['hadm_id'],'visit_num'] = (index+1)"
   ]
  },
  {
   "cell_type": "code",
   "execution_count": 36,
   "metadata": {},
   "outputs": [],
   "source": [
    "for index,row in masterDF.iterrows():\n",
    "    if(row['SUBJECT_ID'] not in POI):\n",
    "        masterDF = masterDF.drop(index)"
   ]
  },
  {
   "cell_type": "code",
   "execution_count": 37,
   "metadata": {},
   "outputs": [
    {
     "data": {
      "text/plain": [
       "\" TEST\\nfor patient in POI:\\n    df = masterDF.loc[masterDF['SUBJECT_ID'] == patient]\\n    if(patient == 9319):\\n        print('yes')\\nprint('no')\\n\""
      ]
     },
     "execution_count": 37,
     "metadata": {},
     "output_type": "execute_result"
    }
   ],
   "source": [
    "''' TEST\n",
    "for patient in POI:\n",
    "    df = masterDF.loc[masterDF['SUBJECT_ID'] == patient]\n",
    "    if(patient == 9319):\n",
    "        print('yes')\n",
    "print('no')\n",
    "'''"
   ]
  },
  {
   "cell_type": "code",
   "execution_count": 38,
   "metadata": {},
   "outputs": [],
   "source": [
    "#masterDF.to_csv(r'masterPatient.csv')"
   ]
  }
 ],
 "metadata": {
  "kernelspec": {
   "display_name": "Python 3",
   "language": "python",
   "name": "python3"
  },
  "language_info": {
   "codemirror_mode": {
    "name": "ipython",
    "version": 3
   },
   "file_extension": ".py",
   "mimetype": "text/x-python",
   "name": "python",
   "nbconvert_exporter": "python",
   "pygments_lexer": "ipython3",
   "version": "3.6.1"
  }
 },
 "nbformat": 4,
 "nbformat_minor": 2
}
