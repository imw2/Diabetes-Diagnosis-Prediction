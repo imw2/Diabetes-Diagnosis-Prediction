{
 "cells": [
  {
   "cell_type": "markdown",
   "metadata": {},
   "source": [
    "# Find Patients with DM2, Multiple Visits, and a Change in DM2 Diagnoses Over Time"
   ]
  },
  {
   "cell_type": "code",
   "execution_count": 7,
   "metadata": {},
   "outputs": [],
   "source": [
    "import pandas as pd\n",
    "import seaborn as sns\n",
    "import matplotlib.pyplot as plt\n",
    "import json"
   ]
  },
  {
   "cell_type": "code",
   "execution_count": 46,
   "metadata": {},
   "outputs": [],
   "source": [
    "diagnoses = pd.read_csv('DIAGNOSES_ICD.csv')\n",
    "admissions = pd.read_csv('ADMISSIONS.csv')"
   ]
  },
  {
   "cell_type": "markdown",
   "metadata": {},
   "source": [
    "Any of the following ICD9 Codes would indicate that a patient has DM2"
   ]
  },
  {
   "cell_type": "code",
   "execution_count": 9,
   "metadata": {},
   "outputs": [],
   "source": [
    "DMcodes = ['25000','25002','25010','25012','25020','25022','25030','25032',\n",
    "         '25040','25042','25050','25052','25060','25062','25070','25072',\n",
    "         '25080','25082''25090','25092','V5867', '25001','25003','25011','25013','25021','25023','25031','25033',\n",
    "         '25041','25043','25051','25053','25061','25063','25071','25073',\n",
    "         '25081','25083''25091','25093']"
   ]
  },
  {
   "cell_type": "code",
   "execution_count": 32,
   "metadata": {},
   "outputs": [],
   "source": [
    "DMpatients = []\n",
    "\n",
    "for index,row in diagnoses.iterrows():\n",
    "    if(row['ICD9_CODE'] in DMcodes):\n",
    "        DMpatients.append(row['HADM_ID'])\n",
    "DMpatients = list(set(DMpatients))"
   ]
  },
  {
   "cell_type": "code",
   "execution_count": 35,
   "metadata": {},
   "outputs": [],
   "source": [
    "masterDF = pd.DataFrame(columns=['hadm_id'])\n",
    "for patient in DMpatients:\n",
    "    new_row = pd.DataFrame([[patient]],columns=['hadm_id'])\n",
    "    masterDF = masterDF.append(new_row)       "
   ]
  },
  {
   "cell_type": "code",
   "execution_count": 36,
   "metadata": {},
   "outputs": [],
   "source": [
    "masterDF['subject_id'] = 0\n",
    "masterDF = masterDF.reset_index(drop=True)"
   ]
  },
  {
   "cell_type": "code",
   "execution_count": 47,
   "metadata": {},
   "outputs": [],
   "source": [
    "#print(admissions.head())\n",
    "admissions = admissions.set_index('HADM_ID')\n",
    "#print(admissions.head())"
   ]
  },
  {
   "cell_type": "code",
   "execution_count": 48,
   "metadata": {},
   "outputs": [],
   "source": [
    "for index,row in masterDF.iterrows():\n",
    "    patient = admissions.loc[row['hadm_id'],'SUBJECT_ID']\n",
    "    masterDF.at[index, 'subject_id'] = patient"
   ]
  },
  {
   "cell_type": "code",
   "execution_count": 51,
   "metadata": {},
   "outputs": [],
   "source": [
    "admissions = pd.read_csv('ADMISSIONS.csv')"
   ]
  },
  {
   "cell_type": "code",
   "execution_count": 52,
   "metadata": {},
   "outputs": [],
   "source": [
    "timeDF = pd.DataFrame(columns=['hadm_id','time'])\n",
    "\n",
    "for index,row in admissions.iterrows():\n",
    "    if(row['HADM_ID'] in DMpatients):\n",
    "        new_row = pd.DataFrame([[row['HADM_ID'],row['ADMITTIME']]],columns=['hadm_id','time'])\n",
    "        timeDF = timeDF.append(new_row) "
   ]
  },
  {
   "cell_type": "code",
   "execution_count": 53,
   "metadata": {},
   "outputs": [],
   "source": [
    "masterDF = pd.merge(left=masterDF,right=timeDF, left_on='hadm_id', right_on='hadm_id')"
   ]
  },
  {
   "cell_type": "code",
   "execution_count": 54,
   "metadata": {},
   "outputs": [],
   "source": [
    "masterDF['time']=pd.to_datetime(masterDF['time'])\n",
    "masterDF = masterDF.sort_values(by=['time'])"
   ]
  },
  {
   "cell_type": "code",
   "execution_count": 55,
   "metadata": {},
   "outputs": [],
   "source": [
    "#masterDF = pd.read_csv('masterPatient.csv')\n",
    "#masterDF = masterDF.drop(['Unnamed: 0'],axis=1)\n",
    "masterDF = masterDF.set_index('hadm_id')\n",
    "masterDF['visit_num'] = 0"
   ]
  },
  {
   "cell_type": "code",
   "execution_count": 56,
   "metadata": {},
   "outputs": [],
   "source": [
    "DMsubjects = []\n",
    "for index,row in diagnoses.iterrows():\n",
    "    if(row['ICD9_CODE'] in DMcodes):\n",
    "        DMsubjects.append(row['SUBJECT_ID'])\n",
    "DMsubjects = list(set(DMsubjects))"
   ]
  },
  {
   "cell_type": "code",
   "execution_count": 61,
   "metadata": {},
   "outputs": [
    {
     "name": "stderr",
     "output_type": "stream",
     "text": [
      "c:\\users\\ian\\appdata\\local\\programs\\python\\python36\\lib\\site-packages\\ipykernel_launcher.py:3: SettingWithCopyWarning: \n",
      "A value is trying to be set on a copy of a slice from a DataFrame.\n",
      "Try using .loc[row_indexer,col_indexer] = value instead\n",
      "\n",
      "See the caveats in the documentation: http://pandas.pydata.org/pandas-docs/stable/indexing.html#indexing-view-versus-copy\n",
      "  This is separate from the ipykernel package so we can avoid doing imports until\n"
     ]
    }
   ],
   "source": [
    "for patient in DMsubjects:\n",
    "    df = masterDF.loc[masterDF['subject_id'] == patient]\n",
    "    df['hadm_id'] = df.index\n",
    "    df = df.reset_index(drop=True)\n",
    "    for index,row in df.iterrows():                \n",
    "        masterDF.at[row['hadm_id'],'visit_num'] = (index+1)"
   ]
  },
  {
   "cell_type": "code",
   "execution_count": 62,
   "metadata": {},
   "outputs": [
    {
     "name": "stdout",
     "output_type": "stream",
     "text": [
      "         subject_id                time  visit_num\n",
      "hadm_id                                           \n",
      "167070         4521 2100-06-28 19:29:00          1\n",
      "137275         9319 2100-07-01 12:00:00          1\n",
      "125380        31585 2100-07-02 19:28:00          1\n",
      "132722         1426 2100-07-07 14:59:00          1\n",
      "114310         6503 2100-07-11 06:15:00          1\n"
     ]
    }
   ],
   "source": [
    "print(masterDF.head())"
   ]
  },
  {
   "cell_type": "code",
   "execution_count": 63,
   "metadata": {},
   "outputs": [],
   "source": [
    "masterDF.to_csv(r'newMasterPatient.csv')"
   ]
  },
  {
   "cell_type": "code",
   "execution_count": null,
   "metadata": {},
   "outputs": [],
   "source": []
  }
 ],
 "metadata": {
  "kernelspec": {
   "display_name": "Python 3",
   "language": "python",
   "name": "python3"
  },
  "language_info": {
   "codemirror_mode": {
    "name": "ipython",
    "version": 3
   },
   "file_extension": ".py",
   "mimetype": "text/x-python",
   "name": "python",
   "nbconvert_exporter": "python",
   "pygments_lexer": "ipython3",
   "version": "3.6.1"
  }
 },
 "nbformat": 4,
 "nbformat_minor": 2
}
