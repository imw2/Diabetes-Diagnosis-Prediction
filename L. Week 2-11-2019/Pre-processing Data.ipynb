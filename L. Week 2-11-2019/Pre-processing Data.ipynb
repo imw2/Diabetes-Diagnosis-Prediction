{
 "cells": [
  {
   "cell_type": "markdown",
   "metadata": {},
   "source": [
    "# Pre-processing Data"
   ]
  },
  {
   "cell_type": "markdown",
   "metadata": {},
   "source": [
    "Address overfitting concerns"
   ]
  },
  {
   "cell_type": "code",
   "execution_count": 123,
   "metadata": {},
   "outputs": [],
   "source": [
    "import pandas as pd\n",
    "import seaborn as sns\n",
    "import matplotlib.pyplot as plt\n",
    "import json\n",
    "from datetime import datetime\n",
    "import numpy as np"
   ]
  },
  {
   "cell_type": "code",
   "execution_count": 124,
   "metadata": {},
   "outputs": [],
   "source": [
    "DM = pd.read_csv('DMChartEvents.csv',usecols=[\"hadm_id\", \"subject_id\", \"itemid\", \"charttime\",\"valuenum\"])\n",
    "DM = DM.sort_values(by=['charttime'])\n",
    "Admissions = pd.read_csv('Admissions.csv',index_col=2)\n",
    "Patients = pd.read_csv('Patients.csv',index_col=1)"
   ]
  },
  {
   "cell_type": "code",
   "execution_count": 125,
   "metadata": {},
   "outputs": [],
   "source": [
    "hadm_id = []\n",
    "subject_id = []\n",
    "for index,row in DM.iterrows():\n",
    "    if(row['hadm_id'] not in hadm_id):\n",
    "        hadm_id.append(row['hadm_id'])\n",
    "        subject_id.append(row['subject_id'])"
   ]
  },
  {
   "cell_type": "code",
   "execution_count": 126,
   "metadata": {},
   "outputs": [],
   "source": [
    "d = {'hadm_id': hadm_id, 'subject_id': subject_id}\n",
    "finalDF = pd.DataFrame(data=d)\n",
    "finalDF['expire_flag'] = 0"
   ]
  },
  {
   "cell_type": "code",
   "execution_count": 127,
   "metadata": {},
   "outputs": [],
   "source": [
    "for index,row in finalDF.iterrows():\n",
    "    expire_flag = Admissions.loc[row['hadm_id'],'HOSPITAL_EXPIRE_FLAG']\n",
    "    finalDF.at[index,'expire_flag'] = expire_flag"
   ]
  },
  {
   "cell_type": "code",
   "execution_count": 128,
   "metadata": {},
   "outputs": [
    {
     "data": {
      "image/png": "[encoded data removed]",
      "text/plain": [
       "<Figure size 432x288 with 1 Axes>"
      ]
     },
     "metadata": {},
     "output_type": "display_data"
    }
   ],
   "source": [
    "alive = 0\n",
    "dead = 0\n",
    "for index,row in finalDF.iterrows():\n",
    "    if(row['expire_flag'] == 1):\n",
    "        dead = dead+1\n",
    "    else:\n",
    "        alive = alive+1\n",
    "        \n",
    "labels = 'Alive', 'Not Alive'\n",
    "sizes = [alive,dead]\n",
    "\n",
    "fig1, ax1 = plt.subplots()\n",
    "ax1.pie(sizes, labels=labels, autopct='%1.1f%%',\n",
    "        shadow=True, startangle=90)\n",
    "ax1.axis('equal')  \n",
    "\n",
    "plt.show()"
   ]
  },
  {
   "cell_type": "code",
   "execution_count": 129,
   "metadata": {},
   "outputs": [],
   "source": [
    "finalDF['diagnosis'] = ''\n",
    "for index,row in finalDF.iterrows():\n",
    "    diagnosis = Admissions.loc[row['hadm_id'],'DIAGNOSIS']\n",
    "    finalDF.at[index,'diagnosis'] = diagnosis"
   ]
  },
  {
   "cell_type": "code",
   "execution_count": 130,
   "metadata": {},
   "outputs": [],
   "source": [
    "finalDF['admission_type'] = ''\n",
    "for index,row in finalDF.iterrows():\n",
    "    admission_type = Admissions.loc[row['hadm_id'],'ADMISSION_TYPE']\n",
    "    finalDF.at[index,'admission_type'] = admission_type"
   ]
  },
  {
   "cell_type": "code",
   "execution_count": 131,
   "metadata": {},
   "outputs": [],
   "source": [
    "finalDF['age'] = 0\n",
    "for index,row in finalDF.iterrows():\n",
    "    birth = Patients.loc[row['subject_id'],'DOB']\n",
    "    birth = datetime.strptime(birth, '%Y-%m-%d %H:%M:%S')\n",
    "    birth_year = birth.year\n",
    "    current = Admissions.loc[row['hadm_id'],'ADMITTIME']\n",
    "    current = datetime.strptime(current, '%Y-%m-%d %H:%M:%S')\n",
    "    current_year = current.year\n",
    "    age = current_year-birth_year\n",
    "    finalDF.at[index,'age'] = age"
   ]
  },
  {
   "cell_type": "code",
   "execution_count": 132,
   "metadata": {},
   "outputs": [],
   "source": [
    "glucoseNumbers = {}\n",
    "for index,row in DM.iterrows():\n",
    "    glucoseNumbers.setdefault(row['hadm_id'], []).append(row['valuenum'])"
   ]
  },
  {
   "cell_type": "code",
   "execution_count": 133,
   "metadata": {},
   "outputs": [],
   "source": [
    "finalDF['glucose'] = np.array\n",
    "for index,row in finalDF.iterrows():\n",
    "    glucose = glucoseNumbers[row['hadm_id']]\n",
    "    finalDF.at[index,'glucose'] = glucose"
   ]
  },
  {
   "cell_type": "code",
   "execution_count": 137,
   "metadata": {},
   "outputs": [],
   "source": [
    "finalDF.to_csv('finalDF.csv', mode='w')"
   ]
  },
  {
   "cell_type": "code",
   "execution_count": 138,
   "metadata": {},
   "outputs": [
    {
     "name": "stdout",
     "output_type": "stream",
     "text": [
      "   hadm_id  subject_id  expire_flag                            diagnosis  \\\n",
      "0   101216        8231            0          PERIPJERAL VASCULAR DISEASE   \n",
      "1   123860         188            0               HEPATIC ENCEPHALOPATHY   \n",
      "2   194053        9965            0                       ABDOMINAL PAIN   \n",
      "3   106909         286            0            ASTHMA, COPD EXACERBATION   \n",
      "4   173194       18902            0                   CAD, RENAL FAILURE   \n",
      "5   126769         671            0              SUBARACHNOID HEMORRHAGE   \n",
      "6   117876         357            0                ALTERED MENTAL STATUS   \n",
      "7   171423        4392            0                           BACTEREMIA   \n",
      "8   169538         402            0       PULMONARY HYPERTENSION;SYNCOPE   \n",
      "9   120845         263            0  PERIPHERAL INSUFFICIENCY;RIGHT FOOT   \n",
      "\n",
      "  admission_type  age                                            glucose  \n",
      "0      EMERGENCY   78  [71.0, 247.0, 152.0, 160.0, 121.0, 96.0, 63.0,...  \n",
      "1      EMERGENCY   55  [160.0, 115.0, 99.0, 109.0, 100.0, 118.0, 123....  \n",
      "2      EMERGENCY  307         [224.0, 214.0, 183.0, 172.0, 101.0, 121.0]  \n",
      "3      EMERGENCY   85  [200.0, 154.0, 154.0, 102.0, 167.0, 147.0, 147...  \n",
      "4      EMERGENCY   78  [114.0, 99.0, 129.0, 79.0, 91.0, 140.0, 120.0,...  \n",
      "5      EMERGENCY   47  [76.0, 129.0, 117.0, 102.0, 96.0, 126.0, 79.0,...  \n",
      "6      EMERGENCY   64  [103.0, 138.0, 149.0, 376.0, 195.0, 78.0, 75.0...  \n",
      "7      EMERGENCY   48                                     [197.0, 128.0]  \n",
      "8      EMERGENCY   49  [259.0, 121.0, 234.0, 102.0, 102.0, 188.0, 232...  \n",
      "9      EMERGENCY   56         [130.0, 130.0, 429.0, 429.0, 299.0, 299.0]  \n"
     ]
    }
   ],
   "source": [
    "print(finalDF.head(10))"
   ]
  },
  {
   "cell_type": "code",
   "execution_count": 139,
   "metadata": {},
   "outputs": [],
   "source": [
    "from keras.models import Sequential\n",
    "from keras.layers import Dense\n",
    "from keras.wrappers.scikit_learn import KerasClassifier\n",
    "from keras.utils import np_utils\n",
    "from sklearn.model_selection import cross_val_score\n",
    "from sklearn.model_selection import KFold\n",
    "from sklearn.preprocessing import LabelEncoder\n",
    "from sklearn.pipeline import Pipeline"
   ]
  },
  {
   "cell_type": "code",
   "execution_count": 140,
   "metadata": {},
   "outputs": [],
   "source": [
    "seed = 10\n",
    "np.random.seed(seed)"
   ]
  },
  {
   "cell_type": "code",
   "execution_count": 146,
   "metadata": {},
   "outputs": [],
   "source": [
    "finalDFnum = finalDF.values\n",
    "X = finalDFnum[:,3:6]\n",
    "Y = finalDFnum[:,2]"
   ]
  },
  {
   "cell_type": "code",
   "execution_count": 148,
   "metadata": {},
   "outputs": [],
   "source": [
    "def baseline_model():\n",
    "    model = Sequential()\n",
    "    model.add(Dense(8, input_dim=3, activation='relu'))\n",
    "    model.add(Dense(2, activation='softmax'))\n",
    "    model.compile(loss='categorical_crossentropy', optimizer='adam', metrics=['accuracy'])\n",
    "    return model"
   ]
  },
  {
   "cell_type": "code",
   "execution_count": 149,
   "metadata": {},
   "outputs": [],
   "source": [
    "estimator = KerasClassifier(build_fn=baseline_model, epochs=200, batch_size=5, verbose=0)"
   ]
  },
  {
   "cell_type": "code",
   "execution_count": 150,
   "metadata": {},
   "outputs": [],
   "source": [
    "kfold = KFold(n_splits=10, shuffle=True, random_state=seed)"
   ]
  },
  {
   "cell_type": "code",
   "execution_count": 152,
   "metadata": {},
   "outputs": [],
   "source": [
    "#results = cross_val_score(estimator, X, Y, cv=kfold)\n",
    "#print(\"Baseline: %.2f%% (%.2f%%)\" % (results.mean()*100, results.std()*100))"
   ]
  },
  {
   "cell_type": "code",
   "execution_count": null,
   "metadata": {},
   "outputs": [],
   "source": []
  }
 ],
 "metadata": {
  "kernelspec": {
   "display_name": "Python 3",
   "language": "python",
   "name": "python3"
  },
  "language_info": {
   "codemirror_mode": {
    "name": "ipython",
    "version": 3
   },
   "file_extension": ".py",
   "mimetype": "text/x-python",
   "name": "python",
   "nbconvert_exporter": "python",
   "pygments_lexer": "ipython3",
   "version": "3.6.1"
  }
 },
 "nbformat": 4,
 "nbformat_minor": 2
}
