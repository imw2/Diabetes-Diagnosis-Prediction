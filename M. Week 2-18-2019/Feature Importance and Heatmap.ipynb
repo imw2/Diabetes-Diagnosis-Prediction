{
 "cells": [
  {
   "cell_type": "markdown",
   "metadata": {},
   "source": [
    "# Analyzing Features"
   ]
  },
  {
   "cell_type": "code",
   "execution_count": 6,
   "metadata": {},
   "outputs": [],
   "source": [
    "import pandas as pd\n",
    "import seaborn as sns\n",
    "import matplotlib.pyplot as plt\n",
    "import json\n",
    "import numpy as np\n",
    "from sklearn.model_selection import train_test_split\n",
    "import itertools"
   ]
  },
  {
   "cell_type": "code",
   "execution_count": 12,
   "metadata": {},
   "outputs": [
    {
     "data": {
      "text/html": [
       "<div>\n",
       "<style scoped>\n",
       "    .dataframe tbody tr th:only-of-type {\n",
       "        vertical-align: middle;\n",
       "    }\n",
       "\n",
       "    .dataframe tbody tr th {\n",
       "        vertical-align: top;\n",
       "    }\n",
       "\n",
       "    .dataframe thead th {\n",
       "        text-align: right;\n",
       "    }\n",
       "</style>\n",
       "<table border=\"1\" class=\"dataframe\">\n",
       "  <thead>\n",
       "    <tr style=\"text-align: right;\">\n",
       "      <th></th>\n",
       "      <th>hadm_id</th>\n",
       "      <th>subject_id</th>\n",
       "      <th>expire_flag</th>\n",
       "      <th>diagnosis</th>\n",
       "      <th>admission_type</th>\n",
       "      <th>age</th>\n",
       "      <th>admission_type_encoded</th>\n",
       "      <th>0</th>\n",
       "      <th>1</th>\n",
       "      <th>2</th>\n",
       "      <th>...</th>\n",
       "      <th>c</th>\n",
       "      <th>d</th>\n",
       "      <th>e</th>\n",
       "      <th>f</th>\n",
       "      <th>g</th>\n",
       "      <th>h</th>\n",
       "      <th>i</th>\n",
       "      <th>j</th>\n",
       "      <th>k</th>\n",
       "      <th>l</th>\n",
       "    </tr>\n",
       "  </thead>\n",
       "  <tbody>\n",
       "    <tr>\n",
       "      <th>0</th>\n",
       "      <td>101216</td>\n",
       "      <td>8231</td>\n",
       "      <td>0</td>\n",
       "      <td>PERIPJERAL VASCULAR DISEASE</td>\n",
       "      <td>EMERGENCY</td>\n",
       "      <td>78</td>\n",
       "      <td>1</td>\n",
       "      <td>71.0</td>\n",
       "      <td>247.0</td>\n",
       "      <td>152.0</td>\n",
       "      <td>...</td>\n",
       "      <td>0.0</td>\n",
       "      <td>0.0</td>\n",
       "      <td>0.0</td>\n",
       "      <td>0.0</td>\n",
       "      <td>0.0</td>\n",
       "      <td>0.0</td>\n",
       "      <td>0.0</td>\n",
       "      <td>0.0</td>\n",
       "      <td>0.0</td>\n",
       "      <td>0.0</td>\n",
       "    </tr>\n",
       "    <tr>\n",
       "      <th>1</th>\n",
       "      <td>123860</td>\n",
       "      <td>188</td>\n",
       "      <td>0</td>\n",
       "      <td>HEPATIC ENCEPHALOPATHY</td>\n",
       "      <td>EMERGENCY</td>\n",
       "      <td>55</td>\n",
       "      <td>1</td>\n",
       "      <td>160.0</td>\n",
       "      <td>115.0</td>\n",
       "      <td>99.0</td>\n",
       "      <td>...</td>\n",
       "      <td>0.0</td>\n",
       "      <td>0.0</td>\n",
       "      <td>0.0</td>\n",
       "      <td>0.0</td>\n",
       "      <td>0.0</td>\n",
       "      <td>0.0</td>\n",
       "      <td>0.0</td>\n",
       "      <td>0.0</td>\n",
       "      <td>0.0</td>\n",
       "      <td>0.0</td>\n",
       "    </tr>\n",
       "    <tr>\n",
       "      <th>2</th>\n",
       "      <td>194053</td>\n",
       "      <td>9965</td>\n",
       "      <td>0</td>\n",
       "      <td>ABDOMINAL PAIN</td>\n",
       "      <td>EMERGENCY</td>\n",
       "      <td>307</td>\n",
       "      <td>1</td>\n",
       "      <td>224.0</td>\n",
       "      <td>214.0</td>\n",
       "      <td>183.0</td>\n",
       "      <td>...</td>\n",
       "      <td>0.0</td>\n",
       "      <td>0.0</td>\n",
       "      <td>0.0</td>\n",
       "      <td>0.0</td>\n",
       "      <td>0.0</td>\n",
       "      <td>0.0</td>\n",
       "      <td>0.0</td>\n",
       "      <td>0.0</td>\n",
       "      <td>0.0</td>\n",
       "      <td>0.0</td>\n",
       "    </tr>\n",
       "    <tr>\n",
       "      <th>3</th>\n",
       "      <td>106909</td>\n",
       "      <td>286</td>\n",
       "      <td>0</td>\n",
       "      <td>ASTHMA, COPD EXACERBATION</td>\n",
       "      <td>EMERGENCY</td>\n",
       "      <td>85</td>\n",
       "      <td>1</td>\n",
       "      <td>200.0</td>\n",
       "      <td>154.0</td>\n",
       "      <td>154.0</td>\n",
       "      <td>...</td>\n",
       "      <td>35.0</td>\n",
       "      <td>0.0</td>\n",
       "      <td>0.0</td>\n",
       "      <td>0.0</td>\n",
       "      <td>0.0</td>\n",
       "      <td>0.0</td>\n",
       "      <td>0.0</td>\n",
       "      <td>0.0</td>\n",
       "      <td>0.0</td>\n",
       "      <td>0.0</td>\n",
       "    </tr>\n",
       "    <tr>\n",
       "      <th>4</th>\n",
       "      <td>173194</td>\n",
       "      <td>18902</td>\n",
       "      <td>0</td>\n",
       "      <td>CAD, RENAL FAILURE</td>\n",
       "      <td>EMERGENCY</td>\n",
       "      <td>78</td>\n",
       "      <td>1</td>\n",
       "      <td>114.0</td>\n",
       "      <td>99.0</td>\n",
       "      <td>129.0</td>\n",
       "      <td>...</td>\n",
       "      <td>0.0</td>\n",
       "      <td>0.0</td>\n",
       "      <td>0.0</td>\n",
       "      <td>0.0</td>\n",
       "      <td>0.0</td>\n",
       "      <td>0.0</td>\n",
       "      <td>0.0</td>\n",
       "      <td>0.0</td>\n",
       "      <td>0.0</td>\n",
       "      <td>0.0</td>\n",
       "    </tr>\n",
       "  </tbody>\n",
       "</table>\n",
       "<p>5 rows × 469 columns</p>\n",
       "</div>"
      ],
      "text/plain": [
       "   hadm_id  subject_id  expire_flag                    diagnosis  \\\n",
       "0   101216        8231            0  PERIPJERAL VASCULAR DISEASE   \n",
       "1   123860         188            0       HEPATIC ENCEPHALOPATHY   \n",
       "2   194053        9965            0               ABDOMINAL PAIN   \n",
       "3   106909         286            0    ASTHMA, COPD EXACERBATION   \n",
       "4   173194       18902            0           CAD, RENAL FAILURE   \n",
       "\n",
       "  admission_type  age  admission_type_encoded      0      1      2 ...      c  \\\n",
       "0      EMERGENCY   78                       1   71.0  247.0  152.0 ...    0.0   \n",
       "1      EMERGENCY   55                       1  160.0  115.0   99.0 ...    0.0   \n",
       "2      EMERGENCY  307                       1  224.0  214.0  183.0 ...    0.0   \n",
       "3      EMERGENCY   85                       1  200.0  154.0  154.0 ...   35.0   \n",
       "4      EMERGENCY   78                       1  114.0   99.0  129.0 ...    0.0   \n",
       "\n",
       "     d    e    f    g    h    i    j    k    l  \n",
       "0  0.0  0.0  0.0  0.0  0.0  0.0  0.0  0.0  0.0  \n",
       "1  0.0  0.0  0.0  0.0  0.0  0.0  0.0  0.0  0.0  \n",
       "2  0.0  0.0  0.0  0.0  0.0  0.0  0.0  0.0  0.0  \n",
       "3  0.0  0.0  0.0  0.0  0.0  0.0  0.0  0.0  0.0  \n",
       "4  0.0  0.0  0.0  0.0  0.0  0.0  0.0  0.0  0.0  \n",
       "\n",
       "[5 rows x 469 columns]"
      ]
     },
     "metadata": {},
     "output_type": "display_data"
    }
   ],
   "source": [
    "df = pd.read_csv('finalDF.csv',index_col=0)\n",
    "df = df.drop(columns=['glucose','diagnosis_tokenized'])\n",
    "display(df.head())"
   ]
  },
  {
   "cell_type": "code",
   "execution_count": 8,
   "metadata": {},
   "outputs": [],
   "source": [
    "overfitting = df.loc[df['expire_flag'] == 1]\n",
    "\n",
    "df = df.append(overfitting,ignore_index=True)\n",
    "df = df.append(overfitting,ignore_index=True)\n",
    "df = df.append(overfitting,ignore_index=True)\n",
    "df = df.append(overfitting,ignore_index=True)\n",
    "df = df.append(overfitting,ignore_index=True)"
   ]
  },
  {
   "cell_type": "code",
   "execution_count": 9,
   "metadata": {},
   "outputs": [
    {
     "name": "stdout",
     "output_type": "stream",
     "text": [
      "(1042, 469)\n"
     ]
    }
   ],
   "source": [
    "features = df.drop(columns=['hadm_id','subject_id','expire_flag',\n",
    "                            'diagnosis','admission_type'])\n",
    "pydf = df.values\n",
    "print(pydf.shape)\n",
    "X = pydf[:,5:470]\n",
    "y = pydf[:,2]"
   ]
  },
  {
   "cell_type": "markdown",
   "metadata": {},
   "source": [
    "# Feature Importance"
   ]
  },
  {
   "cell_type": "code",
   "execution_count": 10,
   "metadata": {},
   "outputs": [
    {
     "name": "stdout",
     "output_type": "stream",
     "text": [
      "Feature ranking:\n",
      "1. feature 0 (0.120392)\n",
      "2. feature 2 (0.104589)\n",
      "3. feature 452 (0.081707)\n",
      "4. feature 3 (0.070589)\n",
      "5. feature 453 (0.064856)\n",
      "6. feature 4 (0.054759)\n",
      "7. feature 5 (0.038704)\n",
      "8. feature 7 (0.030925)\n",
      "9. feature 1 (0.030680)\n",
      "10. feature 454 (0.030499)\n",
      "11. feature 9 (0.027492)\n",
      "12. feature 8 (0.026845)\n",
      "13. feature 6 (0.026694)\n",
      "14. feature 10 (0.014966)\n",
      "15. feature 14 (0.014681)\n",
      "16. feature 16 (0.014324)\n",
      "17. feature 13 (0.014050)\n",
      "18. feature 12 (0.014011)\n",
      "19. feature 11 (0.012183)\n",
      "20. feature 15 (0.012022)\n"
     ]
    },
    {
     "data": {
      "image/png": "[encoded data removed]",
      "text/plain": [
       "<Figure size 432x288 with 1 Axes>"
      ]
     },
     "metadata": {
      "needs_background": "light"
     },
     "output_type": "display_data"
    }
   ],
   "source": [
    "from sklearn.ensemble import ExtraTreesClassifier\n",
    "\n",
    "XImp = pydf[:,5:470]\n",
    "yImp = pydf[:,2]\n",
    "xImp = np.asarray(XImp,dtype=np.float64)\n",
    "yImp = np.asarray(yImp,dtype=np.float64)\n",
    "forest = ExtraTreesClassifier()\n",
    "forest.fit(XImp,yImp)\n",
    "importances = forest.feature_importances_\n",
    "std = np.std([tree.feature_importances_ for tree in forest.estimators_],\n",
    "             axis=0)\n",
    "indices = np.argsort(importances)[::-1]\n",
    "\n",
    "# Print the feature ranking\n",
    "print(\"Feature ranking:\")\n",
    "\n",
    "for f in range(20):\n",
    "    print(\"%d. feature %d (%f)\" % (f + 1, indices[f], importances[indices[f]]))\n",
    "\n",
    "# Plot the feature importances of the forest\n",
    "plt.figure()\n",
    "plt.title(\"Feature importances\")\n",
    "plt.bar(range(X.shape[1]), importances[indices],\n",
    "       color=\"r\", yerr=std[indices], align=\"center\")\n",
    "plt.xticks(range(X.shape[1]), indices)\n",
    "plt.xlim([-1, 19])\n",
    "plt.show()"
   ]
  },
  {
   "cell_type": "markdown",
   "metadata": {},
   "source": [
    "# Feature Correlation via Heatmap"
   ]
  },
  {
   "cell_type": "code",
   "execution_count": 11,
   "metadata": {},
   "outputs": [
    {
     "data": {
      "text/plain": [
       "<matplotlib.axes._subplots.AxesSubplot at 0x26cd816a630>"
      ]
     },
     "execution_count": 11,
     "metadata": {},
     "output_type": "execute_result"
    },
    {
     "data": {
      "image/png": "[encoded data removed]",
      "text/plain": [
       "<Figure size 792x648 with 2 Axes>"
      ]
     },
     "metadata": {
      "needs_background": "light"
     },
     "output_type": "display_data"
    }
   ],
   "source": [
    "import seaborn as sns\n",
    "d = df[['expire_flag','age','admission_type_encoded','0','1','2','3','4','5','a','b','c']].copy()\n",
    "corr = d.corr()\n",
    "mask = np.zeros_like(corr, dtype=np.bool)\n",
    "mask[np.triu_indices_from(mask)] = True\n",
    "f, ax = plt.subplots(figsize=(11, 9))\n",
    "cmap = sns.diverging_palette(220, 10, as_cmap=True)\n",
    "sns.heatmap(corr, mask=mask, cmap=cmap, vmax=.3, center=0,\n",
    "            square=True, linewidths=.5, cbar_kws={\"shrink\": .5})"
   ]
  },
  {
   "cell_type": "code",
   "execution_count": null,
   "metadata": {},
   "outputs": [],
   "source": []
  }
 ],
 "metadata": {
  "kernelspec": {
   "display_name": "Python 3",
   "language": "python",
   "name": "python3"
  },
  "language_info": {
   "codemirror_mode": {
    "name": "ipython",
    "version": 3
   },
   "file_extension": ".py",
   "mimetype": "text/x-python",
   "name": "python",
   "nbconvert_exporter": "python",
   "pygments_lexer": "ipython3",
   "version": "3.6.1"
  }
 },
 "nbformat": 4,
 "nbformat_minor": 2
}
